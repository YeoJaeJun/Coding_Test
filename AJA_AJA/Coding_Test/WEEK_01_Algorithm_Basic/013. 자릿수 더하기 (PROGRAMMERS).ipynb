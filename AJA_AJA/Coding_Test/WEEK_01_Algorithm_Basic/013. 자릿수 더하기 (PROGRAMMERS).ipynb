{
 "cells": [
  {
   "cell_type": "markdown",
   "id": "5b7cc351",
   "metadata": {},
   "source": [
    "# 013. 자릿수 더하기 (PROGRAMMERS)"
   ]
  },
  {
   "cell_type": "markdown",
   "id": "241dcaf3",
   "metadata": {},
   "source": [
    "- https://school.programmers.co.kr/learn/courses/30/lessons/12931"
   ]
  },
  {
   "cell_type": "markdown",
   "id": "88118fdb",
   "metadata": {},
   "source": [
    "### 문제 설명\n",
    "- 자연수 N이 주어지면, N의 각 자릿수의 합을 구해서 return 하는 solution 함수를 만들어 주세요. 예를들어 N = 123이면 1 + 2 + 3 = 6을 return 하면 됩니다.\n",
    "\n",
    "### 제한 사항\n",
    "- N의 범위 : 100,000,000 이하의 자연수\n",
    "\n",
    "### 입출력 예\n",
    "|N|answer|\n",
    "|-|-|\n",
    "|123|6|\n",
    "|987|24|"
   ]
  },
  {
   "cell_type": "markdown",
   "id": "1a828288",
   "metadata": {},
   "source": [
    "## Solution 1"
   ]
  },
  {
   "cell_type": "code",
   "execution_count": 13,
   "id": "42d78000",
   "metadata": {},
   "outputs": [],
   "source": [
    "def solution(N):\n",
    "    answer = 0\n",
    "    for i in range(len(str(N))):\n",
    "        answer += int(str(N)[i])\n",
    "    return answer"
   ]
  },
  {
   "cell_type": "code",
   "execution_count": 14,
   "id": "f3f7bc2f",
   "metadata": {},
   "outputs": [
    {
     "data": {
      "text/plain": [
       "6"
      ]
     },
     "execution_count": 14,
     "metadata": {},
     "output_type": "execute_result"
    }
   ],
   "source": [
    "solution(123)"
   ]
  },
  {
   "cell_type": "code",
   "execution_count": 15,
   "id": "cf1426f4",
   "metadata": {},
   "outputs": [
    {
     "data": {
      "text/plain": [
       "24"
      ]
     },
     "execution_count": 15,
     "metadata": {},
     "output_type": "execute_result"
    }
   ],
   "source": [
    "solution(987)"
   ]
  }
 ],
 "metadata": {
  "kernelspec": {
   "display_name": "Python 3 (ipykernel)",
   "language": "python",
   "name": "python3"
  },
  "language_info": {
   "codemirror_mode": {
    "name": "ipython",
    "version": 3
   },
   "file_extension": ".py",
   "mimetype": "text/x-python",
   "name": "python",
   "nbconvert_exporter": "python",
   "pygments_lexer": "ipython3",
   "version": "3.9.15"
  }
 },
 "nbformat": 4,
 "nbformat_minor": 5
}

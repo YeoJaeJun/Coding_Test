{
 "cells": [
  {
   "cell_type": "markdown",
   "id": "07b23da7",
   "metadata": {},
   "source": [
    "# 011. 행렬의 덧셈 (PROGRAMMERS) ★"
   ]
  },
  {
   "cell_type": "markdown",
   "id": "4d60ae04",
   "metadata": {},
   "source": [
    "- https://school.programmers.co.kr/learn/courses/30/lessons/12950"
   ]
  },
  {
   "cell_type": "markdown",
   "id": "96c5b2ff",
   "metadata": {},
   "source": [
    "### 문제 설명\n",
    "- 행렬의 덧셈은 행과 열의 크기가 같은 두 행렬의 같은 행, 같은 열의 값을 서로 더한 결과가 됩니다. 2개의 행렬 arr1과 arr2를 입력받아, 행렬 덧셈의 결과를 반환하는 함수, solution을 완성해주세요.\n",
    "\n",
    "### 제한 조건\n",
    "- 행렬 arr1, arr2의 행과 열의 길이는 500을 넘지 않습니다.\n",
    "\n",
    "### 입출력 예\n",
    "|arr1|arr2|return|\n",
    "|-|-|-|\n",
    "|[[1,2],[2,3]]|[[3,4],[5,6]]|[[4,6],[7,9]]|\n",
    "|[[1],[2]]|[[3],[4]]|[[4],[6]]|"
   ]
  },
  {
   "cell_type": "markdown",
   "id": "bf5c0e90",
   "metadata": {},
   "source": [
    "## Solution 1"
   ]
  },
  {
   "cell_type": "code",
   "execution_count": 8,
   "id": "98417404",
   "metadata": {},
   "outputs": [],
   "source": [
    "def solution(arr1, arr2):\n",
    "    answer = []\n",
    "    for i in range(len(arr1)):\n",
    "        answer.append([])\n",
    "        for j in range(len(arr1[i])):\n",
    "            answer[i].append( arr1[i][j] + arr2[i][j] )\n",
    "    return answer"
   ]
  },
  {
   "cell_type": "code",
   "execution_count": 9,
   "id": "0d0692b1",
   "metadata": {},
   "outputs": [
    {
     "data": {
      "text/plain": [
       "[[4, 6], [7, 9]]"
      ]
     },
     "execution_count": 9,
     "metadata": {},
     "output_type": "execute_result"
    }
   ],
   "source": [
    "solution([[1,2], [2,3]], [[3,4], [5,6]])"
   ]
  },
  {
   "cell_type": "code",
   "execution_count": 10,
   "id": "914c1889",
   "metadata": {},
   "outputs": [
    {
     "data": {
      "text/plain": [
       "[[4], [6]]"
      ]
     },
     "execution_count": 10,
     "metadata": {},
     "output_type": "execute_result"
    }
   ],
   "source": [
    "solution([[1], [2]], [[3], [4]])"
   ]
  },
  {
   "cell_type": "markdown",
   "id": "1e656a3a",
   "metadata": {},
   "source": [
    "## Solution 2 - 한 줄로 풀어보기"
   ]
  },
  {
   "cell_type": "code",
   "execution_count": null,
   "id": "4db5f3a0",
   "metadata": {},
   "outputs": [],
   "source": []
  }
 ],
 "metadata": {
  "kernelspec": {
   "display_name": "Python 3 (ipykernel)",
   "language": "python",
   "name": "python3"
  },
  "language_info": {
   "codemirror_mode": {
    "name": "ipython",
    "version": 3
   },
   "file_extension": ".py",
   "mimetype": "text/x-python",
   "name": "python",
   "nbconvert_exporter": "python",
   "pygments_lexer": "ipython3",
   "version": "3.9.15"
  }
 },
 "nbformat": 4,
 "nbformat_minor": 5
}

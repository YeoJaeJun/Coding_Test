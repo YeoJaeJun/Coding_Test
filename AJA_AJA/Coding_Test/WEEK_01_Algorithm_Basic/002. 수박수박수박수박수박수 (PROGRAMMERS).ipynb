{
 "cells": [
  {
   "cell_type": "markdown",
   "id": "02005491",
   "metadata": {},
   "source": [
    "# 002. 수박수박수박수박수박수? (PROGRAMMERS)"
   ]
  },
  {
   "cell_type": "markdown",
   "id": "5f81372c",
   "metadata": {},
   "source": [
    "- https://school.programmers.co.kr/learn/courses/30/lessons/12922"
   ]
  },
  {
   "cell_type": "markdown",
   "id": "f2f3f31a",
   "metadata": {},
   "source": [
    "### 문제 설명\n",
    "- 길이가 n이고, \"수박수박수박수....\"와 같은 패턴을 유지하는 문자열을 리턴하는 함수, solution을 완성하세요. 예를들어 n이 4이면 \"수박수박\"을 리턴하고 3이라면 \"수박수\"를 리턴하면 됩니다.\n",
    "\n",
    "### 제한 조건\n",
    "- n은 길이 10,000이하인 자연수입니다.\n",
    "\n",
    "### 입출력 예\n",
    "|n|return|\n",
    "|-|-|\n",
    "|3|\"수박수\"|\n",
    "|4|\"수박수박\"|"
   ]
  },
  {
   "cell_type": "markdown",
   "id": "a68b7ad1",
   "metadata": {},
   "source": [
    "## Solution 1"
   ]
  },
  {
   "cell_type": "code",
   "execution_count": 1,
   "id": "2caba3a5",
   "metadata": {},
   "outputs": [],
   "source": [
    "def solution(n):\n",
    "    a = '수박' * 5000\n",
    "    return a[0:n]"
   ]
  },
  {
   "cell_type": "code",
   "execution_count": 2,
   "id": "b2de6106",
   "metadata": {},
   "outputs": [
    {
     "data": {
      "text/plain": [
       "'수박수'"
      ]
     },
     "execution_count": 2,
     "metadata": {},
     "output_type": "execute_result"
    }
   ],
   "source": [
    "solution(3)"
   ]
  },
  {
   "cell_type": "code",
   "execution_count": 4,
   "id": "03d2129e",
   "metadata": {},
   "outputs": [
    {
     "data": {
      "text/plain": [
       "'수박수박'"
      ]
     },
     "execution_count": 4,
     "metadata": {},
     "output_type": "execute_result"
    }
   ],
   "source": [
    "solution(4)"
   ]
  },
  {
   "cell_type": "markdown",
   "id": "890461dd",
   "metadata": {},
   "source": [
    "## Solution 2"
   ]
  },
  {
   "cell_type": "code",
   "execution_count": 6,
   "id": "d549f5dd",
   "metadata": {},
   "outputs": [],
   "source": [
    "def solution(n):\n",
    "    s = '수박' * n\n",
    "    return s[0:n]"
   ]
  },
  {
   "cell_type": "code",
   "execution_count": 7,
   "id": "d0ef4557",
   "metadata": {},
   "outputs": [
    {
     "data": {
      "text/plain": [
       "'수박수'"
      ]
     },
     "execution_count": 7,
     "metadata": {},
     "output_type": "execute_result"
    }
   ],
   "source": [
    "solution(3)"
   ]
  },
  {
   "cell_type": "code",
   "execution_count": 8,
   "id": "45cbec9e",
   "metadata": {},
   "outputs": [
    {
     "data": {
      "text/plain": [
       "'수박수박'"
      ]
     },
     "execution_count": 8,
     "metadata": {},
     "output_type": "execute_result"
    }
   ],
   "source": [
    "solution(4)"
   ]
  }
 ],
 "metadata": {
  "kernelspec": {
   "display_name": "Python 3 (ipykernel)",
   "language": "python",
   "name": "python3"
  },
  "language_info": {
   "codemirror_mode": {
    "name": "ipython",
    "version": 3
   },
   "file_extension": ".py",
   "mimetype": "text/x-python",
   "name": "python",
   "nbconvert_exporter": "python",
   "pygments_lexer": "ipython3",
   "version": "3.9.15"
  }
 },
 "nbformat": 4,
 "nbformat_minor": 5
}

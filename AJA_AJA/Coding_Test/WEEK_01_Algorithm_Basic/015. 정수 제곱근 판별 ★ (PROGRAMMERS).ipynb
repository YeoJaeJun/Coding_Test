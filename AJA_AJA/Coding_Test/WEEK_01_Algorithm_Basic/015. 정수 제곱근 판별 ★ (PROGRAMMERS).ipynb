{
 "cells": [
  {
   "cell_type": "markdown",
   "id": "e7425307",
   "metadata": {},
   "source": [
    "# 015. 정수 제곱근 판별 ★ (PROGRAMMERS)"
   ]
  },
  {
   "cell_type": "markdown",
   "id": "32f6dae9",
   "metadata": {},
   "source": [
    "- https://school.programmers.co.kr/learn/courses/30/lessons/12934"
   ]
  },
  {
   "cell_type": "markdown",
   "id": "418bc9ec",
   "metadata": {},
   "source": [
    "### 문제 설명\n",
    "- 임의의 양의 정수 n에 대해, n이 어떤 양의 정수 x의 제곱인지 아닌지 판단하려 합니다. n이 양의 정수 x의 제곱이라면 x+1의 제곱을 리턴하고, n이 양의 정수 x의 제곱이 아니라면 -1을 리턴하는 함수를 완성하세요.\n",
    "\n",
    "### 제한 사항\n",
    "- n은 1이상, 50000000000000 이하인 양의 정수입니다.\n",
    "\n",
    "### 입출력 예\n",
    "|n|return|\n",
    "|-|-|\n",
    "|121|144|\n",
    "|3|-1|\n",
    "- 입출력 예#1\n",
    "    - 121은 양의 정수 11의 제곱이므로, (11+1)를 제곱한 144를 리턴합니다.\n",
    "\n",
    "- 입출력 예#2\n",
    "    - 3은 양의 정수의 제곱이 아니므로, -1을 리턴합니다."
   ]
  },
  {
   "cell_type": "markdown",
   "id": "7cf6a906",
   "metadata": {},
   "source": [
    "## Solution 1"
   ]
  },
  {
   "cell_type": "code",
   "execution_count": null,
   "id": "cf335b4f",
   "metadata": {},
   "outputs": [],
   "source": []
  },
  {
   "cell_type": "code",
   "execution_count": null,
   "id": "9e6d96b7",
   "metadata": {},
   "outputs": [],
   "source": []
  },
  {
   "cell_type": "code",
   "execution_count": null,
   "id": "a15d79fb",
   "metadata": {},
   "outputs": [],
   "source": []
  },
  {
   "cell_type": "markdown",
   "id": "c099a4a1",
   "metadata": {},
   "source": [
    "## Solution 2 - 한 줄로 풀어보기"
   ]
  },
  {
   "cell_type": "code",
   "execution_count": 9,
   "id": "f091d196",
   "metadata": {},
   "outputs": [],
   "source": [
    "def solution(n):\n",
    "    return int((n**(1/2) + 1)**2) if n**(1/2) % 1 == 0 else -1"
   ]
  },
  {
   "cell_type": "code",
   "execution_count": 11,
   "id": "51afbf34",
   "metadata": {},
   "outputs": [
    {
     "data": {
      "text/plain": [
       "144"
      ]
     },
     "execution_count": 11,
     "metadata": {},
     "output_type": "execute_result"
    }
   ],
   "source": [
    "solution(121)"
   ]
  },
  {
   "cell_type": "code",
   "execution_count": 12,
   "id": "3a96f71d",
   "metadata": {},
   "outputs": [
    {
     "data": {
      "text/plain": [
       "-1"
      ]
     },
     "execution_count": 12,
     "metadata": {},
     "output_type": "execute_result"
    }
   ],
   "source": [
    "solution(3)"
   ]
  }
 ],
 "metadata": {
  "kernelspec": {
   "display_name": "Python 3 (ipykernel)",
   "language": "python",
   "name": "python3"
  },
  "language_info": {
   "codemirror_mode": {
    "name": "ipython",
    "version": 3
   },
   "file_extension": ".py",
   "mimetype": "text/x-python",
   "name": "python",
   "nbconvert_exporter": "python",
   "pygments_lexer": "ipython3",
   "version": "3.9.15"
  }
 },
 "nbformat": 4,
 "nbformat_minor": 5
}

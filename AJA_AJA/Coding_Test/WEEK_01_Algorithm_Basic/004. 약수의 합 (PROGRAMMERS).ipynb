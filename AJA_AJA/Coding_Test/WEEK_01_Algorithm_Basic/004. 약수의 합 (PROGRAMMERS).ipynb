{
 "cells": [
  {
   "cell_type": "markdown",
   "id": "b0fe969a",
   "metadata": {},
   "source": [
    "# 004. 약수의 합 (PROGRAMMERS)"
   ]
  },
  {
   "cell_type": "markdown",
   "id": "9a490bd0",
   "metadata": {},
   "source": [
    "- https://school.programmers.co.kr/learn/courses/30/lessons/12928"
   ]
  },
  {
   "cell_type": "markdown",
   "id": "c9a97b14",
   "metadata": {},
   "source": [
    "### 문제 설명\n",
    "- 정수 n을 입력받아 n의 약수를 모두 더한 값을 리턴하는 함수, solution을 완성해주세요.\n",
    "\n",
    "### 제한 사항\n",
    "- n은 0 이상 3000이하인 정수입니다.\n",
    "\n",
    "### 입출력 예\n",
    "|n|return|\n",
    "|-|-|\n",
    "|12|28|\n",
    "|5|6|\n",
    "- 입출력 예 #1\n",
    "    - 12의 약수는 1, 2, 3, 4, 6, 12입니다. 이를 모두 더하면 28입니다.\n",
    "\n",
    "- 입출력 예 #2\n",
    "    - 5의 약수는 1, 5입니다. 이를 모두 더하면 6입니다."
   ]
  },
  {
   "cell_type": "markdown",
   "id": "a84fc214",
   "metadata": {},
   "source": [
    "## Solution 1"
   ]
  },
  {
   "cell_type": "code",
   "execution_count": 1,
   "id": "e994f438",
   "metadata": {},
   "outputs": [],
   "source": [
    "def solution(n):\n",
    "    answer = 0\n",
    "    for i in range(1, n + 1):\n",
    "        if n % i == 0:\n",
    "            answer += i\n",
    "    return answer"
   ]
  },
  {
   "cell_type": "code",
   "execution_count": 2,
   "id": "8fbb599d",
   "metadata": {},
   "outputs": [
    {
     "data": {
      "text/plain": [
       "28"
      ]
     },
     "execution_count": 2,
     "metadata": {},
     "output_type": "execute_result"
    }
   ],
   "source": [
    "solution(12)"
   ]
  }
 ],
 "metadata": {
  "kernelspec": {
   "display_name": "Python 3 (ipykernel)",
   "language": "python",
   "name": "python3"
  },
  "language_info": {
   "codemirror_mode": {
    "name": "ipython",
    "version": 3
   },
   "file_extension": ".py",
   "mimetype": "text/x-python",
   "name": "python",
   "nbconvert_exporter": "python",
   "pygments_lexer": "ipython3",
   "version": "3.9.15"
  }
 },
 "nbformat": 4,
 "nbformat_minor": 5
}

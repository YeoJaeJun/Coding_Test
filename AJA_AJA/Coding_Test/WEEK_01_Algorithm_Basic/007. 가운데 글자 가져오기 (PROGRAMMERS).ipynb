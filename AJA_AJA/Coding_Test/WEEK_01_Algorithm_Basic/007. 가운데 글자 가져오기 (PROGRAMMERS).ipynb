{
 "cells": [
  {
   "cell_type": "markdown",
   "id": "2fcbe920",
   "metadata": {},
   "source": [
    "# 007. 가운데 글자 가져오기 (PROGRAMMERS)"
   ]
  },
  {
   "cell_type": "markdown",
   "id": "651f1747",
   "metadata": {},
   "source": [
    "- https://school.programmers.co.kr/learn/courses/30/lessons/12903"
   ]
  },
  {
   "cell_type": "markdown",
   "id": "f1581332",
   "metadata": {},
   "source": [
    "### 문제 설명\n",
    "- 단어 s의 가운데 글자를 반환하는 함수, solution을 만들어 보세요. 단어의 길이가 짝수라면 가운데 두글자를 반환하면 됩니다.\n",
    "\n",
    "### 제한 사항\n",
    "- s는 길이가 1 이상, 100이하인 스트링입니다.\n",
    "\n",
    "### 입출력 예\n",
    "|s|return|\n",
    "|-|-|\n",
    "|\"abcde\"|\"c\"|\n",
    "|\"qwer\"|\"we\"|"
   ]
  },
  {
   "cell_type": "markdown",
   "id": "974318b2",
   "metadata": {},
   "source": [
    "## Solution 1"
   ]
  },
  {
   "cell_type": "code",
   "execution_count": 5,
   "id": "9cb40279",
   "metadata": {},
   "outputs": [],
   "source": [
    "def solution(s):\n",
    "    if len(s) % 2 != 0:\n",
    "        return s[len(s)//2]\n",
    "    else:\n",
    "        return s[len(s)//2 - 1 : len(s)//2 + 1]"
   ]
  },
  {
   "cell_type": "code",
   "execution_count": 6,
   "id": "273a1102",
   "metadata": {},
   "outputs": [
    {
     "data": {
      "text/plain": [
       "'c'"
      ]
     },
     "execution_count": 6,
     "metadata": {},
     "output_type": "execute_result"
    }
   ],
   "source": [
    "solution(\"abcde\")"
   ]
  },
  {
   "cell_type": "code",
   "execution_count": 7,
   "id": "9a10b112",
   "metadata": {},
   "outputs": [
    {
     "data": {
      "text/plain": [
       "'we'"
      ]
     },
     "execution_count": 7,
     "metadata": {},
     "output_type": "execute_result"
    }
   ],
   "source": [
    "solution(\"qwer\")"
   ]
  },
  {
   "cell_type": "markdown",
   "id": "ee18b3fe",
   "metadata": {},
   "source": [
    "## Solution 2"
   ]
  },
  {
   "cell_type": "code",
   "execution_count": 8,
   "id": "652479c2",
   "metadata": {},
   "outputs": [],
   "source": [
    "def solution(s):\n",
    "    return s[ (len(s)-1)//2 : len(s)//2 + 1 ]"
   ]
  },
  {
   "cell_type": "code",
   "execution_count": 9,
   "id": "f1996f3e",
   "metadata": {},
   "outputs": [
    {
     "data": {
      "text/plain": [
       "'c'"
      ]
     },
     "execution_count": 9,
     "metadata": {},
     "output_type": "execute_result"
    }
   ],
   "source": [
    "solution(\"abcde\")"
   ]
  },
  {
   "cell_type": "code",
   "execution_count": 10,
   "id": "c86f06fc",
   "metadata": {},
   "outputs": [
    {
     "data": {
      "text/plain": [
       "'we'"
      ]
     },
     "execution_count": 10,
     "metadata": {},
     "output_type": "execute_result"
    }
   ],
   "source": [
    "solution(\"qwer\")"
   ]
  }
 ],
 "metadata": {
  "kernelspec": {
   "display_name": "Python 3 (ipykernel)",
   "language": "python",
   "name": "python3"
  },
  "language_info": {
   "codemirror_mode": {
    "name": "ipython",
    "version": 3
   },
   "file_extension": ".py",
   "mimetype": "text/x-python",
   "name": "python",
   "nbconvert_exporter": "python",
   "pygments_lexer": "ipython3",
   "version": "3.9.15"
  }
 },
 "nbformat": 4,
 "nbformat_minor": 5
}

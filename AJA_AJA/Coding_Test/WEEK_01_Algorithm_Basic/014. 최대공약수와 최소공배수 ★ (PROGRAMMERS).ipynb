{
 "cells": [
  {
   "cell_type": "markdown",
   "id": "bb4ffb66",
   "metadata": {},
   "source": [
    "# 014. 최대공약수와 최소공배수 (PROGRAMMERS) ★"
   ]
  },
  {
   "cell_type": "markdown",
   "id": "ffd7a0cb",
   "metadata": {},
   "source": [
    "- https://school.programmers.co.kr/learn/courses/30/lessons/12940"
   ]
  },
  {
   "cell_type": "markdown",
   "id": "ed509f4f",
   "metadata": {},
   "source": [
    "### 문제 설명\n",
    "- 두 수를 입력받아 두 수의 최대공약수와 최소공배수를 반환하는 함수, solution을 완성해 보세요. 배열의 맨 앞에 최대공약수, 그다음 최소공배수를 넣어 반환하면 됩니다. 예를 들어 두 수 3, 12의 최대공약수는 3, 최소공배수는 12이므로 solution(3, 12)는 [3, 12]를 반환해야 합니다.\n",
    "\n",
    "### 제한 사항\n",
    "- 두 수는 1이상 1000000이하의 자연수입니다.\n",
    "\n",
    "### 입출력 예\n",
    "|n|m|return|\n",
    "|-|-|-|\n",
    "|3|12|[3, 12]|\n",
    "|2|5|[1, 10]|"
   ]
  },
  {
   "cell_type": "markdown",
   "id": "caaca5f9",
   "metadata": {},
   "source": [
    "## Solution 1"
   ]
  },
  {
   "cell_type": "code",
   "execution_count": 2,
   "id": "c587ae73",
   "metadata": {},
   "outputs": [],
   "source": [
    "def solution(n, m):\n",
    "    n_divisior = []\n",
    "    m_divisior = []\n",
    "    for i in range(1, n + 1):\n",
    "        if n % i == 0:\n",
    "            n_divisior.append(i)\n",
    "    for i in range(1, m + 1):\n",
    "        if m % i == 0:\n",
    "            m_divisior.append(i)\n",
    "    "
   ]
  },
  {
   "cell_type": "code",
   "execution_count": 3,
   "id": "d3a28b22",
   "metadata": {},
   "outputs": [
    {
     "data": {
      "text/plain": [
       "[3, 12]"
      ]
     },
     "execution_count": 3,
     "metadata": {},
     "output_type": "execute_result"
    }
   ],
   "source": [
    "solution(3, 12)"
   ]
  },
  {
   "cell_type": "code",
   "execution_count": 4,
   "id": "27aa0efa",
   "metadata": {},
   "outputs": [
    {
     "data": {
      "text/plain": [
       "[1, 10]"
      ]
     },
     "execution_count": 4,
     "metadata": {},
     "output_type": "execute_result"
    }
   ],
   "source": [
    "solution(2, 5)"
   ]
  },
  {
   "cell_type": "code",
   "execution_count": 5,
   "id": "752e2b5e",
   "metadata": {},
   "outputs": [
    {
     "data": {
      "text/plain": [
       "[1, 96]"
      ]
     },
     "execution_count": 5,
     "metadata": {},
     "output_type": "execute_result"
    }
   ],
   "source": [
    "solution(8, 12)"
   ]
  },
  {
   "cell_type": "code",
   "execution_count": 7,
   "id": "3d1abd62",
   "metadata": {},
   "outputs": [
    {
     "data": {
      "text/plain": [
       "False"
      ]
     },
     "execution_count": 7,
     "metadata": {},
     "output_type": "execute_result"
    }
   ],
   "source": [
    "a = [1, 2, 4, 8]\n",
    "b = [1, 2, 3, 4, 6, 12]\n"
   ]
  },
  {
   "cell_type": "code",
   "execution_count": null,
   "id": "445ed85d",
   "metadata": {},
   "outputs": [],
   "source": []
  }
 ],
 "metadata": {
  "kernelspec": {
   "display_name": "Python 3 (ipykernel)",
   "language": "python",
   "name": "python3"
  },
  "language_info": {
   "codemirror_mode": {
    "name": "ipython",
    "version": 3
   },
   "file_extension": ".py",
   "mimetype": "text/x-python",
   "name": "python",
   "nbconvert_exporter": "python",
   "pygments_lexer": "ipython3",
   "version": "3.9.15"
  }
 },
 "nbformat": 4,
 "nbformat_minor": 5
}

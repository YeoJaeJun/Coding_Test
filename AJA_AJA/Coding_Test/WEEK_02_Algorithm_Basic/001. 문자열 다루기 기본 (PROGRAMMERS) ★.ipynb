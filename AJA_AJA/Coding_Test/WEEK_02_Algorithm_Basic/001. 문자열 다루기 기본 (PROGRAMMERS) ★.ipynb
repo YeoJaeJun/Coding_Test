{
 "cells": [
  {
   "cell_type": "markdown",
   "id": "437993fd",
   "metadata": {},
   "source": [
    "# 001. 문자열 다루기 기본 (PROGRAMMERS) ★"
   ]
  },
  {
   "cell_type": "markdown",
   "id": "286672aa",
   "metadata": {},
   "source": [
    "- https://school.programmers.co.kr/learn/courses/30/lessons/12918"
   ]
  },
  {
   "cell_type": "markdown",
   "id": "3229d901",
   "metadata": {},
   "source": [
    "### 문제 설명\n",
    "- 문자열 s의 길이가 4 혹은 6이고, 숫자로만 구성돼있는지 확인해주는 함수, solution을 완성하세요. 예를 들어 s가 \"a234\"이면 False를 리턴하고 \"1234\"라면 True를 리턴하면 됩니다.\n",
    "\n",
    "### 제한 사항\n",
    "- s는 길이 1 이상, 길이 8 이하인 문자열입니다.\n",
    "- s는 영문 알파벳 대소문자 또는 0부터 9까지 숫자로 이루어져 있습니다.\n",
    "\n",
    "### 입출력 예\n",
    "|s|return|\n",
    "|-|-|\n",
    "|\"a234\"|false|\n",
    "|\"1234\"|true|"
   ]
  },
  {
   "cell_type": "markdown",
   "id": "ffcf98ae",
   "metadata": {},
   "source": [
    "## Solution 1 - try-except 사용"
   ]
  },
  {
   "cell_type": "code",
   "execution_count": 19,
   "id": "75d3db81",
   "metadata": {},
   "outputs": [],
   "source": [
    "def solution(s):\n",
    "    try:\n",
    "        int(s)\n",
    "    except:\n",
    "        return False\n",
    "    return len(s) in [4, 6]"
   ]
  },
  {
   "cell_type": "code",
   "execution_count": 20,
   "id": "8ca0421c",
   "metadata": {},
   "outputs": [
    {
     "data": {
      "text/plain": [
       "False"
      ]
     },
     "execution_count": 20,
     "metadata": {},
     "output_type": "execute_result"
    }
   ],
   "source": [
    "solution(\"a234\")"
   ]
  },
  {
   "cell_type": "code",
   "execution_count": 21,
   "id": "00ade6fe",
   "metadata": {},
   "outputs": [
    {
     "data": {
      "text/plain": [
       "True"
      ]
     },
     "execution_count": 21,
     "metadata": {},
     "output_type": "execute_result"
    }
   ],
   "source": [
    "solution(\"1234\")"
   ]
  },
  {
   "cell_type": "markdown",
   "id": "34d0b601",
   "metadata": {},
   "source": [
    "## Solution 2 - isdigit() 사용"
   ]
  },
  {
   "cell_type": "code",
   "execution_count": 13,
   "id": "de77c25e",
   "metadata": {},
   "outputs": [],
   "source": [
    "def solution(s):\n",
    "    if (len(s) in [4, 6]) and (s.isdigit()):\n",
    "        return True\n",
    "    else:\n",
    "        return False"
   ]
  },
  {
   "cell_type": "code",
   "execution_count": 14,
   "id": "69b341e4",
   "metadata": {},
   "outputs": [
    {
     "data": {
      "text/plain": [
       "False"
      ]
     },
     "execution_count": 14,
     "metadata": {},
     "output_type": "execute_result"
    }
   ],
   "source": [
    "solution(\"a234\")"
   ]
  },
  {
   "cell_type": "code",
   "execution_count": 15,
   "id": "e0a76f92",
   "metadata": {},
   "outputs": [
    {
     "data": {
      "text/plain": [
       "True"
      ]
     },
     "execution_count": 15,
     "metadata": {},
     "output_type": "execute_result"
    }
   ],
   "source": [
    "solution(\"1234\")"
   ]
  },
  {
   "cell_type": "markdown",
   "id": "e36e804f",
   "metadata": {},
   "source": [
    "## Solution 3 - 한 줄로 풀어보기"
   ]
  },
  {
   "cell_type": "code",
   "execution_count": 16,
   "id": "4712880b",
   "metadata": {},
   "outputs": [],
   "source": [
    "def solution(s):\n",
    "    return True if (len(s) in [4, 6]) and (s.isdigit()) else False"
   ]
  },
  {
   "cell_type": "code",
   "execution_count": 17,
   "id": "290dd509",
   "metadata": {},
   "outputs": [
    {
     "data": {
      "text/plain": [
       "False"
      ]
     },
     "execution_count": 17,
     "metadata": {},
     "output_type": "execute_result"
    }
   ],
   "source": [
    "solution(\"a234\")"
   ]
  },
  {
   "cell_type": "code",
   "execution_count": 18,
   "id": "0fc30a5c",
   "metadata": {},
   "outputs": [
    {
     "data": {
      "text/plain": [
       "True"
      ]
     },
     "execution_count": 18,
     "metadata": {},
     "output_type": "execute_result"
    }
   ],
   "source": [
    "solution(\"1234\")"
   ]
  }
 ],
 "metadata": {
  "kernelspec": {
   "display_name": "Python 3 (ipykernel)",
   "language": "python",
   "name": "python3"
  },
  "language_info": {
   "codemirror_mode": {
    "name": "ipython",
    "version": 3
   },
   "file_extension": ".py",
   "mimetype": "text/x-python",
   "name": "python",
   "nbconvert_exporter": "python",
   "pygments_lexer": "ipython3",
   "version": "3.9.15"
  }
 },
 "nbformat": 4,
 "nbformat_minor": 5
}

{
 "cells": [
  {
   "cell_type": "markdown",
   "id": "835c5226",
   "metadata": {},
   "source": [
    "# 011. 소수 찾기 (PROGRAMMERS) ★"
   ]
  },
  {
   "cell_type": "markdown",
   "id": "6a6288d7",
   "metadata": {},
   "source": [
    "- https://school.programmers.co.kr/learn/courses/30/lessons/12921"
   ]
  },
  {
   "cell_type": "markdown",
   "id": "7c7a58ee",
   "metadata": {},
   "source": [
    "### 문제 설명\n",
    "- 1부터 입력받은 숫자 n 사이에 있는 소수의 개수를 반환하는 함수, solution을 만들어 보세요. 소수는 1과 자기 자신으로만 나누어지는 수를 의미합니다. (1은 소수가 아닙니다.)\n",
    "\n",
    "### 제한 조건\n",
    "- n은 2이상 1000000이하의 자연수입니다.\n",
    "\n",
    "### 입출력 예\n",
    "|n|result|\n",
    "|-|-|\n",
    "|10|4|\n",
    "|5|3|\n",
    "- 입출력 예 #1\n",
    "    - 1부터 10 사이의 소수는 [2,3,5,7] 4개가 존재하므로 4를 반환\n",
    "- 입출력 예 #2\n",
    "    - 1부터 5 사이의 소수는 [2,3,5] 3개가 존재하므로 3를 반환"
   ]
  },
  {
   "cell_type": "markdown",
   "id": "6af8d600",
   "metadata": {},
   "source": [
    "## Solution 1"
   ]
  },
  {
   "cell_type": "code",
   "execution_count": 33,
   "id": "6cba7d78",
   "metadata": {},
   "outputs": [],
   "source": [
    "def solution(n):\n",
    "    prime_num = []\n",
    "    prime_cnt = 0\n",
    "    for i in range(2, n + 1):\n",
    "        for j in range(2, int(i**(1/2)) + 1):\n",
    "            if i % j == 0:\n",
    "                \n",
    "                continue\n",
    "            else:\n",
    "                prime_num.append(i)\n",
    "                prime_cnt += 1\n",
    "    return prime_num, prime_cnt"
   ]
  },
  {
   "cell_type": "code",
   "execution_count": 34,
   "id": "44a29f31",
   "metadata": {},
   "outputs": [
    {
     "data": {
      "text/plain": [
       "([5, 7, 9, 10], 4)"
      ]
     },
     "execution_count": 34,
     "metadata": {},
     "output_type": "execute_result"
    }
   ],
   "source": [
    "solution(10)"
   ]
  },
  {
   "cell_type": "code",
   "execution_count": 25,
   "id": "ce2713bd",
   "metadata": {},
   "outputs": [
    {
     "data": {
      "text/plain": [
       "([5], 1)"
      ]
     },
     "execution_count": 25,
     "metadata": {},
     "output_type": "execute_result"
    }
   ],
   "source": [
    "solution(5)"
   ]
  },
  {
   "cell_type": "code",
   "execution_count": 13,
   "id": "e04ca798",
   "metadata": {},
   "outputs": [
    {
     "data": {
      "text/plain": [
       "1"
      ]
     },
     "execution_count": 13,
     "metadata": {},
     "output_type": "execute_result"
    }
   ],
   "source": [
    "int(1.4)"
   ]
  },
  {
   "cell_type": "code",
   "execution_count": 17,
   "id": "ca1d4cea",
   "metadata": {},
   "outputs": [],
   "source": [
    "for i in range(2, 2):\n",
    "    print(i)"
   ]
  },
  {
   "cell_type": "markdown",
   "id": "6543a4a7",
   "metadata": {},
   "source": [
    "## Solution 2 - 에라토스테네스의 체"
   ]
  },
  {
   "cell_type": "code",
   "execution_count": null,
   "id": "73b83689",
   "metadata": {},
   "outputs": [],
   "source": []
  }
 ],
 "metadata": {
  "kernelspec": {
   "display_name": "Python 3 (ipykernel)",
   "language": "python",
   "name": "python3"
  },
  "language_info": {
   "codemirror_mode": {
    "name": "ipython",
    "version": 3
   },
   "file_extension": ".py",
   "mimetype": "text/x-python",
   "name": "python",
   "nbconvert_exporter": "python",
   "pygments_lexer": "ipython3",
   "version": "3.9.15"
  }
 },
 "nbformat": 4,
 "nbformat_minor": 5
}

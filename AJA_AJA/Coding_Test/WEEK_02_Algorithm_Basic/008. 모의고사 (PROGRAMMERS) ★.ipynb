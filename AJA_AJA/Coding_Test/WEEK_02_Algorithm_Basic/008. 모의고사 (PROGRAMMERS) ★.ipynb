{
 "cells": [
  {
   "cell_type": "markdown",
   "id": "58b6f0df",
   "metadata": {},
   "source": [
    "# 008. 모의고사 (PROGRAMMERS) ★"
   ]
  },
  {
   "cell_type": "markdown",
   "id": "8205d1f1",
   "metadata": {},
   "source": [
    "- https://school.programmers.co.kr/learn/courses/30/lessons/42840"
   ]
  },
  {
   "cell_type": "markdown",
   "id": "94961733",
   "metadata": {},
   "source": [
    "### 문제 설명\n",
    "- 수포자는 수학을 포기한 사람의 준말입니다. 수포자 삼인방은 모의고사에 수학 문제를 전부 찍으려 합니다. 수포자는 1번 문제부터 마지막 문제까지 다음과 같이 찍습니다.\n",
    "    - 1번 수포자가 찍는 방식: 1, 2, 3, 4, 5, 1, 2, 3, 4, 5, ...\n",
    "    - 2번 수포자가 찍는 방식: 2, 1, 2, 3, 2, 4, 2, 5, 2, 1, 2, 3, 2, 4, 2, 5, ...\n",
    "    - 3번 수포자가 찍는 방식: 3, 3, 1, 1, 2, 2, 4, 4, 5, 5, 3, 3, 1, 1, 2, 2, 4, 4, 5, 5, ...\n",
    "- 1번 문제부터 마지막 문제까지의 정답이 순서대로 들은 배열 answers가 주어졌을 때, 가장 많은 문제를 맞힌 사람이 누구인지 배열에 담아 return 하도록 solution 함수를 작성해주세요.\n",
    "\n",
    "### 제한 조건\n",
    "- 시험은 최대 10,000 문제로 구성되어있습니다.\n",
    "- 문제의 정답은 1, 2, 3, 4, 5중 하나입니다.\n",
    "- 가장 높은 점수를 받은 사람이 여럿일 경우, return하는 값을 오름차순 정렬해주세요.\n",
    "\n",
    "### 입출력 예\n",
    "|answers|return|\n",
    "|-|-|\n",
    "|[1,2,3,4,5]|[1]|\n",
    "|[1,3,2,4,2]|[1,2,3]|\n",
    "- 입출력 예 #1\n",
    "    - 수포자 1은 모든 문제를 맞혔습니다.\n",
    "    - 수포자 2는 모든 문제를 틀렸습니다.\n",
    "    - 수포자 3은 모든 문제를 틀렸습니다.\n",
    "    - 따라서 가장 문제를 많이 맞힌 사람은 수포자 1입니다.\n",
    "- 입출력 예 #2\n",
    "    - 모든 사람이 2문제씩을 맞췄습니다."
   ]
  },
  {
   "cell_type": "markdown",
   "id": "fba8a3e4",
   "metadata": {},
   "source": [
    "## Solution 1"
   ]
  },
  {
   "cell_type": "code",
   "execution_count": 53,
   "id": "a26dffa0",
   "metadata": {},
   "outputs": [],
   "source": [
    "import collections\n",
    "\n",
    "def solution(answers):\n",
    "    # '수포자: 문제 찍는 방식'이 한 쌍인 dictionary 생성\n",
    "    s = {1: [1, 2, 3, 4, 5], 2: [2, 1, 2, 3, 2, 4, 2, 5], 3: [3, 3, 1, 1, 2, 2, 4, 4, 5, 5]}\n",
    "    \n",
    "    # 1번 수포자가 틀린 문제 수\n",
    "    wrong_answer_1 = len( collections.Counter(answer) - collections.Counter( s[1] * ( len(answer) // len(s[1]) ) + s[1][:len(answer) % len(s[1])] ) )\n",
    "    \n",
    "    # 1번 수포자가 틀린 문제 수\n",
    "    wrong_answer_2 = len( collections.Counter(answer) - collections.Counter( s[2] * ( len(answer) // len(s[2]) ) + s[2][:len(answer) % len(s[2])] ) )\n",
    "    \n",
    "    # 1번 수포자가 틀린 문제 수\n",
    "    wrong_answer_3 = len( collections.Counter(answer) - collections.Counter( s[3] * ( len(answer) // len(s[3]) ) + s[3][:len(answer) % len(s[3])] ) )\n",
    "    \n",
    "    # '수포자: 수포자가 틀린 문제 수'가 한 쌍인 dictionary 생성\n",
    "    wrong_answer = {1: wrong_answer_1, 2: wrong_answer_2, 3:wrong_answer_3}\n",
    "    \n",
    "    # 틀린 문제 수가 가장 적은 수포자 반환\n",
    "    return [key for key, value in wrong_answer.items() if value == min(wrong_answer.values()) ]"
   ]
  },
  {
   "cell_type": "code",
   "execution_count": 55,
   "id": "30ac16f2",
   "metadata": {},
   "outputs": [
    {
     "data": {
      "text/plain": [
       "[1]"
      ]
     },
     "execution_count": 55,
     "metadata": {},
     "output_type": "execute_result"
    }
   ],
   "source": [
    "solution([1,2,3,4,5])"
   ]
  },
  {
   "cell_type": "code",
   "execution_count": 56,
   "id": "09cb64b7",
   "metadata": {},
   "outputs": [
    {
     "data": {
      "text/plain": [
       "[1]"
      ]
     },
     "execution_count": 56,
     "metadata": {},
     "output_type": "execute_result"
    }
   ],
   "source": [
    "solution([1,3,2,4,2])"
   ]
  },
  {
   "cell_type": "code",
   "execution_count": 58,
   "id": "58329aa2",
   "metadata": {},
   "outputs": [
    {
     "data": {
      "text/plain": [
       "[1]"
      ]
     },
     "execution_count": 58,
     "metadata": {},
     "output_type": "execute_result"
    }
   ],
   "source": [
    "a = [1, 2, 3]\n",
    "a[:0]"
   ]
  },
  {
   "cell_type": "code",
   "execution_count": 59,
   "id": "aba2f29e",
   "metadata": {},
   "outputs": [
    {
     "data": {
      "text/plain": [
       "Counter({2: 1, 5: 1})"
      ]
     },
     "execution_count": 59,
     "metadata": {},
     "output_type": "execute_result"
    }
   ],
   "source": [
    "a = [1, 2, 3, 4, 5]\n",
    "b = [1, 1, 3, 3, 4]\n",
    "collections.Counter(a) - collections.Counter(b)"
   ]
  },
  {
   "cell_type": "code",
   "execution_count": null,
   "id": "835eea47",
   "metadata": {},
   "outputs": [],
   "source": []
  }
 ],
 "metadata": {
  "kernelspec": {
   "display_name": "Python 3 (ipykernel)",
   "language": "python",
   "name": "python3"
  },
  "language_info": {
   "codemirror_mode": {
    "name": "ipython",
    "version": 3
   },
   "file_extension": ".py",
   "mimetype": "text/x-python",
   "name": "python",
   "nbconvert_exporter": "python",
   "pygments_lexer": "ipython3",
   "version": "3.9.15"
  }
 },
 "nbformat": 4,
 "nbformat_minor": 5
}

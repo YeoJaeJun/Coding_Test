{
 "cells": [
  {
   "cell_type": "markdown",
   "id": "9f734b47",
   "metadata": {},
   "source": [
    "# 004. 핸드폰 번호 가리기 (PROGRAMMERS)"
   ]
  },
  {
   "cell_type": "markdown",
   "id": "fdeadbd0",
   "metadata": {},
   "source": [
    "- https://school.programmers.co.kr/learn/courses/30/lessons/12948"
   ]
  },
  {
   "cell_type": "markdown",
   "id": "6d3ccca1",
   "metadata": {},
   "source": [
    "### 문제 설명\n",
    "- 프로그래머스 모바일은 개인정보 보호를 위해 고지서를 보낼 때 고객들의 전화번호의 일부를 가립니다.\n",
    "- 전화번호가 문자열 phone_number로 주어졌을 때, 전화번호의 뒷 4자리를 제외한 나머지 숫자를 전부 \\*으로 가린 문자열을 리턴하는 함수, solution을 완성해주세요.\n",
    "\n",
    "### 제한 사항\n",
    "- phone_number는 길이 4 이상, 20이하인 문자열입니다.\n",
    "\n",
    "### 입출력 예\n",
    "|phone_number|return|\n",
    "|-|-|\n",
    "|\"01033334444\"|\"\\*\\*\\*\\*\\*\\*\\*4444\"|\n",
    "|\"027778888\"|\"\\*\\*\\*\\*\\*8888\"|"
   ]
  },
  {
   "cell_type": "markdown",
   "id": "ba8bc54e",
   "metadata": {},
   "source": [
    "## Solution 1"
   ]
  },
  {
   "cell_type": "code",
   "execution_count": 14,
   "id": "1d3cdc6a",
   "metadata": {},
   "outputs": [],
   "source": [
    "def solution(phone_number):\n",
    "    return '*' * len(phone_number[0:-4]) + phone_number[-4:]"
   ]
  },
  {
   "cell_type": "code",
   "execution_count": 17,
   "id": "9a58b04e",
   "metadata": {},
   "outputs": [
    {
     "data": {
      "text/plain": [
       "'*******4444'"
      ]
     },
     "execution_count": 17,
     "metadata": {},
     "output_type": "execute_result"
    }
   ],
   "source": [
    "solution(\"01033334444\")"
   ]
  },
  {
   "cell_type": "code",
   "execution_count": 18,
   "id": "74ff098f",
   "metadata": {},
   "outputs": [
    {
     "data": {
      "text/plain": [
       "'*****8888'"
      ]
     },
     "execution_count": 18,
     "metadata": {},
     "output_type": "execute_result"
    }
   ],
   "source": [
    "solution(\"027778888\")"
   ]
  }
 ],
 "metadata": {
  "kernelspec": {
   "display_name": "Python 3 (ipykernel)",
   "language": "python",
   "name": "python3"
  },
  "language_info": {
   "codemirror_mode": {
    "name": "ipython",
    "version": 3
   },
   "file_extension": ".py",
   "mimetype": "text/x-python",
   "name": "python",
   "nbconvert_exporter": "python",
   "pygments_lexer": "ipython3",
   "version": "3.9.15"
  }
 },
 "nbformat": 4,
 "nbformat_minor": 5
}

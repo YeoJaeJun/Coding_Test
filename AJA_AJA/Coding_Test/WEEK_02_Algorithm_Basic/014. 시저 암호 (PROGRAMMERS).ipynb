{
 "cells": [
  {
   "cell_type": "markdown",
   "id": "6d9e2a2b",
   "metadata": {},
   "source": [
    "# 014. 시저 암호 (PROGRAMMERS)"
   ]
  },
  {
   "cell_type": "markdown",
   "id": "0f282708",
   "metadata": {},
   "source": [
    "- https://school.programmers.co.kr/learn/courses/30/lessons/12926"
   ]
  },
  {
   "cell_type": "markdown",
   "id": "e58f19ab",
   "metadata": {},
   "source": [
    "### 문제 설명\n",
    "- 어떤 문장의 각 알파벳을 일정한 거리만큼 밀어서 다른 알파벳으로 바꾸는 암호화 방식을 시저 암호라고 합니다. 예를 들어 \"AB\"는 1만큼 밀면 \"BC\"가 되고, 3만큼 밀면 \"DE\"가 됩니다. \"z\"는 1만큼 밀면 \"a\"가 됩니다. 문자열 s와 거리 n을 입력받아 s를 n만큼 민 암호문을 만드는 함수, solution을 완성해 보세요.\n",
    "\n",
    "### 제한 조건\n",
    "- 공백은 아무리 밀어도 공백입니다.\n",
    "- s는 알파벳 소문자, 대문자, 공백으로만 이루어져 있습니다.\n",
    "- s의 길이는 8000이하입니다.\n",
    "- n은 1 이상, 25이하인 자연수입니다.\n",
    "\n",
    "### 입출력 예\n",
    "|s|n|result|\n",
    "|-|-|-|\n",
    "|\"AB\"|1|\"BC\"|\n",
    "|\"z\"|1|\"a\"|\n",
    "|\"a B z\"|4|\"e F d\"|"
   ]
  },
  {
   "cell_type": "markdown",
   "id": "2a73f32b",
   "metadata": {},
   "source": [
    "## Solution 1 - ASCII Code 이용"
   ]
  },
  {
   "cell_type": "code",
   "execution_count": 112,
   "id": "c9389dd6",
   "metadata": {},
   "outputs": [],
   "source": [
    "def solution(s, n):\n",
    "    answer = []\n",
    "    for i in range(len(s)):\n",
    "        \n",
    "        if s[i] == ' ':\n",
    "            answer.append(' ')\n",
    "            continue\n",
    "        \n",
    "        elif s[i] == 'Z':\n",
    "            answer.append( chr(ord('A') + n - 1) )\n",
    "            continue\n",
    "        \n",
    "        elif s[i] == 'z':\n",
    "            answer.append( chr(ord('a') + n - 1) )\n",
    "            continue\n",
    "        \n",
    "\n",
    "        if s[i].isupper():\n",
    "            if ord(s[i]) + n > ord('Z'):\n",
    "                answer.append( chr( ord(s[i]) - 26 + n ) )\n",
    "                continue\n",
    "            else:\n",
    "                answer.append( chr(ord(s[i]) + n) )\n",
    "                continue\n",
    "        \n",
    "        else:\n",
    "            if ord(s[i]) + n > ord('z'):\n",
    "                answer.append( chr( ord(s[i]) -26 + n ) )\n",
    "                continue\n",
    "            else:\n",
    "                answer.append( chr(ord(s[i]) + n) )\n",
    "                continue\n",
    "        \n",
    "    return ''.join(answer)"
   ]
  },
  {
   "cell_type": "code",
   "execution_count": 113,
   "id": "7167ab6b",
   "metadata": {},
   "outputs": [
    {
     "data": {
      "text/plain": [
       "'BC'"
      ]
     },
     "execution_count": 113,
     "metadata": {},
     "output_type": "execute_result"
    }
   ],
   "source": [
    "solution('AB', 1)"
   ]
  },
  {
   "cell_type": "code",
   "execution_count": 114,
   "id": "6303fcb9",
   "metadata": {},
   "outputs": [
    {
     "data": {
      "text/plain": [
       "'a'"
      ]
     },
     "execution_count": 114,
     "metadata": {},
     "output_type": "execute_result"
    }
   ],
   "source": [
    "solution('z', 1)"
   ]
  },
  {
   "cell_type": "code",
   "execution_count": 115,
   "id": "077325b6",
   "metadata": {},
   "outputs": [
    {
     "data": {
      "text/plain": [
       "'e F d'"
      ]
     },
     "execution_count": 115,
     "metadata": {},
     "output_type": "execute_result"
    }
   ],
   "source": [
    "solution('a B z', 4)"
   ]
  },
  {
   "cell_type": "code",
   "execution_count": 116,
   "id": "8a963df4",
   "metadata": {},
   "outputs": [
    {
     "data": {
      "text/plain": [
       "'z a b c'"
      ]
     },
     "execution_count": 116,
     "metadata": {},
     "output_type": "execute_result"
    }
   ],
   "source": [
    "solution('a b c d', 25)"
   ]
  },
  {
   "cell_type": "code",
   "execution_count": 117,
   "id": "4d7a05a6",
   "metadata": {},
   "outputs": [
    {
     "data": {
      "text/plain": [
       "'R'"
      ]
     },
     "execution_count": 117,
     "metadata": {},
     "output_type": "execute_result"
    }
   ],
   "source": [
    "solution('X', 20)"
   ]
  },
  {
   "cell_type": "markdown",
   "id": "9724cded",
   "metadata": {},
   "source": [
    "## Solution 2"
   ]
  },
  {
   "cell_type": "code",
   "execution_count": null,
   "id": "96da70a9",
   "metadata": {},
   "outputs": [],
   "source": []
  },
  {
   "cell_type": "code",
   "execution_count": null,
   "id": "b70f8228",
   "metadata": {},
   "outputs": [],
   "source": []
  },
  {
   "cell_type": "code",
   "execution_count": null,
   "id": "374e60b9",
   "metadata": {},
   "outputs": [],
   "source": []
  },
  {
   "cell_type": "code",
   "execution_count": null,
   "id": "1ef9810f",
   "metadata": {},
   "outputs": [],
   "source": []
  }
 ],
 "metadata": {
  "kernelspec": {
   "display_name": "Python 3 (ipykernel)",
   "language": "python",
   "name": "python3"
  },
  "language_info": {
   "codemirror_mode": {
    "name": "ipython",
    "version": 3
   },
   "file_extension": ".py",
   "mimetype": "text/x-python",
   "name": "python",
   "nbconvert_exporter": "python",
   "pygments_lexer": "ipython3",
   "version": "3.9.15"
  }
 },
 "nbformat": 4,
 "nbformat_minor": 5
}

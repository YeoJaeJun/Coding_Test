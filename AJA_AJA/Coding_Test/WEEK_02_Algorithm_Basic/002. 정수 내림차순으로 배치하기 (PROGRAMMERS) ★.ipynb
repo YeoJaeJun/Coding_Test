{
 "cells": [
  {
   "cell_type": "markdown",
   "id": "80d4daab",
   "metadata": {},
   "source": [
    "# 002. 정수 내림차순으로 배치하기 (PROGRAMMERS) ★"
   ]
  },
  {
   "cell_type": "markdown",
   "id": "0fe534db",
   "metadata": {},
   "source": [
    "- https://school.programmers.co.kr/learn/courses/30/lessons/12933"
   ]
  },
  {
   "cell_type": "markdown",
   "id": "6612b4b4",
   "metadata": {},
   "source": [
    "### 문제 설명\n",
    "- 함수 solution은 정수 n을 매개변수로 입력받습니다. n의 각 자릿수를 큰것부터 작은 순으로 정렬한 새로운 정수를 리턴해주세요. 예를들어 n이 118372면 873211을 리턴하면 됩니다.\n",
    "\n",
    "### 제한 사항\n",
    "- n은 1이상 8000000000 이하인 자연수입니다.\n",
    "\n",
    "### 입출력 예\n",
    "|n|return|\n",
    "|-|-|\n",
    "|118372|873211|"
   ]
  },
  {
   "cell_type": "markdown",
   "id": "0b9959fc",
   "metadata": {},
   "source": [
    "## Solution 1"
   ]
  },
  {
   "cell_type": "code",
   "execution_count": 37,
   "id": "ce7bb353",
   "metadata": {},
   "outputs": [],
   "source": [
    "def solution(n):\n",
    "    num = []\n",
    "    for i in range(len(str(n))):\n",
    "        num.append(str(n)[i])\n",
    "    num.sort(reverse = True)\n",
    "    \n",
    "    s = ''\n",
    "    for i in range(len(num)):\n",
    "        s += num[i]\n",
    "    \n",
    "    return int(s)"
   ]
  },
  {
   "cell_type": "code",
   "execution_count": 38,
   "id": "bae0227e",
   "metadata": {
    "scrolled": true
   },
   "outputs": [
    {
     "data": {
      "text/plain": [
       "873211"
      ]
     },
     "execution_count": 38,
     "metadata": {},
     "output_type": "execute_result"
    }
   ],
   "source": [
    "solution(118372)"
   ]
  },
  {
   "cell_type": "markdown",
   "id": "80270951",
   "metadata": {},
   "source": [
    "## Solution 2 - join() 사용"
   ]
  },
  {
   "cell_type": "code",
   "execution_count": 51,
   "id": "1c9fc7a2",
   "metadata": {},
   "outputs": [],
   "source": [
    "def solution(n):\n",
    "    lst = list(str(n))\n",
    "    lst.sort(reverse = True)\n",
    "    return int(''.join(lst))"
   ]
  },
  {
   "cell_type": "code",
   "execution_count": 52,
   "id": "0d5f7cb1",
   "metadata": {},
   "outputs": [
    {
     "data": {
      "text/plain": [
       "873211"
      ]
     },
     "execution_count": 52,
     "metadata": {},
     "output_type": "execute_result"
    }
   ],
   "source": [
    "solution(118372)"
   ]
  },
  {
   "cell_type": "markdown",
   "id": "97621838",
   "metadata": {},
   "source": [
    "## Solution 3 - 한 줄로 풀어보기"
   ]
  },
  {
   "cell_type": "code",
   "execution_count": 9,
   "id": "f467d7e8",
   "metadata": {},
   "outputs": [],
   "source": [
    "def solution(n):\n",
    "    list(str(n)).sort(reverse = True)\n",
    "    return int( ''.join( list(str(n)).sort(reverse = True) ) )"
   ]
  },
  {
   "cell_type": "code",
   "execution_count": 10,
   "id": "cb0dc5f7",
   "metadata": {},
   "outputs": [
    {
     "ename": "TypeError",
     "evalue": "can only join an iterable",
     "output_type": "error",
     "traceback": [
      "\u001b[1;31m---------------------------------------------------------------------------\u001b[0m",
      "\u001b[1;31mTypeError\u001b[0m                                 Traceback (most recent call last)",
      "Cell \u001b[1;32mIn[10], line 1\u001b[0m\n\u001b[1;32m----> 1\u001b[0m \u001b[43msolution\u001b[49m\u001b[43m(\u001b[49m\u001b[38;5;241;43m118372\u001b[39;49m\u001b[43m)\u001b[49m\n",
      "Cell \u001b[1;32mIn[9], line 3\u001b[0m, in \u001b[0;36msolution\u001b[1;34m(n)\u001b[0m\n\u001b[0;32m      1\u001b[0m \u001b[38;5;28;01mdef\u001b[39;00m \u001b[38;5;21msolution\u001b[39m(n):\n\u001b[0;32m      2\u001b[0m     \u001b[38;5;28mlist\u001b[39m(\u001b[38;5;28mstr\u001b[39m(n))\u001b[38;5;241m.\u001b[39msort(reverse \u001b[38;5;241m=\u001b[39m \u001b[38;5;28;01mTrue\u001b[39;00m)\n\u001b[1;32m----> 3\u001b[0m     \u001b[38;5;28;01mreturn\u001b[39;00m \u001b[38;5;28mint\u001b[39m( \u001b[38;5;124;43m'\u001b[39;49m\u001b[38;5;124;43m'\u001b[39;49m\u001b[38;5;241;43m.\u001b[39;49m\u001b[43mjoin\u001b[49m\u001b[43m(\u001b[49m\u001b[43m \u001b[49m\u001b[38;5;28;43mlist\u001b[39;49m\u001b[43m(\u001b[49m\u001b[38;5;28;43mstr\u001b[39;49m\u001b[43m(\u001b[49m\u001b[43mn\u001b[49m\u001b[43m)\u001b[49m\u001b[43m)\u001b[49m\u001b[38;5;241;43m.\u001b[39;49m\u001b[43msort\u001b[49m\u001b[43m(\u001b[49m\u001b[43mreverse\u001b[49m\u001b[43m \u001b[49m\u001b[38;5;241;43m=\u001b[39;49m\u001b[43m \u001b[49m\u001b[38;5;28;43;01mTrue\u001b[39;49;00m\u001b[43m)\u001b[49m\u001b[43m \u001b[49m\u001b[43m)\u001b[49m )\n",
      "\u001b[1;31mTypeError\u001b[0m: can only join an iterable"
     ]
    }
   ],
   "source": [
    "solution(118372)"
   ]
  },
  {
   "cell_type": "code",
   "execution_count": 15,
   "id": "54b2fc15",
   "metadata": {},
   "outputs": [],
   "source": [
    "n = 118372\n",
    "list(str(n)).sort(reverse = True)\n"
   ]
  }
 ],
 "metadata": {
  "kernelspec": {
   "display_name": "Python 3 (ipykernel)",
   "language": "python",
   "name": "python3"
  },
  "language_info": {
   "codemirror_mode": {
    "name": "ipython",
    "version": 3
   },
   "file_extension": ".py",
   "mimetype": "text/x-python",
   "name": "python",
   "nbconvert_exporter": "python",
   "pygments_lexer": "ipython3",
   "version": "3.9.15"
  }
 },
 "nbformat": 4,
 "nbformat_minor": 5
}

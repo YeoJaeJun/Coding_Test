{
 "cells": [
  {
   "cell_type": "markdown",
   "id": "d68a4acc",
   "metadata": {},
   "source": [
    "# 003. 자연수 뒤집어 배열로 만들기 (PROGRAMMERS) ★"
   ]
  },
  {
   "cell_type": "markdown",
   "id": "ef06bfb0",
   "metadata": {},
   "source": [
    "- https://school.programmers.co.kr/learn/courses/30/lessons/12932"
   ]
  },
  {
   "cell_type": "markdown",
   "id": "6ce01a4a",
   "metadata": {},
   "source": [
    "### 문제 설명\n",
    "- 자연수 n을 뒤집어 각 자리 숫자를 원소로 가지는 배열 형태로 리턴해주세요. 예를들어 n이 12345이면 [5,4,3,2,1]을 리턴합니다.\n",
    "\n",
    "### 제한 사항\n",
    "- n은 10,000,000,000이하인 자연수입니다.\n",
    "\n",
    "### 입출력 예\n",
    "|n|return|\n",
    "|-|-|\n",
    "|12345|[5,4,3,2,1]|"
   ]
  },
  {
   "cell_type": "markdown",
   "id": "d0a82d82",
   "metadata": {},
   "source": [
    "## Solution 1"
   ]
  },
  {
   "cell_type": "code",
   "execution_count": 5,
   "id": "414e87b0",
   "metadata": {},
   "outputs": [],
   "source": [
    "def solution(n):\n",
    "    lst = []\n",
    "    for i in range(len(str(n)) -1, -1, -1):\n",
    "        lst.append(int(str(n)[i]))\n",
    "    return lst"
   ]
  },
  {
   "cell_type": "code",
   "execution_count": 6,
   "id": "92afebcf",
   "metadata": {},
   "outputs": [
    {
     "data": {
      "text/plain": [
       "[5, 4, 3, 2, 1]"
      ]
     },
     "execution_count": 6,
     "metadata": {},
     "output_type": "execute_result"
    }
   ],
   "source": [
    "solution(12345)"
   ]
  },
  {
   "cell_type": "markdown",
   "id": "9a03a3f5",
   "metadata": {},
   "source": [
    "## Solution 2 - 한 줄로 풀어보기. reversed() 이용"
   ]
  },
  {
   "cell_type": "code",
   "execution_count": 8,
   "id": "16b4acda",
   "metadata": {},
   "outputs": [],
   "source": [
    "def solution(n):\n",
    "    return list( map(int, reversed(str(n))) )"
   ]
  },
  {
   "cell_type": "code",
   "execution_count": 10,
   "id": "e05f7c12",
   "metadata": {},
   "outputs": [
    {
     "data": {
      "text/plain": [
       "[5, 4, 3, 2, 1]"
      ]
     },
     "execution_count": 10,
     "metadata": {},
     "output_type": "execute_result"
    }
   ],
   "source": [
    "solution(12345)"
   ]
  }
 ],
 "metadata": {
  "kernelspec": {
   "display_name": "Python 3 (ipykernel)",
   "language": "python",
   "name": "python3"
  },
  "language_info": {
   "codemirror_mode": {
    "name": "ipython",
    "version": 3
   },
   "file_extension": ".py",
   "mimetype": "text/x-python",
   "name": "python",
   "nbconvert_exporter": "python",
   "pygments_lexer": "ipython3",
   "version": "3.9.15"
  }
 },
 "nbformat": 4,
 "nbformat_minor": 5
}

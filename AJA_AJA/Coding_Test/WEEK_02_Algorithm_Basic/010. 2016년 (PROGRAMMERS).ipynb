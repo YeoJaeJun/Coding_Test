{
 "cells": [
  {
   "cell_type": "markdown",
   "id": "f8900cdd",
   "metadata": {},
   "source": [
    "# 010. 2016년 (PROGRAMMERS)"
   ]
  },
  {
   "cell_type": "markdown",
   "id": "5cf5a8b8",
   "metadata": {},
   "source": [
    "- https://school.programmers.co.kr/learn/courses/30/lessons/12901"
   ]
  },
  {
   "cell_type": "markdown",
   "id": "d4a080e5",
   "metadata": {},
   "source": [
    "### 문제 설명\n",
    "- 2016년 1월 1일은 금요일입니다. 2016년 a월 b일은 무슨 요일일까요? 두 수 a ,b를 입력받아 2016년 a월 b일이 무슨 요일인지 리턴하는 함수, solution을 완성하세요. 요일의 이름은 일요일부터 토요일까지 각각 SUN,MON,TUE,WED,THU,FRI,SAT 입니다. 예를 들어 a=5, b=24라면 5월 24일은 화요일이므로 문자열 \"TUE\"를 반환하세요.\n",
    "\n",
    "### 제한 조건\n",
    "- 2016년은 윤년입니다.\n",
    "- 2016년 a월 b일은 실제로 있는 날입니다. (13월 26일이나 2월 45일같은 날짜는 주어지지 않습니다)\n",
    "\n",
    "### 입출력 예\n",
    "|a|b|result|\n",
    "|-|-|-|\n",
    "|5|24|\"TUE\"|"
   ]
  },
  {
   "cell_type": "markdown",
   "id": "92664dff",
   "metadata": {},
   "source": [
    "## Solution 1"
   ]
  },
  {
   "cell_type": "code",
   "execution_count": 11,
   "id": "2cae8c21",
   "metadata": {},
   "outputs": [],
   "source": [
    "def solution(a, b):\n",
    "    day = [31, 29, 31, 30, 31, 30, 31, 31, 30, 31, 30, 31]\n",
    "    weekday = ['FRI', 'SAT', 'SUN', 'MON', 'TUE', 'WED', 'THU']\n",
    "    return weekday[( sum(day[0:a-1]) + b ) % 7 - 1]"
   ]
  },
  {
   "cell_type": "code",
   "execution_count": 12,
   "id": "2701d858",
   "metadata": {},
   "outputs": [
    {
     "data": {
      "text/plain": [
       "'TUE'"
      ]
     },
     "execution_count": 12,
     "metadata": {},
     "output_type": "execute_result"
    }
   ],
   "source": [
    "solution(5, 24)"
   ]
  }
 ],
 "metadata": {
  "kernelspec": {
   "display_name": "Python 3 (ipykernel)",
   "language": "python",
   "name": "python3"
  },
  "language_info": {
   "codemirror_mode": {
    "name": "ipython",
    "version": 3
   },
   "file_extension": ".py",
   "mimetype": "text/x-python",
   "name": "python",
   "nbconvert_exporter": "python",
   "pygments_lexer": "ipython3",
   "version": "3.9.15"
  }
 },
 "nbformat": 4,
 "nbformat_minor": 5
}

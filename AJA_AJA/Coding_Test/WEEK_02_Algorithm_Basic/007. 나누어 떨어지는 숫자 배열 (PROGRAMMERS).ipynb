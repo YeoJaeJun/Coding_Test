{
 "cells": [
  {
   "cell_type": "markdown",
   "id": "a7233a3c",
   "metadata": {},
   "source": [
    "# 007. 나누어 떨어지는 숫자 배열 (PROGRAMMERS)"
   ]
  },
  {
   "cell_type": "markdown",
   "id": "b0904921",
   "metadata": {},
   "source": [
    "- https://school.programmers.co.kr/learn/courses/30/lessons/12910"
   ]
  },
  {
   "cell_type": "markdown",
   "id": "4ac0bf7d",
   "metadata": {},
   "source": [
    "### 문제 설명\n",
    "- array의 각 element 중 divisor로 나누어 떨어지는 값을 오름차순으로 정렬한 배열을 반환하는 함수, solution을 작성해주세요.\n",
    "- divisor로 나누어 떨어지는 element가 하나도 없다면 배열에 -1을 담아 반환하세요.\n",
    "\n",
    "### 제한 사항\n",
    "- arr은 자연수를 담은 배열입니다.\n",
    "- 정수 i, j에 대해 i ≠ j 이면 arr[i] ≠ arr[j] 입니다.\n",
    "- divisor는 자연수입니다.\n",
    "- array는 길이 1 이상인 배열입니다.\n",
    "\n",
    "### 입출력 예\n",
    "|arr|divisor|return|\n",
    "|-|-|-|\n",
    "|[5, 9, 7, 10]|5|[5, 10]|\n",
    "|[2, 36, 1, 3]|1|[1, 2, 3, 36]|\n",
    "|[3,2,6]|10|[-1]|\n",
    "- 입출력 예#1\n",
    "    - arr의 원소 중 5로 나누어 떨어지는 원소는 5와 10입니다. 따라서 [5, 10]을 리턴합니다.\n",
    "- 입출력 예#2\n",
    "    - arr의 모든 원소는 1으로 나누어 떨어집니다. 원소를 오름차순으로 정렬해 [1, 2, 3, 36]을 리턴합니다.\n",
    "- 입출력 예#3\n",
    "    - 3, 2, 6은 10으로 나누어 떨어지지 않습니다. 나누어 떨어지는 원소가 없으므로 [-1]을 리턴합니다."
   ]
  },
  {
   "cell_type": "markdown",
   "id": "1a9704d6",
   "metadata": {},
   "source": [
    "## Solution 1 - if-else 사용"
   ]
  },
  {
   "cell_type": "code",
   "execution_count": 18,
   "id": "69fac1fb",
   "metadata": {},
   "outputs": [],
   "source": [
    "def solution(arr, divisor):\n",
    "    return sorted( [v for v in arr if v % divisor == 0] ) if len([v for v in arr if v % divisor == 0]) > 0 else [-1]"
   ]
  },
  {
   "cell_type": "code",
   "execution_count": 20,
   "id": "b791fad7",
   "metadata": {},
   "outputs": [
    {
     "data": {
      "text/plain": [
       "[5, 10]"
      ]
     },
     "execution_count": 20,
     "metadata": {},
     "output_type": "execute_result"
    }
   ],
   "source": [
    "solution([5, 9, 7, 10], 5)"
   ]
  },
  {
   "cell_type": "code",
   "execution_count": 21,
   "id": "00d467cc",
   "metadata": {},
   "outputs": [
    {
     "data": {
      "text/plain": [
       "[1, 2, 3, 36]"
      ]
     },
     "execution_count": 21,
     "metadata": {},
     "output_type": "execute_result"
    }
   ],
   "source": [
    "solution([2, 36, 1, 3], 1)"
   ]
  },
  {
   "cell_type": "code",
   "execution_count": 22,
   "id": "bad0ca1a",
   "metadata": {},
   "outputs": [
    {
     "data": {
      "text/plain": [
       "[-1]"
      ]
     },
     "execution_count": 22,
     "metadata": {},
     "output_type": "execute_result"
    }
   ],
   "source": [
    "solution([3, 2, 6], 10)"
   ]
  },
  {
   "cell_type": "markdown",
   "id": "1acdbabd",
   "metadata": {},
   "source": [
    "## Solution 2 - or 사용"
   ]
  },
  {
   "cell_type": "code",
   "execution_count": 23,
   "id": "d4213a91",
   "metadata": {},
   "outputs": [],
   "source": [
    "def solution(arr, divisor):\n",
    "    return sorted( [v for v in arr if v % divisor == 0] ) or [-1]"
   ]
  },
  {
   "cell_type": "code",
   "execution_count": 24,
   "id": "acf24cb4",
   "metadata": {},
   "outputs": [
    {
     "data": {
      "text/plain": [
       "[5, 10]"
      ]
     },
     "execution_count": 24,
     "metadata": {},
     "output_type": "execute_result"
    }
   ],
   "source": [
    "solution([5, 9, 7, 10], 5)"
   ]
  },
  {
   "cell_type": "code",
   "execution_count": 25,
   "id": "04cc7d2a",
   "metadata": {},
   "outputs": [
    {
     "data": {
      "text/plain": [
       "[1, 2, 3, 36]"
      ]
     },
     "execution_count": 25,
     "metadata": {},
     "output_type": "execute_result"
    }
   ],
   "source": [
    "solution([2, 36, 1, 3], 1)"
   ]
  },
  {
   "cell_type": "code",
   "execution_count": 26,
   "id": "823f7524",
   "metadata": {},
   "outputs": [
    {
     "data": {
      "text/plain": [
       "[-1]"
      ]
     },
     "execution_count": 26,
     "metadata": {},
     "output_type": "execute_result"
    }
   ],
   "source": [
    "solution([3, 2, 6], 10)"
   ]
  }
 ],
 "metadata": {
  "kernelspec": {
   "display_name": "Python 3 (ipykernel)",
   "language": "python",
   "name": "python3"
  },
  "language_info": {
   "codemirror_mode": {
    "name": "ipython",
    "version": 3
   },
   "file_extension": ".py",
   "mimetype": "text/x-python",
   "name": "python",
   "nbconvert_exporter": "python",
   "pygments_lexer": "ipython3",
   "version": "3.9.15"
  }
 },
 "nbformat": 4,
 "nbformat_minor": 5
}

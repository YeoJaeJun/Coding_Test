{
 "cells": [
  {
   "cell_type": "markdown",
   "id": "8875d0e1",
   "metadata": {},
   "source": [
    "# 004. 기찍 N (BAEKJOON 2742)"
   ]
  },
  {
   "cell_type": "markdown",
   "id": "b15d616a",
   "metadata": {},
   "source": [
    "- BAEKJOON 2742 https://www.acmicpc.net/problem/2742"
   ]
  },
  {
   "cell_type": "markdown",
   "id": "f8526dcb",
   "metadata": {},
   "source": [
    "### 문제\n",
    "- 자연수 N이 주어졌을 때, N부터 1까지 한 줄에 하나씩 출력하는 프로그램을 작성하시오.\n",
    "\n",
    "### 입력\n",
    "- 첫째 줄에 100,000보다 작거나 같은 자연수 N이 주어진다.\n",
    "\n",
    "### 출력\n",
    "- 첫째 줄부터 N번째 줄 까지 차례대로 출력한다."
   ]
  },
  {
   "cell_type": "markdown",
   "id": "3fe09092",
   "metadata": {},
   "source": [
    "## 방법 1."
   ]
  },
  {
   "cell_type": "code",
   "execution_count": 3,
   "id": "c9406c3a",
   "metadata": {},
   "outputs": [
    {
     "name": "stdout",
     "output_type": "stream",
     "text": [
      "5\n",
      "5\n",
      "4\n",
      "3\n",
      "2\n",
      "1\n"
     ]
    }
   ],
   "source": [
    "N = int(input())\n",
    "\n",
    "for i in [ i for i in range(1, N+1) ][::-1]:\n",
    "    print(i)"
   ]
  },
  {
   "cell_type": "markdown",
   "id": "befdaf51",
   "metadata": {},
   "source": [
    "## 방법 2."
   ]
  },
  {
   "cell_type": "code",
   "execution_count": null,
   "id": "6d044997",
   "metadata": {},
   "outputs": [],
   "source": [
    "N = int(input())\n"
   ]
  }
 ],
 "metadata": {
  "kernelspec": {
   "display_name": "Python 3 (ipykernel)",
   "language": "python",
   "name": "python3"
  },
  "language_info": {
   "codemirror_mode": {
    "name": "ipython",
    "version": 3
   },
   "file_extension": ".py",
   "mimetype": "text/x-python",
   "name": "python",
   "nbconvert_exporter": "python",
   "pygments_lexer": "ipython3",
   "version": "3.9.15"
  }
 },
 "nbformat": 4,
 "nbformat_minor": 5
}

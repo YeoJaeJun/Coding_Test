{
 "cells": [
  {
   "cell_type": "markdown",
   "id": "8a7c355b",
   "metadata": {},
   "source": [
    "# 006. 홀수 (BAEKJOON 2576)"
   ]
  },
  {
   "cell_type": "markdown",
   "id": "15b6cc8b",
   "metadata": {},
   "source": [
    "- BAEKJOON 2576 https://www.acmicpc.net/problem/2576"
   ]
  },
  {
   "cell_type": "markdown",
   "id": "93727187",
   "metadata": {},
   "source": [
    "### 문제\n",
    "- 7개의 자연수가 주어질 때, 이들 중 홀수인 자연수들을 모두 골라 그 합을 구하고, 고른 홀수들 중 최솟값을 찾는 프로그램을 작성하시오.\n",
    "- 예를 들어, 7개의 자연수 12, 77, 38, 41, 53, 92, 85가 주어지면 이들 중 홀수는 77, 41, 53, 85이므로 그 합은 77 + 41 + 53 + 85 = 256 이 되고, 41 < 53 < 77 < 85 이므로 홀수들 중 최솟값은 41이 된다.\n",
    "\n",
    "### 입력\n",
    "- 입력의 첫째 줄부터 일곱 번째 줄까지 한 줄에 하나의 자연수가 주어진다. 주어지는 자연수는 100보다 작다.\n",
    "\n",
    "### 출력\n",
    "- 홀수가 존재하지 않는 경우에는 첫째 줄에 -1을 출력한다. 홀수가 존재하는 경우 첫째 줄에 홀수들의 합을 출력하고, 둘째 줄에 홀수들 중 최솟값을 출력한다."
   ]
  },
  {
   "cell_type": "markdown",
   "id": "a9723f3f",
   "metadata": {},
   "source": [
    "## 방법 1."
   ]
  },
  {
   "cell_type": "code",
   "execution_count": 24,
   "id": "00fead4c",
   "metadata": {},
   "outputs": [
    {
     "name": "stdout",
     "output_type": "stream",
     "text": [
      "2\n",
      "2\n",
      "2\n",
      "2\n",
      "2\n",
      "2\n",
      "2\n",
      "-1\n"
     ]
    }
   ],
   "source": [
    "numbers = []\n",
    "for i in range(7):\n",
    "    numbers.append(int(input()))\n",
    "\n",
    "odd_numbers = []\n",
    "for i in numbers:\n",
    "    if i % 2 != 0:\n",
    "        odd_numbers.append(i)\n",
    "\n",
    "if len(odd_numbers) == 0:\n",
    "    odd_numbers_min = -1\n",
    "    print(odd_numbers_min)\n",
    "else:\n",
    "    odd_numbers_sum = sum(odd_numbers)\n",
    "    odd_numbers_min = min(odd_numbers)\n",
    "    print(odd_numbers_sum)\n",
    "    print(odd_numbers_min)"
   ]
  }
 ],
 "metadata": {
  "kernelspec": {
   "display_name": "Python 3 (ipykernel)",
   "language": "python",
   "name": "python3"
  },
  "language_info": {
   "codemirror_mode": {
    "name": "ipython",
    "version": 3
   },
   "file_extension": ".py",
   "mimetype": "text/x-python",
   "name": "python",
   "nbconvert_exporter": "python",
   "pygments_lexer": "ipython3",
   "version": "3.9.15"
  }
 },
 "nbformat": 4,
 "nbformat_minor": 5
}

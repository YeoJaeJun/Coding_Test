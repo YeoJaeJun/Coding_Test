{
 "cells": [
  {
   "cell_type": "markdown",
   "id": "5c7be9f1",
   "metadata": {},
   "source": [
    "# 014. A + B - 7 (BAEKJOON 11021)"
   ]
  },
  {
   "cell_type": "markdown",
   "id": "9e114cae",
   "metadata": {},
   "source": [
    "- BAEKJOON 11021 https://www.acmicpc.net/problem/11021"
   ]
  },
  {
   "cell_type": "markdown",
   "id": "962649de",
   "metadata": {},
   "source": [
    "### 문제\n",
    "- 두 정수 A와 B를 입력받은 다음, A+B를 출력하는 프로그램을 작성하시오.\n",
    "\n",
    "### 입력\n",
    "- 첫째 줄에 테스트 케이스의 개수 T가 주어진다.\n",
    "- 각 테스트 케이스는 한 줄로 이루어져 있으며, 각 줄에 A와 B가 주어진다. (0 < A, B < 10)\n",
    "\n",
    "### 출력\n",
    "- 각 테스트 케이스마다 \"Case #x: \"를 출력한 다음, A+B를 출력한다. 테스트 케이스 번호는 1부터 시작한다."
   ]
  },
  {
   "cell_type": "markdown",
   "id": "b3951272",
   "metadata": {},
   "source": [
    "## 방법 1."
   ]
  },
  {
   "cell_type": "code",
   "execution_count": 3,
   "id": "06b11f88",
   "metadata": {},
   "outputs": [
    {
     "name": "stdout",
     "output_type": "stream",
     "text": [
      "5\n",
      "1 1\n",
      "2 3\n",
      "3 4\n",
      "4 5\n",
      "5 6\n",
      "Case #1: 2\n",
      "Case #2: 5\n",
      "Case #3: 7\n",
      "Case #4: 9\n",
      "Case #5: 11\n"
     ]
    }
   ],
   "source": [
    "T = int(input())\n",
    "\n",
    "result = []\n",
    "for i in range(T):\n",
    "    A, B = map(int, input().split(\" \"))\n",
    "    result.append(A + B)\n",
    "\n",
    "for idx, value in enumerate(result, 1):\n",
    "    print(f\"Case #{idx}: {value}\")"
   ]
  }
 ],
 "metadata": {
  "kernelspec": {
   "display_name": "Python 3 (ipykernel)",
   "language": "python",
   "name": "python3"
  },
  "language_info": {
   "codemirror_mode": {
    "name": "ipython",
    "version": 3
   },
   "file_extension": ".py",
   "mimetype": "text/x-python",
   "name": "python",
   "nbconvert_exporter": "python",
   "pygments_lexer": "ipython3",
   "version": "3.9.15"
  }
 },
 "nbformat": 4,
 "nbformat_minor": 5
}

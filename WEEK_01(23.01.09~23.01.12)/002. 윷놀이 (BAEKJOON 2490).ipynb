{
 "cells": [
  {
   "cell_type": "markdown",
   "id": "e5190f5f",
   "metadata": {},
   "source": [
    "# 002. 윷놀이 (BAEKJOON 2490)"
   ]
  },
  {
   "cell_type": "markdown",
   "id": "426ac433",
   "metadata": {},
   "source": [
    "- BAEKJOON 2490 https://www.acmicpc.net/problem/2490"
   ]
  },
  {
   "cell_type": "markdown",
   "id": "b3996764",
   "metadata": {},
   "source": [
    "### 문제\n",
    "- 우리나라 고유의 윷놀이는 네 개의 윷짝을 던져서 배(0)와 등(1)이 나오는 숫자를 세어 도, 개, 걸, 윷, 모를 결정한다. 네 개 윷짝을 던져서 나온 각 윷짝의 배 혹은 등 정보가 주어질 때 도(배 한 개, 등 세 개), 개(배 두 개, 등 두 개), 걸(배 세 개, 등 한 개), 윷(배 네 개), 모(등 네 개) 중 어떤 것인지를 결정하는 프로그램을 작성하라.\n",
    "\n",
    "### 입력\n",
    "- 첫째 줄부터 셋째 줄까지 각 줄에 각각 한 번 던진 윷짝들의 상태를 나타내는 네 개의 정수(0 또는 1)가 빈칸을 사이에 두고 주어진다.\n",
    "\n",
    "### 출력\n",
    "- 첫째 줄부터 셋째 줄까지 한 줄에 하나씩 결과를 도는 A, 개는 B, 걸은 C, 윷은 D, 모는 E로 출력한다."
   ]
  },
  {
   "cell_type": "markdown",
   "id": "e1aa32b4",
   "metadata": {},
   "source": [
    "## 방법 1."
   ]
  },
  {
   "cell_type": "code",
   "execution_count": 3,
   "id": "f8993240",
   "metadata": {},
   "outputs": [
    {
     "name": "stdout",
     "output_type": "stream",
     "text": [
      "0 1 0 1\n",
      "1 1 1 0\n",
      "0 0 1 1\n",
      "B\n",
      "A\n",
      "B\n"
     ]
    }
   ],
   "source": [
    "yut = []\n",
    "for i in range(3):\n",
    "    yut.append(input())\n",
    "\n",
    "yut_0 = []\n",
    "for i in range(3):\n",
    "    yut_0.append(yut[i].count(\"0\"))\n",
    "\n",
    "for i in range(3):\n",
    "    if yut_0[i] == 1:\n",
    "        print(\"A\")\n",
    "    elif yut_0[i] == 2:\n",
    "        print(\"B\")\n",
    "    elif yut_0[i] == 3:\n",
    "        print(\"C\")\n",
    "    elif yut_0[i] == 4:\n",
    "        print(\"D\")\n",
    "    else:\n",
    "        print(\"E\")"
   ]
  }
 ],
 "metadata": {
  "kernelspec": {
   "display_name": "Python 3 (ipykernel)",
   "language": "python",
   "name": "python3"
  },
  "language_info": {
   "codemirror_mode": {
    "name": "ipython",
    "version": 3
   },
   "file_extension": ".py",
   "mimetype": "text/x-python",
   "name": "python",
   "nbconvert_exporter": "python",
   "pygments_lexer": "ipython3",
   "version": "3.9.15"
  }
 },
 "nbformat": 4,
 "nbformat_minor": 5
}

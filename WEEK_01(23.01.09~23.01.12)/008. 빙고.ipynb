{
 "cells": [
  {
   "cell_type": "markdown",
   "id": "6abb4ca1",
   "metadata": {},
   "source": [
    "# 008. 빙고"
   ]
  },
  {
   "cell_type": "markdown",
   "id": "2aa755a0",
   "metadata": {},
   "source": [
    "- BAEKJOON 2578 https://www.acmicpc.net/problem/2578"
   ]
  },
  {
   "cell_type": "markdown",
   "id": "cf5f7326",
   "metadata": {},
   "source": [
    "### 문제\n",
    "- 빙고 게임은 다음과 같은 방식으로 이루어진다.\n",
    "    1. 먼저 아래와 같이 25개의 칸으로 이루어진 빙고판에 1부터 25까지 자연수를 한 칸에 하나씩 쓴다.\n",
    "    2. 다음은 사회자가 부르는 수를 차례로 지워나간다. 예를 들어 5, 10, 7이 불렸다면 이 세 수를 지운 뒤 빙고판의 모습은 다음과 같다.\n",
    "    3. 차례로 수를 지워가다가 같은 가로줄, 세로줄 또는 대각선 위에 있는 5개의 모든 수가 지워지는 경우 그 줄에 선을 긋는다.\n",
    "    4. 이러한 선이 세 개 이상 그어지는 순간 \"빙고\"라고 외치는데, 가장 먼저 외치는 사람이 게임의 승자가 된다.\n",
    "- 철수는 친구들과 빙고 게임을 하고 있다. 철수가 빙고판에 쓴 수들과 사회자가 부르는 수의 순서가 주어질 때, 사회자가 몇 번째 수를 부른 후 철수가 \"빙고\"를 외치게 되는지를 출력하는 프로그램을 작성하시오.\n",
    "\n",
    "### 입력\n",
    "- 첫째 줄부터 다섯째 줄까지 빙고판에 쓰여진 수가 가장 위 가로줄부터 차례대로 한 줄에 다섯 개씩 빈 칸을 사이에 두고 주어진다. 여섯째 줄부터 열째 줄까지 사회자가 부르는 수가 차례대로 한 줄에 다섯 개씩 빈 칸을 사이에 두고 주어진다. 빙고판에 쓰여진 수와 사회자가 부르는 수는 각각 1부터 25까지의 수가 한 번씩 사용된다.\n",
    "\n",
    "### 출력\n",
    "- 첫째 줄에 사회자가 몇 번째 수를 부른 후 철수가 \"빙고\"를 외치게 되는지 출력한다."
   ]
  },
  {
   "cell_type": "markdown",
   "id": "3f17fce1",
   "metadata": {},
   "source": [
    "## 방법 1."
   ]
  },
  {
   "cell_type": "code",
   "execution_count": 7,
   "id": "da90859d",
   "metadata": {},
   "outputs": [
    {
     "name": "stdout",
     "output_type": "stream",
     "text": [
      "11 12 2 24 10\n",
      "16 1 13 3 25\n",
      "6 20 5 21 17\n",
      "19 4 8 14 9\n",
      "22 15 7 23 18\n",
      "5 10 7 16 2\n",
      "4 22 8 17 13\n",
      "3 18 1 6 25\n",
      "12 19 23 14 21\n",
      "11 24 9 20 15\n"
     ]
    }
   ],
   "source": [
    "# user의 빙고에 적혀있는 숫자를 입력받는다.\n",
    "num_user = []\n",
    "for _ in range(5):\n",
    "    num_user.append(input().split())\n",
    "\n",
    "# MC가 말하는 숫자를 입력받는다.\n",
    "number_MC = []\n",
    "num_MC = []\n",
    "for _ in range(5):\n",
    "    number_MC = input().split()\n",
    "    for i in range(5):\n",
    "        num_MC.append(number_MC[i])\n",
    "\n",
    "bingo = 0\n",
    "for idx in range(25):\n",
    "    for i in range(5):\n",
    "        for j in range(5):\n",
    "            if num_MC[idx] == num_user[i][j]:\n",
    "                num_user[i][j] = \"*\"\n",
    "            \n",
    "            for ii in range(5):\n",
    "                if num_user[ii].count(\"*\") == 5:\n",
    "                    bingo += 1\n",
    "                cnt = 0\n",
    "                for jj in range(5):\n",
    "                    if num_user[jj][ii] == \"*\":\n",
    "                        cnt += 1\n",
    "                if cnt == 5:\n",
    "                    bingo += 1\n",
    "            \n",
    "            if num_user[0][4] == \"*\" and num_user[1][3] == \"*\" and num_user[2][2] == \"*\" and num_user[3][1] == \"*\" and num_user[4][0] == \"*\":\n",
    "                bingo += 1\n",
    "            if num_user[0][0] == \"*\" and num_user[1][1] == \"*\" and num_user[2][2] == \"*\" and num_user[3][3] == \"*\" and num_user[4][4] == \"*\":\n",
    "                bingo += 1\n",
    "            \n",
    "            if bingo >= 3:\n",
    "                print(idx + 1)\n",
    "                break\n",
    "            break\n",
    "        break\n",
    "    break"
   ]
  },
  {
   "cell_type": "code",
   "execution_count": 41,
   "id": "3df696a9",
   "metadata": {},
   "outputs": [],
   "source": [
    "num_user = [[11, 12, 2, 24, 10], \n",
    "[16, 1, 13, 3, 25],\n",
    "[6, 20, 5, 21, 17],\n",
    "[19, 4, 8, 14, 9],\n",
    "[22, 15, 7, 23, 18]]"
   ]
  },
  {
   "cell_type": "code",
   "execution_count": 42,
   "id": "37b6ea1c",
   "metadata": {},
   "outputs": [],
   "source": [
    "num_MC = [5, 10, 7, 16, 2, 4, 22, 8, 17, 13, 3, 18, 1, 6, 25, 12, 19, 23, 14, 21, 11, 24, 9, 20, 15]"
   ]
  },
  {
   "cell_type": "code",
   "execution_count": 43,
   "id": "13ae236b",
   "metadata": {},
   "outputs": [
    {
     "name": "stdout",
     "output_type": "stream",
     "text": [
      "10\n"
     ]
    }
   ],
   "source": [
    "bingo_check = False\n",
    "for idx in range(25):\n",
    "    bingo = 0\n",
    "    \n",
    "    for i in range(5):\n",
    "        for j in range(5):\n",
    "            \n",
    "            if num_MC[idx] == num_user[i][j]:\n",
    "                num_user[i][j] = \"*\"\n",
    "            \n",
    "            for ii in range(5):\n",
    "                if num_user[ii].count(\"*\") == 5:\n",
    "                    bingo += 1\n",
    "                cnt = 0\n",
    "                for jj in range(5):\n",
    "                    if num_user[jj][ii] == \"*\":\n",
    "                        cnt += 1\n",
    "                    if cnt == 5:\n",
    "                        bingo += 1\n",
    "            \n",
    "            if num_user[0][4] == \"*\" and num_user[1][3] == \"*\" and num_user[2][2] == \"*\" and num_user[3][1] == \"*\" and num_user[4][0] == \"*\":\n",
    "                bingo += 1\n",
    "            if num_user[0][0] == \"*\" and num_user[1][1] == \"*\" and num_user[2][2] == \"*\" and num_user[3][3] == \"*\" and num_user[4][4] == \"*\":\n",
    "                bingo += 1\n",
    "            \n",
    "            if bingo >= 3:\n",
    "                bingo_check = True\n",
    "                print(idx + 1)\n",
    "                break\n",
    "            \n",
    "        if bingo_check == True:\n",
    "            break\n",
    "    \n",
    "    if bingo_check == True:\n",
    "        break\n",
    "            "
   ]
  },
  {
   "cell_type": "code",
   "execution_count": 45,
   "id": "d90c121e",
   "metadata": {},
   "outputs": [],
   "source": [
    "for idx in range(10):\n",
    "    for i in range(5):\n",
    "        for j in range(5):\n",
    "            if num_MC[idx] == num_user[i][j]:\n",
    "                num_user[i][j] = \"*\""
   ]
  },
  {
   "cell_type": "code",
   "execution_count": 46,
   "id": "36a196ab",
   "metadata": {},
   "outputs": [
    {
     "data": {
      "text/plain": [
       "[[11, 12, '*', 24, '*'],\n",
       " ['*', 1, '*', 3, 25],\n",
       " [6, 20, '*', 21, '*'],\n",
       " [19, '*', '*', 14, 9],\n",
       " ['*', 15, '*', 23, 18]]"
      ]
     },
     "execution_count": 46,
     "metadata": {},
     "output_type": "execute_result"
    }
   ],
   "source": [
    "num_user"
   ]
  }
 ],
 "metadata": {
  "kernelspec": {
   "display_name": "Python 3 (ipykernel)",
   "language": "python",
   "name": "python3"
  },
  "language_info": {
   "codemirror_mode": {
    "name": "ipython",
    "version": 3
   },
   "file_extension": ".py",
   "mimetype": "text/x-python",
   "name": "python",
   "nbconvert_exporter": "python",
   "pygments_lexer": "ipython3",
   "version": "3.9.15"
  }
 },
 "nbformat": 4,
 "nbformat_minor": 5
}

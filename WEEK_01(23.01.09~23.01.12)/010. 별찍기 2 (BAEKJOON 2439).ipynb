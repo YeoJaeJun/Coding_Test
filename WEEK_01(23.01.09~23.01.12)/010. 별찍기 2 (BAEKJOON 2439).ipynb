{
 "cells": [
  {
   "cell_type": "markdown",
   "id": "2df5d2b6",
   "metadata": {},
   "source": [
    "# 010. 별찍기 2 (BAEKJOON 2439)"
   ]
  },
  {
   "cell_type": "markdown",
   "id": "4c3350ec",
   "metadata": {},
   "source": [
    "- BAEKJOON 2439 https://www.acmicpc.net/problem/2439"
   ]
  },
  {
   "cell_type": "markdown",
   "id": "baa7eecb",
   "metadata": {},
   "source": [
    "### 문제\n",
    "- 첫째 줄에는 별 1개, 둘째 줄에는 별 2개, N번째 줄에는 별 N개를 찍는 문제 하지만, 오른쪽을 기준으로 정렬한 별(예제 참고)을 출력하시오.\n",
    "\n",
    "### 입력\n",
    "- 첫째 줄에 N(1 ≤ N ≤ 100)이 주어진다.\n",
    "\n",
    "### 출력\n",
    "- 첫째 줄부터 N번째 줄까지 차례대로 별을 출력한다."
   ]
  },
  {
   "cell_type": "markdown",
   "id": "08e03b69",
   "metadata": {},
   "source": [
    "## 방법 1."
   ]
  },
  {
   "cell_type": "code",
   "execution_count": 11,
   "id": "c92dc052",
   "metadata": {},
   "outputs": [
    {
     "name": "stdout",
     "output_type": "stream",
     "text": [
      "5\n",
      "    *\n",
      "   **\n",
      "  ***\n",
      " ****\n",
      "*****\n"
     ]
    }
   ],
   "source": [
    "num = int(input())\n",
    "\n",
    "for i in range(num):\n",
    "    for j in range(num):\n",
    "        if j < num - i - 1:\n",
    "            print(\" \", end = \"\")\n",
    "        else:\n",
    "            print(\"*\", end = \"\")\n",
    "    print()"
   ]
  }
 ],
 "metadata": {
  "kernelspec": {
   "display_name": "Python 3 (ipykernel)",
   "language": "python",
   "name": "python3"
  },
  "language_info": {
   "codemirror_mode": {
    "name": "ipython",
    "version": 3
   },
   "file_extension": ".py",
   "mimetype": "text/x-python",
   "name": "python",
   "nbconvert_exporter": "python",
   "pygments_lexer": "ipython3",
   "version": "3.9.15"
  }
 },
 "nbformat": 4,
 "nbformat_minor": 5
}

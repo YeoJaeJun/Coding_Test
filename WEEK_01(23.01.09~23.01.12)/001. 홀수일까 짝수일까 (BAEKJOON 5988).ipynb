{
 "cells": [
  {
   "cell_type": "markdown",
   "id": "f324877e",
   "metadata": {},
   "source": [
    "# 001. 홀수일까 짝수일까 (BAEKJOON 5988)"
   ]
  },
  {
   "cell_type": "markdown",
   "id": "b90c63ea",
   "metadata": {},
   "source": [
    "- BAEKJOON 5988\n",
    "https://www.acmicpc.net/problem/5988"
   ]
  },
  {
   "cell_type": "markdown",
   "id": "d2493620",
   "metadata": {},
   "source": [
    "### 문제\n",
    "- 짝이 없는 경재는 매일 홀로 있다보니 홀수를 판별할 수 있는 능력이 생겼다. 창식이는 경재의 말이 사실인지 그 능력을 시험해보려 한다. 창식이의 의심이 끝이 없을 것 같아 N개만 확인하기로 정했다. N개의 정수가 주어지면 홀수인지 짝수인지를 출력하는 프로그램을 만들어 경재의 능력을 검증할 수 있게 도와주자.\n",
    "\n",
    "### 입력\n",
    "- 첫 번째 줄에 숫자의 개수 N(1 <= N <= 100)이 주어진다. 두 번째 줄부터 N+1번째 줄에 걸쳐 홀수인지 짝수인지 확인할 정수 K (1 <= K <= 10^60)가 주어진다.\n",
    "\n",
    "### 출력\n",
    "- N개의 줄에 걸쳐 한 줄씩 정수 K가 홀수라면 'odd'를, 짝수라면 'even'을 출력한다."
   ]
  },
  {
   "cell_type": "markdown",
   "id": "18ff3db7",
   "metadata": {},
   "source": [
    "## 방법 1. Comprehension 사용"
   ]
  },
  {
   "cell_type": "code",
   "execution_count": 12,
   "id": "989d3380",
   "metadata": {},
   "outputs": [
    {
     "name": "stdout",
     "output_type": "stream",
     "text": [
      "홀짝을 확인할 숫자의 개수 입력: 3\n",
      "1\n",
      "2\n",
      "3\n",
      "odd\n",
      "even\n",
      "odd\n"
     ]
    }
   ],
   "source": [
    "num = int(input(\"홀짝을 확인할 숫자의 개수 입력: \"))\n",
    "\n",
    "numbers = []\n",
    "for i in range(num):\n",
    "    numbers.append(int(input()))\n",
    "\n",
    "for v in [ \"even\" if i % 2 == 0 else \"odd\" for i in numbers ]:\n",
    "    print(v)"
   ]
  },
  {
   "cell_type": "markdown",
   "id": "d210f6cc",
   "metadata": {},
   "source": [
    "## 방법 2."
   ]
  },
  {
   "cell_type": "code",
   "execution_count": null,
   "id": "2f3c73d7",
   "metadata": {},
   "outputs": [],
   "source": []
  }
 ],
 "metadata": {
  "kernelspec": {
   "display_name": "Python 3 (ipykernel)",
   "language": "python",
   "name": "python3"
  },
  "language_info": {
   "codemirror_mode": {
    "name": "ipython",
    "version": 3
   },
   "file_extension": ".py",
   "mimetype": "text/x-python",
   "name": "python",
   "nbconvert_exporter": "python",
   "pygments_lexer": "ipython3",
   "version": "3.9.15"
  }
 },
 "nbformat": 4,
 "nbformat_minor": 5
}

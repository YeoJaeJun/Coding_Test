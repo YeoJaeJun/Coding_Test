{
 "cells": [
  {
   "cell_type": "markdown",
   "id": "1b95af04",
   "metadata": {},
   "source": [
    "# 015. A + B - 8 (BAEKJOON 11022)"
   ]
  },
  {
   "cell_type": "markdown",
   "id": "34d2b8a9",
   "metadata": {},
   "source": [
    "- BAEKJOON 11022 https://www.acmicpc.net/problem/11022"
   ]
  },
  {
   "cell_type": "markdown",
   "id": "40c901b4",
   "metadata": {},
   "source": [
    "### 문제\n",
    "- 두 정수 A와 B를 입력받은 다음, A+B를 출력하는 프로그램을 작성하시오.\n",
    "\n",
    "### 입력\n",
    "- 첫째 줄에 테스트 케이스의 개수 T가 주어진다.\n",
    "- 각 테스트 케이스는 한 줄로 이루어져 있으며, 각 줄에 A와 B가 주어진다. (0 < A, B < 10)\n",
    "\n",
    "### 출력\n",
    "- 각 테스트 케이스마다 \"Case #x: A + B = C\" 형식으로 출력한다. x는 테스트 케이스 번호이고 1부터 시작하며, C는 A+B이다."
   ]
  },
  {
   "cell_type": "markdown",
   "id": "42921ab2",
   "metadata": {},
   "source": [
    "## 방법 1."
   ]
  },
  {
   "cell_type": "code",
   "execution_count": 16,
   "id": "4b74e535",
   "metadata": {},
   "outputs": [
    {
     "name": "stdout",
     "output_type": "stream",
     "text": [
      "5\n",
      "1 2\n",
      "2 3\n",
      "3 4\n",
      "4 5\n",
      "5 6\n",
      "Case #1: 1 + 2 = 3\n",
      "Case #2: 2 + 3 = 5\n",
      "Case #3: 3 + 4 = 7\n",
      "Case #4: 4 + 5 = 9\n",
      "Case #5: 5 + 6 = 11\n"
     ]
    }
   ],
   "source": [
    "T = int(input())\n",
    "\n",
    "A = []\n",
    "B = []\n",
    "C = []\n",
    "for i in range(T):\n",
    "    nums = input()\n",
    "    A.append( int(nums.split()[0]) )\n",
    "    B.append( int(nums.split()[1]) )\n",
    "    C.append( A[i] + B[i] )\n",
    "\n",
    "for idx, value in enumerate(zip(A, B, C), 1):\n",
    "    print(f\"Case #{idx}: {value[0]} + {value[1]} = {value[2]}\")"
   ]
  }
 ],
 "metadata": {
  "kernelspec": {
   "display_name": "Python 3 (ipykernel)",
   "language": "python",
   "name": "python3"
  },
  "language_info": {
   "codemirror_mode": {
    "name": "ipython",
    "version": 3
   },
   "file_extension": ".py",
   "mimetype": "text/x-python",
   "name": "python",
   "nbconvert_exporter": "python",
   "pygments_lexer": "ipython3",
   "version": "3.9.15"
  }
 },
 "nbformat": 4,
 "nbformat_minor": 5
}

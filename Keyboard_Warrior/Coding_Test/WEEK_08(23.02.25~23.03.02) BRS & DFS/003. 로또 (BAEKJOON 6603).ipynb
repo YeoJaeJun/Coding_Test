{
 "cells": [
  {
   "cell_type": "markdown",
   "id": "adb5d41a",
   "metadata": {},
   "source": [
    "# 003. 로또 (BAEKJOON 6603)"
   ]
  },
  {
   "cell_type": "markdown",
   "id": "3fe77773",
   "metadata": {},
   "source": [
    "- https://www.acmicpc.net/problem/6603"
   ]
  },
  {
   "cell_type": "markdown",
   "id": "60f96c20",
   "metadata": {},
   "source": [
    "### 문제\n",
    "- 독일 로또는 {1, 2, ..., 49}에서 수 6개를 고른다.\n",
    "- 로또 번호를 선택하는데 사용되는 가장 유명한 전략은 49가지 수 중 k(k>6)개의 수를 골라 집합 S를 만든 다음 그 수만 가지고 번호를 선택하는 것이다.\n",
    "- 예를 들어, k=8, S={1,2,3,5,8,13,21,34}인 경우 이 집합 S에서 수를 고를 수 있는 경우의 수는 총 28가지이다. ([1,2,3,5,8,13], [1,2,3,5,8,21], [1,2,3,5,8,34], [1,2,3,5,13,21], ..., [3,5,8,13,21,34])\n",
    "- 집합 S와 k가 주어졌을 때, 수를 고르는 모든 방법을 구하는 프로그램을 작성하시오.\n",
    "\n",
    "### 입력\n",
    "- 입력은 여러 개의 테스트 케이스로 이루어져 있다. 각 테스트 케이스는 한 줄로 이루어져 있다. 첫 번째 수는 k (6 < k < 13)이고, 다음 k개 수는 집합 S에 포함되는 수이다. S의 원소는 오름차순으로 주어진다.\n",
    "- 입력의 마지막 줄에는 0이 하나 주어진다.\n",
    "\n",
    "### 출력\n",
    "- 각 테스트 케이스마다 수를 고르는 모든 방법을 출력한다. 이때, 사전 순으로 출력한다.\n",
    "- 각 테스트 케이스 사이에는 빈 줄을 하나 출력한다."
   ]
  },
  {
   "cell_type": "markdown",
   "id": "815acfd6",
   "metadata": {},
   "source": [
    "## Solution 1"
   ]
  },
  {
   "cell_type": "code",
   "execution_count": null,
   "id": "28bbd04f",
   "metadata": {},
   "outputs": [],
   "source": []
  },
  {
   "cell_type": "code",
   "execution_count": null,
   "id": "f55823eb",
   "metadata": {},
   "outputs": [],
   "source": []
  },
  {
   "cell_type": "code",
   "execution_count": null,
   "id": "b362051e",
   "metadata": {},
   "outputs": [],
   "source": []
  },
  {
   "cell_type": "code",
   "execution_count": null,
   "id": "ba88661e",
   "metadata": {},
   "outputs": [],
   "source": []
  }
 ],
 "metadata": {
  "kernelspec": {
   "display_name": "Python 3 (ipykernel)",
   "language": "python",
   "name": "python3"
  },
  "language_info": {
   "codemirror_mode": {
    "name": "ipython",
    "version": 3
   },
   "file_extension": ".py",
   "mimetype": "text/x-python",
   "name": "python",
   "nbconvert_exporter": "python",
   "pygments_lexer": "ipython3",
   "version": "3.9.16"
  }
 },
 "nbformat": 4,
 "nbformat_minor": 5
}

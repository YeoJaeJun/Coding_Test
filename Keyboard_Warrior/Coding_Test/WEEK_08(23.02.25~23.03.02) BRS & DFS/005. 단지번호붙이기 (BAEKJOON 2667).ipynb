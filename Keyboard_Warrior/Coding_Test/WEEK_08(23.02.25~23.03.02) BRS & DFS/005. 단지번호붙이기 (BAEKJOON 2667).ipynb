{
 "cells": [
  {
   "cell_type": "markdown",
   "id": "715a1c2b",
   "metadata": {},
   "source": [
    "# 005. 단지번호붙이기 (BAEKJOON 2667)"
   ]
  },
  {
   "cell_type": "markdown",
   "id": "e86f3c79",
   "metadata": {},
   "source": [
    "- https://www.acmicpc.net/problem/2667"
   ]
  },
  {
   "cell_type": "markdown",
   "id": "946d5813",
   "metadata": {},
   "source": [
    "### 문제\n",
    "- <그림 1>과 같이 정사각형 모양의 지도가 있다. 1은 집이 있는 곳을, 0은 집이 없는 곳을 나타낸다. 철수는 이 지도를 가지고 연결된 집의 모임인 단지를 정의하고, 단지에 번호를 붙이려 한다. 여기서 연결되었다는 것은 어떤 집이 좌우, 혹은 아래위로 다른 집이 있는 경우를 말한다. 대각선상에 집이 있는 경우는 연결된 것이 아니다. <그림 2>는 <그림 1>을 단지별로 번호를 붙인 것이다. 지도를 입력하여 단지수를 출력하고, 각 단지에 속하는 집의 수를 오름차순으로 정렬하여 출력하는 프로그램을 작성하시오.\n",
    "\n",
    "### 입력\n",
    "- 첫 번째 줄에는 지도의 크기 N(정사각형이므로 가로와 세로의 크기는 같으며 5≤N≤25)이 입력되고, 그 다음 N줄에는 각각 N개의 자료(0혹은 1)가 입력된다.\n",
    "\n",
    "### 출력\n",
    "- 첫 번째 줄에는 총 단지수를 출력하시오. 그리고 각 단지내 집의 수를 오름차순으로 정렬하여 한 줄에 하나씩 출력하시오.\n",
    "\n",
    "### 예제 입력 1\n",
    "7<br>\n",
    "0110100<br>\n",
    "0110101<br>\n",
    "1110101<br>\n",
    "0000111<br>\n",
    "0100000<br>\n",
    "0111110<br>\n",
    "0111000\n",
    "\n",
    "### 예제 출력 1\n",
    "3<br>\n",
    "7<br>\n",
    "8<br>\n",
    "9"
   ]
  },
  {
   "cell_type": "markdown",
   "id": "986b6c4a",
   "metadata": {},
   "source": [
    "## Solution 1"
   ]
  },
  {
   "cell_type": "code",
   "execution_count": null,
   "id": "13b96e8a",
   "metadata": {},
   "outputs": [],
   "source": [
    "# 정수 N을 입력받는다.\n",
    "N = int(input())\n",
    "\n",
    "# 지도의 정보를 입력받는다.\n",
    "maps = []\n",
    "for _ in range(N):\n",
    "    maps.append(list(map(int, input())))\n",
    "    \n",
    "# "
   ]
  },
  {
   "cell_type": "code",
   "execution_count": null,
   "id": "4b7e6d56",
   "metadata": {},
   "outputs": [],
   "source": []
  }
 ],
 "metadata": {
  "kernelspec": {
   "display_name": "Python 3 (ipykernel)",
   "language": "python",
   "name": "python3"
  },
  "language_info": {
   "codemirror_mode": {
    "name": "ipython",
    "version": 3
   },
   "file_extension": ".py",
   "mimetype": "text/x-python",
   "name": "python",
   "nbconvert_exporter": "python",
   "pygments_lexer": "ipython3",
   "version": "3.9.16"
  }
 },
 "nbformat": 4,
 "nbformat_minor": 5
}

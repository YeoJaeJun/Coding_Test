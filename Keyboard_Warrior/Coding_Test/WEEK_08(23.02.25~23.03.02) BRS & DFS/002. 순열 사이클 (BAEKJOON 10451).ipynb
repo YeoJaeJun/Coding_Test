{
 "cells": [
  {
   "cell_type": "markdown",
   "id": "76fd27fb",
   "metadata": {},
   "source": [
    "# 002. 순열 사이클 (BAEKJOON 10451)"
   ]
  },
  {
   "cell_type": "markdown",
   "id": "341a59a1",
   "metadata": {},
   "source": [
    "- https://www.acmicpc.net/problem/10451"
   ]
  },
  {
   "cell_type": "markdown",
   "id": "e101a38e",
   "metadata": {},
   "source": [
    "### 문제\n",
    "- 1부터 N까지 정수 N개로 이루어진 순열을 나타내는 방법은 여러 가지가 있다. 예를 들어, 8개의 수로 이루어진 순열 (3, 2, 7, 8, 1, 4, 5, 6)을 배열을 이용해 표현하면  \n",
    "- \\(\\begin{pmatrix} 1 & 2 &3&4&5&6&7&8 \\\\  3& 2&7&8&1&4&5&6 \\end{pmatrix}\\) 와 같다. 또는, Figure 1과 같이 방향 그래프로 나타낼 수도 있다.\n",
    "- 순열을 배열을 이용해  \n",
    "- \\(\\begin{pmatrix} 1 & \\dots & i & \\dots &n \\\\  \\pi_1& \\dots& \\pi_i & \\dots & \\pi_n \\end{pmatrix}\\) 로 나타냈다면, i에서 πi로 간선을 이어 그래프로 만들 수 있다.\n",
    "- Figure 1에 나와있는 것 처럼, 순열 그래프 (3, 2, 7, 8, 1, 4, 5, 6) 에는 총 3개의 사이클이 있다. 이러한 사이클을 \"순열 사이클\" 이라고 한다.\n",
    "- N개의 정수로 이루어진 순열이 주어졌을 때, 순열 사이클의 개수를 구하는 프로그램을 작성하시오.\n",
    "\n",
    "### 입력\n",
    "- 첫째 줄에 테스트 케이스의 개수 T가 주어진다. 각 테스트 케이스의 첫째 줄에는 순열의 크기 N (2 ≤ N ≤ 1,000)이 주어진다. 둘째 줄에는 순열이 주어지며, 각 정수는 공백으로 구분되어 있다.\n",
    "\n",
    "### 출력\n",
    "- 각 테스트 케이스마다, 입력으로 주어진 순열에 존재하는 순열 사이클의 개수를 출력한다.\n",
    "\n",
    "### 예제 입력 1\n",
    "2<br>\n",
    "8<br>\n",
    "3 2 7 8 1 4 5 6<br>\n",
    "10<br>\n",
    "2 1 3 4 5 6 7 9 10 8\n",
    "\n",
    "### 예제 출력 1\n",
    "3<br>\n",
    "7"
   ]
  },
  {
   "cell_type": "markdown",
   "id": "bb7de72d",
   "metadata": {},
   "source": [
    "## Solution 1"
   ]
  },
  {
   "cell_type": "code",
   "execution_count": null,
   "id": "cb696a36",
   "metadata": {},
   "outputs": [],
   "source": [
    "# DFS 함수를 정의한다. V는 탐색을 하는 노드이다.\n",
    "def DFS(V):\n",
    "    # 방문한 노드를 표시한다.\n",
    "    visited[V] = True\n",
    "    \n",
    "    # 방문 노드를 정의한다.\n",
    "    number = numbers[V]\n",
    "    \n",
    "    # 만약 해당 노드에 방문하지 않았다면\n",
    "    if visited[number] == False:\n",
    "        # DFS를 실행한다.\n",
    "        DFS(number)"
   ]
  },
  {
   "cell_type": "code",
   "execution_count": null,
   "id": "c5a4de4a",
   "metadata": {},
   "outputs": [],
   "source": [
    "# 테스트 케이스의 개수 T를 입력받는다.\n",
    "T = int(input())\n",
    "\n",
    "for _ in range(T):\n",
    "    # 정수 N을 입력받는다. N은 순열의 크기이다.\n",
    "    N = int(input())\n",
    "    \n",
    "    # 순열을 입력받는다.\n",
    "    numbers = list(map(int, input().split()))\n",
    "    \n",
    "    # 방문 여부를 확인할 리스트를 만든다.\n",
    "    visited = [False] * N\n",
    "    \n",
    "    # 순열 사이클의 개수를 정의한다.\n",
    "    cycle_cnt = 0\n",
    "    \n",
    "    for i in range(1, N + 1):\n",
    "        if visited[i] == False:\n",
    "            DFS(i)\n",
    "            cycle_cnt += 1\n",
    "    \n",
    "    print(cycle_cnt)"
   ]
  },
  {
   "cell_type": "code",
   "execution_count": null,
   "id": "93f8cf56",
   "metadata": {},
   "outputs": [],
   "source": []
  }
 ],
 "metadata": {
  "kernelspec": {
   "display_name": "Python 3 (ipykernel)",
   "language": "python",
   "name": "python3"
  },
  "language_info": {
   "codemirror_mode": {
    "name": "ipython",
    "version": 3
   },
   "file_extension": ".py",
   "mimetype": "text/x-python",
   "name": "python",
   "nbconvert_exporter": "python",
   "pygments_lexer": "ipython3",
   "version": "3.9.16"
  }
 },
 "nbformat": 4,
 "nbformat_minor": 5
}

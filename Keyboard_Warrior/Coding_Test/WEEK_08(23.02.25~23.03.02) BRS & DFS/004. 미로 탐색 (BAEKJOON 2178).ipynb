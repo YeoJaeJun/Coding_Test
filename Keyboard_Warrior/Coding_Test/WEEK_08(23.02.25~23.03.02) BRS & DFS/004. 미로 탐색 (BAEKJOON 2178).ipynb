{
 "cells": [
  {
   "cell_type": "markdown",
   "id": "8c917ed8",
   "metadata": {},
   "source": [
    "# 004. 미로 탐색 (BAEKJOON 2178)"
   ]
  },
  {
   "cell_type": "markdown",
   "id": "70df6777",
   "metadata": {},
   "source": [
    "- https://www.acmicpc.net/problem/2178"
   ]
  },
  {
   "cell_type": "markdown",
   "id": "eac97633",
   "metadata": {},
   "source": [
    "### 문제\n",
    "- N×M크기의 배열로 표현되는 미로가 있다.\n",
    "|1\t|0\t|1\t|1\t|1\t|1|\n",
    "|-  |-  |-  |-  |-  |-|\n",
    "|1\t|0\t|1\t|0\t|1\t|0|\n",
    "|1\t|0\t|1\t|0\t|1\t|1|\n",
    "|1\t|1\t|1\t|0\t|1\t|1|\n",
    "- 미로에서 1은 이동할 수 있는 칸을 나타내고, 0은 이동할 수 없는 칸을 나타낸다. 이러한 미로가 주어졌을 때, (1, 1)에서 출발하여 (N, M)의 위치로 이동할 때 지나야 하는 최소의 칸 수를 구하는 프로그램을 작성하시오. 한 칸에서 다른 칸으로 이동할 때, 서로 인접한 칸으로만 이동할 수 있다.\n",
    "- 위의 예에서는 15칸을 지나야 (N, M)의 위치로 이동할 수 있다. 칸을 셀 때에는 시작 위치와 도착 위치도 포함한다.\n",
    "\n",
    "### 입력\n",
    "- 첫째 줄에 두 정수 N, M(2 ≤ N, M ≤ 100)이 주어진다. 다음 N개의 줄에는 M개의 정수로 미로가 주어진다. 각각의 수들은 붙어서 입력으로 주어진다.\n",
    "\n",
    "### 출력\n",
    "- 첫째 줄에 지나야 하는 최소의 칸 수를 출력한다. 항상 도착위치로 이동할 수 있는 경우만 입력으로 주어진다.\n",
    "\n",
    "### 예제 입력 1\n",
    "4 6<br>\n",
    "101111<br>\n",
    "101010<br>\n",
    "101011<br>\n",
    "111011\n",
    "\n",
    "### 예제 출력 1\n",
    "15\n",
    "\n",
    "### 예제 입력 2\n",
    "4 6<br>\n",
    "110110<br>\n",
    "110110<br>\n",
    "111111<br>\n",
    "111101\n",
    "\n",
    "### 예제 출력 2\n",
    "9"
   ]
  },
  {
   "cell_type": "markdown",
   "id": "150d3be1",
   "metadata": {},
   "source": [
    "## Solution 1"
   ]
  },
  {
   "cell_type": "code",
   "execution_count": 4,
   "id": "febbca68",
   "metadata": {
    "ExecuteTime": {
     "end_time": "2023-03-01T09:40:58.754261Z",
     "start_time": "2023-03-01T09:40:50.621787Z"
    }
   },
   "outputs": [
    {
     "name": "stdout",
     "output_type": "stream",
     "text": [
      "4 6\n",
      "101010\n",
      "101010\n",
      "101010\n",
      "101010\n"
     ]
    }
   ],
   "source": [
    "# 두 정수 N과 M을 입력받는다.\n",
    "N, M = map(int, input().split())\n",
    "\n",
    "# 미로의 정보를 입력받는다.\n",
    "maze = []\n",
    "for _ in range(N):\n",
    "    maze.append(list(map(int, input())))\n",
    "    \n",
    "# "
   ]
  },
  {
   "cell_type": "code",
   "execution_count": 5,
   "id": "71acc9ad",
   "metadata": {
    "ExecuteTime": {
     "end_time": "2023-03-01T09:40:59.981284Z",
     "start_time": "2023-03-01T09:40:59.969487Z"
    }
   },
   "outputs": [
    {
     "data": {
      "text/plain": [
       "[[1, 0, 1, 0, 1, 0],\n",
       " [1, 0, 1, 0, 1, 0],\n",
       " [1, 0, 1, 0, 1, 0],\n",
       " [1, 0, 1, 0, 1, 0]]"
      ]
     },
     "execution_count": 5,
     "metadata": {},
     "output_type": "execute_result"
    }
   ],
   "source": [
    "maze"
   ]
  },
  {
   "cell_type": "code",
   "execution_count": null,
   "id": "70908b69",
   "metadata": {},
   "outputs": [],
   "source": []
  }
 ],
 "metadata": {
  "kernelspec": {
   "display_name": "Python 3 (ipykernel)",
   "language": "python",
   "name": "python3"
  },
  "language_info": {
   "codemirror_mode": {
    "name": "ipython",
    "version": 3
   },
   "file_extension": ".py",
   "mimetype": "text/x-python",
   "name": "python",
   "nbconvert_exporter": "python",
   "pygments_lexer": "ipython3",
   "version": "3.9.16"
  }
 },
 "nbformat": 4,
 "nbformat_minor": 5
}

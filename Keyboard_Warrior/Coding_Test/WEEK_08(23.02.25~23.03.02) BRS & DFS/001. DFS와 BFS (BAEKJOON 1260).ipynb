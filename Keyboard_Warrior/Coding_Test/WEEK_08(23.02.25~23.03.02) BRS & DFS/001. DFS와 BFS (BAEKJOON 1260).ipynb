{
 "cells": [
  {
   "cell_type": "markdown",
   "id": "f8350e75",
   "metadata": {},
   "source": [
    "# 001. DFS와 BFS (BAEKJOON 1260)"
   ]
  },
  {
   "cell_type": "markdown",
   "id": "7437a6a8",
   "metadata": {},
   "source": [
    "- https://www.acmicpc.net/problem/1260"
   ]
  },
  {
   "cell_type": "markdown",
   "id": "e86b2678",
   "metadata": {},
   "source": [
    "### 문제\n",
    "- 그래프를 DFS로 탐색한 결과와 BFS로 탐색한 결과를 출력하는 프로그램을 작성하시오. 단, 방문할 수 있는 정점이 여러 개인 경우에는 정점 번호가 작은 것을 먼저 방문하고, 더 이상 방문할 수 있는 점이 없는 경우 종료한다. 정점 번호는 1번부터 N번까지이다.\n",
    "\n",
    "### 입력\n",
    "- 첫째 줄에 정점의 개수 N(1 ≤ N ≤ 1,000), 간선의 개수 M(1 ≤ M ≤ 10,000), 탐색을 시작할 정점의 번호 V가 주어진다. 다음 M개의 줄에는 간선이 연결하는 두 정점의 번호가 주어진다. 어떤 두 정점 사이에 여러 개의 간선이 있을 수 있다. 입력으로 주어지는 간선은 양방향이다.\n",
    "\n",
    "### 출력\n",
    "- 첫째 줄에 DFS를 수행한 결과를, 그 다음 줄에는 BFS를 수행한 결과를 출력한다. V부터 방문된 점을 순서대로 출력하면 된다.\n",
    "\n",
    "### 예제 입력 1\n",
    "4 5 1<br>\n",
    "1 2<br>\n",
    "1 3<br>\n",
    "1 4<br>\n",
    "2 4<br>\n",
    "3 4\n",
    "\n",
    "### 예제 출력 1\n",
    "1 2 4 3<br>\n",
    "1 2 3 4\n",
    "\n",
    "### 예제 입력 2\n",
    "5 5 3<br>\n",
    "5 4<br>\n",
    "5 2<br>\n",
    "1 2<br>\n",
    "3 4<br>\n",
    "3 1\n",
    "\n",
    "### 예제 출력 2\n",
    "3 1 2 5 4<br>\n",
    "3 1 4 2 5\n",
    "\n",
    "### 예제 입력 3\n",
    "1000 1 1000<br>\n",
    "999 1000\n",
    "\n",
    "### 예제 출력 3\n",
    "1000 999<br>\n",
    "1000 999"
   ]
  },
  {
   "cell_type": "markdown",
   "id": "483ef314",
   "metadata": {},
   "source": [
    "## Solution 1"
   ]
  },
  {
   "cell_type": "code",
   "execution_count": 5,
   "id": "89879b4d",
   "metadata": {
    "ExecuteTime": {
     "end_time": "2023-02-25T15:04:44.047038Z",
     "start_time": "2023-02-25T15:04:32.896144Z"
    }
   },
   "outputs": [
    {
     "name": "stdout",
     "output_type": "stream",
     "text": [
      "4 5 1\n",
      "1 2\n",
      "1 3\n",
      "1 4\n",
      "2 4\n",
      "3 4\n",
      "1 2 4 3 \n",
      "1 2 3 4 "
     ]
    }
   ],
   "source": [
    "# 정점의 개수 N(1 ≤ N ≤ 1,000), 간선의 개수 M(1 ≤ M ≤ 10,000), 탐색을 시작할 정점의 번호 V를 입력받는다.\n",
    "N, M, V = map(int, input().split())\n",
    "\n",
    "# 인접 행렬을 입력받는다.\n",
    "# 먼저 비어있는 행렬을 만든다. 편의를 위해 0 ~ N + 1로 index를 설정한다. graph shpae: (N+1, N+1)\n",
    "graph = [ [False] * (N + 1) for _ in range(N + 1) ]\n",
    "for _ in range(M):\n",
    "    a, b = map(int, input().split())\n",
    "    graph[a][b] = True\n",
    "    graph[b][a] = True\n",
    "    \n",
    "# 방문 정보를 기록하는 리스트를 각각 만든다.\n",
    "visited_DFS = [False] * (N + 1)\n",
    "visited_BFS = [False] * (N + 1)\n",
    "\n",
    "# DFS 함수를 정의한다.\n",
    "def DFS(V):\n",
    "    # 먼저 방문한 정점을 표시한다.\n",
    "    visited_DFS[V] = True\n",
    "    # 방문한 정점을 출력한다.\n",
    "    print(V, end = ' ')\n",
    "    # graph를 순환하면서 인접 노드들을 방문한다.\n",
    "    for i in range(1, N + 1):\n",
    "        # 만약 방문하지 않은 노드 i가 있고 해당 노드가 입력 노드 V와 연결되어 있다면\n",
    "        if not visited_DFS[i] and graph[V][i]:\n",
    "            # 해당 노드 i에 대해 DFS 탐색을 한다.\n",
    "            DFS(i)\n",
    "\n",
    "# BFS 함수를 정의한다.\n",
    "def BFS(V):\n",
    "    # queue를 생성한다.\n",
    "    q = [V]\n",
    "    visited_BFS[V] = True\n",
    "    # queue가 빌 때까지 노드들을 방문한다.\n",
    "    while q:\n",
    "        # 제일 앞의 값을 V로 뽑아온다.\n",
    "        V = q.pop(0)\n",
    "        print(V, end = ' ')\n",
    "        # 인접한 노드들을 순환한다.\n",
    "        for i in range(1, N + 1):\n",
    "            # 만약 방문하지 않은 노드 i가 있고 해당 노드가 입력 노드 V와 연결되어 있다면\n",
    "            if not visited_BFS[i] and graph[V][i]:\n",
    "                # i를 queue에 방문한다.\n",
    "                q.append(i)\n",
    "                visited_BFS[i] = True\n",
    "\n",
    "                \n",
    "DFS(V)\n",
    "print()\n",
    "BFS(V)"
   ]
  },
  {
   "cell_type": "code",
   "execution_count": null,
   "id": "6c74faa5",
   "metadata": {},
   "outputs": [],
   "source": [
    "# 정점의 개수 N(1 ≤ N ≤ 1,000), 간선의 개수 M(1 ≤ M ≤ 10,000), 탐색을 시작할 정점의 번호 V를 입력받는다.\n",
    "N, M, V = map(int, input().split())\n",
    "\n",
    "# 인접 행렬을 입력받는다.\n",
    "# 먼저 비어있는 행렬을 만든다. 편의를 위해 0 ~ N + 1로 index를 설정한다. graph shpae: (N+1, N+1)\n",
    "graph = [ [False] * (N + 1) for _ in range(N + 1) ]\n",
    "for _ in range(M):\n",
    "    a, b = map(int, input().split())\n",
    "    graph[a][b] = True\n",
    "    graph[b][a] = True\n",
    "    \n",
    "# 방문 정보를 기록하는 리스트를 각각 만든다.\n",
    "visited_DFS = [False] * (N + 1)\n",
    "visited_BFS = [False] * (N + 1)\n",
    "\n",
    "# DFS 함수를 정의한다.\n",
    "def DFS(V):\n",
    "    # stack을 생성한다.\n",
    "    s = \n",
    "    \n",
    "    # 먼저 방문한 정점을 표시한다.\n",
    "    visited_DFS[V] = True\n",
    "    # 방문한 정점을 출력한다.\n",
    "    print(V, end = ' ')\n",
    "    # graph를 순환하면서 인접 노드들을 방문한다.\n",
    "    for i in range(1, N + 1):\n",
    "        # 만약 방문하지 않은 노드 i가 있고 해당 노드가 입력 노드 V와 연결되어 있다면\n",
    "        if not visited_DFS[i] and graph[V][i]:\n",
    "            # 해당 노드 i에 대해 DFS 탐색을 한다.\n",
    "            DFS(i)\n",
    "\n",
    "# BFS 함수를 정의한다.\n",
    "def BFS(V):\n",
    "    # queue를 생성한다.\n",
    "    q = [V]\n",
    "    visited_BFS[V] = True\n",
    "    # queue가 빌 때까지 노드들을 방문한다.\n",
    "    while q:\n",
    "        # 제일 앞의 값을 V로 뽑아온다.\n",
    "        V = q.pop(0)\n",
    "        print(V, end = ' ')\n",
    "        # 인접한 노드들을 순환한다.\n",
    "        for i in range(1, N + 1):\n",
    "            # 만약 방문하지 않은 노드 i가 있고 해당 노드가 입력 노드 V와 연결되어 있다면\n",
    "            if not visited_BFS[i] and graph[V][i]:\n",
    "                # i를 queue에 방문한다.\n",
    "                q.append(i)\n",
    "                visited_BFS[i] = True\n",
    "\n",
    "                \n",
    "DFS(V)\n",
    "print()\n",
    "BFS(V)"
   ]
  }
 ],
 "metadata": {
  "kernelspec": {
   "display_name": "Python 3 (ipykernel)",
   "language": "python",
   "name": "python3"
  },
  "language_info": {
   "codemirror_mode": {
    "name": "ipython",
    "version": 3
   },
   "file_extension": ".py",
   "mimetype": "text/x-python",
   "name": "python",
   "nbconvert_exporter": "python",
   "pygments_lexer": "ipython3",
   "version": "3.9.16"
  }
 },
 "nbformat": 4,
 "nbformat_minor": 5
}

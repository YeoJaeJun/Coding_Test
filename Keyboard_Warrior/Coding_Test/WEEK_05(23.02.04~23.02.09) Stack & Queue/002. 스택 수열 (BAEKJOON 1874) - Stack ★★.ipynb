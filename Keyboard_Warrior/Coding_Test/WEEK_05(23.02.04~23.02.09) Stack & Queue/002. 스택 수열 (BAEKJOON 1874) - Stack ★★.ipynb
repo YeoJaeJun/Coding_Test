{
 "cells": [
  {
   "cell_type": "markdown",
   "id": "bcd74d09",
   "metadata": {},
   "source": [
    "# 002. 스택 수열 (BAEKJOON 1874) - Stack ★★"
   ]
  },
  {
   "cell_type": "markdown",
   "id": "61c540c8",
   "metadata": {},
   "source": [
    "- https://www.acmicpc.net/problem/1874"
   ]
  },
  {
   "cell_type": "markdown",
   "id": "36b16399",
   "metadata": {},
   "source": [
    "### 문제\n",
    "- 스택 (stack)은 기본적인 자료구조 중 하나로, 컴퓨터 프로그램을 작성할 때 자주 이용되는 개념이다. 스택은 자료를 넣는 (push) 입구와 자료를 뽑는 (pop) 입구가 같아 제일 나중에 들어간 자료가 제일 먼저 나오는 (LIFO, Last in First out) 특성을 가지고 있다.\n",
    "- 1부터 n까지의 수를 스택에 넣었다가 뽑아 늘어놓음으로써, 하나의 수열을 만들 수 있다. 이때, 스택에 push하는 순서는 반드시 오름차순을 지키도록 한다고 하자. 임의의 수열이 주어졌을 때 스택을 이용해 그 수열을 만들 수 있는지 없는지, 있다면 어떤 순서로 push와 pop 연산을 수행해야 하는지를 알아낼 수 있다. 이를 계산하는 프로그램을 작성하라.\n",
    "\n",
    "### 입력\n",
    "- 첫 줄에 n (1 ≤ n ≤ 100,000)이 주어진다. 둘째 줄부터 n개의 줄에는 수열을 이루는 1이상 n이하의 정수가 하나씩 순서대로 주어진다. 물론 같은 정수가 두 번 나오는 일은 없다.\n",
    "\n",
    "### 출력\n",
    "- 입력된 수열을 만들기 위해 필요한 연산을 한 줄에 한 개씩 출력한다. push연산은 +로, pop 연산은 -로 표현하도록 한다. 불가능한 경우 NO를 출력한다.\n",
    "\n",
    "### 예제 입력 1\n",
    "8<br>\n",
    "4<br>\n",
    "3<br>\n",
    "6<br>\n",
    "8<br>\n",
    "7<br>\n",
    "5<br>\n",
    "2<br>\n",
    "1\n",
    "\n",
    "### 예제 출력 1\n",
    "+<br>\n",
    "+<br>\n",
    "+<br>\n",
    "+<br>\n",
    "-<br>\n",
    "-<br>\n",
    "+<br>\n",
    "+<br>\n",
    "-<br>\n",
    "+<br>\n",
    "+<br>\n",
    "-<br>\n",
    "-<br>\n",
    "-<br>\n",
    "-<br>\n",
    "-\n",
    "\n",
    "### 예제 입력 2\n",
    "5<br>\n",
    "1<br>\n",
    "2<br>\n",
    "5<br>\n",
    "3<br>\n",
    "4\n",
    "\n",
    "### 예제 출력 2\n",
    "NO"
   ]
  },
  {
   "cell_type": "markdown",
   "id": "7dcdff6e",
   "metadata": {},
   "source": [
    "## Solution 1"
   ]
  },
  {
   "cell_type": "code",
   "execution_count": 7,
   "id": "b131420e",
   "metadata": {},
   "outputs": [],
   "source": [
    "# Stack class를 정의한다.\n",
    "class Stack(list):\n",
    "    push = list.append\n",
    "    \n",
    "    def peek(self):\n",
    "        return self[-1]"
   ]
  },
  {
   "cell_type": "code",
   "execution_count": 13,
   "id": "309db4e6",
   "metadata": {},
   "outputs": [],
   "source": [
    "# Queue class를 정의한다.\n",
    "class Queue(list):\n",
    "    push = list.append\n",
    "    \n",
    "    def peek(self):\n",
    "        return self[0]\n",
    "    \n",
    "    def get(self):\n",
    "        return self.pop(0)"
   ]
  },
  {
   "cell_type": "code",
   "execution_count": 54,
   "id": "c8d27f17",
   "metadata": {},
   "outputs": [],
   "source": [
    "s = Stack()\n",
    "push_pop = []\n",
    "# 입력받은 수열과 비교할 내가 s로 만든 수열\n",
    "s_numbers = []\n",
    "\n",
    "push_pop = []\n",
    "# 계산 시작\n",
    "for number in numbers:\n",
    "    # 첫 번째 수만큼 stack에 쌓는다.\n",
    "    for n in range(1, number + 1):\n",
    "        s.push(n)\n",
    "        push_pop.append('+')\n",
    "    # 첫 번째 수를 stack으로부터 pop해 s_numbers list에 append한다.\n",
    "    s_numbers.append(s.pop())\n",
    "    push_pop.append('-')\n",
    "    break"
   ]
  },
  {
   "cell_type": "code",
   "execution_count": 122,
   "id": "eb0ad488",
   "metadata": {},
   "outputs": [],
   "source": [
    "s = Stack()\n",
    "push_pop = []\n",
    "# 입력받은 수열과 비교할 내가 s로 만든 수열\n",
    "s_numbers = []\n",
    "\n",
    "push_pop = []\n",
    "# 계산 시작\n",
    "\n",
    "# 첫 번째 수만큼 stack에 쌓는다.\n",
    "for n in range(1, numbers[0] + 1):\n",
    "    s.push(n)\n",
    "    push_pop.append('+')\n",
    "# 첫 번째 수를 stack으로부터 pop해 s_numbers list에 append한다.\n",
    "s_numbers.append(s.pop())\n",
    "push_pop.append('-')\n",
    "\n",
    "# 두 번째 수가 첫 번째수보다 큰지 작은지 판별한다. 두 번째 수가 첫 번째 수보다 크면 push하고 작으면 pop한다.\n",
    "if numbers[1] > numbers[0]:\n",
    "    for n in range(numbers[1] - max(s) + 1, numbers[1] + 1):\n",
    "        s.push(n)\n",
    "        push_pop.append('+')\n",
    "    s_numbers.append(s.pop())\n",
    "    push_pop.append('-')\n",
    "else: # number[1] < number[0]\n",
    "    for _ in range(numbers[0] - max(s)):\n",
    "        s_numbers.append(s.pop())\n",
    "        push_pop.append('-')\n",
    "\n",
    "if numbers[2] > numbers[1]:\n",
    "    for n in range(numbers[2] - max(s) + 1, numbers[2] + 1):\n",
    "        s.push(n)\n",
    "        push_pop.append('+')\n",
    "    s_numbers.append(s.pop())\n",
    "    push_pop.append('-')\n",
    "else: # number[2] < number[1]\n",
    "    for _ in range(numbers[1] - max(s)):\n",
    "        s_numbers.append(s.pop())\n",
    "        push_pop.append('-')\n",
    "\n",
    "if numbers[3] > numbers[2]:\n",
    "    for n in range(numbers[3] - max(s) + 1, numbers[3] + 1):\n",
    "        s.push(n)\n",
    "        push_pop.append('+')\n",
    "    s_numbers.append(s.pop())\n",
    "    push_pop.append('-')\n",
    "else: # number[3] < number[2]\n",
    "    for _ in range(numbers[2] - max(s)):\n",
    "        s_numbers.append(s.pop())\n",
    "        push_pop.append('-')"
   ]
  },
  {
   "cell_type": "code",
   "execution_count": null,
   "id": "aa41e577",
   "metadata": {},
   "outputs": [],
   "source": [
    "s = Stack()\n",
    "push_pop = []\n",
    "# 입력받은 수열과 비교할 내가 s로 만든 수열\n",
    "s_numbers = []\n",
    "\n",
    "push_pop = []\n",
    "# 계산 시작\n",
    "\n",
    "# 첫 번째 수만큼 stack에 쌓는다.\n",
    "for n in range(1, numbers[0] + 1):\n",
    "    s.push(n)\n",
    "    push_pop.append('+')\n",
    "# 첫 번째 수를 stack으로부터 pop해 s_numbers list에 append한다.\n",
    "s_numbers.append(s.pop())\n",
    "push_pop.append('-')\n",
    "\n",
    "# 두 번째 수가 첫 번째수보다 큰지 작은지 판별한다. 두 번째 수가 첫 번째 수보다 크면 push하고 작으면 pop한다.\n",
    "if numbers[1] > numbers[0]:\n",
    "    for n in range(numbers[1] - max(s) + 1, numbers[1] + 1):\n",
    "        s.push(n)\n",
    "        push_pop.append('+')\n",
    "    s_numbers.append(s.pop())\n",
    "    push_pop.append('-')\n",
    "else: # number[1] < number[0]\n",
    "    for _ in range(numbers[0] - max(s)):\n",
    "        s_numbers.append(s.pop())\n",
    "        push_pop.append('-')\n",
    "\n",
    "if numbers[2] > numbers[1]:\n",
    "    for n in range(numbers[2] - max(s) + 1, numbers[2] + 1):\n",
    "        s.push(n)\n",
    "        push_pop.append('+')\n",
    "    s_numbers.append(s.pop())\n",
    "    push_pop.append('-')\n",
    "else: # number[2] < number[1]\n",
    "    for _ in range(numbers[1] - max(s)):\n",
    "        s_numbers.append(s.pop())\n",
    "        push_pop.append('-')"
   ]
  },
  {
   "cell_type": "code",
   "execution_count": 123,
   "id": "adc60090",
   "metadata": {},
   "outputs": [
    {
     "data": {
      "text/plain": [
       "[1, 2, 5, 4, 5, 6, 7]"
      ]
     },
     "execution_count": 123,
     "metadata": {},
     "output_type": "execute_result"
    }
   ],
   "source": [
    "s"
   ]
  },
  {
   "cell_type": "code",
   "execution_count": 125,
   "id": "5c00508f",
   "metadata": {},
   "outputs": [
    {
     "data": {
      "text/plain": [
       "['+', '+', '+', '+', '-', '-', '+', '+', '-', '+', '+', '+', '+', '+', '-']"
      ]
     },
     "execution_count": 125,
     "metadata": {},
     "output_type": "execute_result"
    }
   ],
   "source": [
    "push_pop"
   ]
  },
  {
   "cell_type": "code",
   "execution_count": 126,
   "id": "90fda490",
   "metadata": {},
   "outputs": [
    {
     "data": {
      "text/plain": [
       "[4, 3, 6, 8]"
      ]
     },
     "execution_count": 126,
     "metadata": {},
     "output_type": "execute_result"
    }
   ],
   "source": [
    "s_numbers"
   ]
  },
  {
   "cell_type": "code",
   "execution_count": 86,
   "id": "3011e8fa",
   "metadata": {},
   "outputs": [],
   "source": [
    "n = 5\n",
    "numbers = [1, 2, 5, 3, 4]"
   ]
  },
  {
   "cell_type": "code",
   "execution_count": 59,
   "id": "40517cd7",
   "metadata": {},
   "outputs": [],
   "source": [
    "s = Stack()\n",
    "push_pop = []\n",
    "# 입력받은 수열과 비교할 내가 s로 만든 수열\n",
    "s_numbers = []\n",
    "\n",
    "push_pop = []\n",
    "# 계산 시작\n",
    "for number in numbers:\n",
    "    # 첫 번째 수만큼 stack에 쌓는다.\n",
    "    for n in range(1, number + 1):\n",
    "        s.push(n)\n",
    "        push_pop.append('+')\n",
    "    # 첫 번째 수를 stack으로부터 pop해 s_numbers list에 append한다.\n",
    "    s_numbers.append(s.pop())\n",
    "    push_pop.append('-')\n",
    "    break"
   ]
  },
  {
   "cell_type": "code",
   "execution_count": 60,
   "id": "b68263f0",
   "metadata": {},
   "outputs": [
    {
     "data": {
      "text/plain": [
       "[]"
      ]
     },
     "execution_count": 60,
     "metadata": {},
     "output_type": "execute_result"
    }
   ],
   "source": [
    "s"
   ]
  },
  {
   "cell_type": "code",
   "execution_count": 61,
   "id": "5218e575",
   "metadata": {},
   "outputs": [
    {
     "data": {
      "text/plain": [
       "['+', '-']"
      ]
     },
     "execution_count": 61,
     "metadata": {},
     "output_type": "execute_result"
    }
   ],
   "source": [
    "push_pop"
   ]
  },
  {
   "cell_type": "code",
   "execution_count": 62,
   "id": "0f7bcc01",
   "metadata": {},
   "outputs": [
    {
     "data": {
      "text/plain": [
       "[1]"
      ]
     },
     "execution_count": 62,
     "metadata": {},
     "output_type": "execute_result"
    }
   ],
   "source": [
    "s_numbers"
   ]
  },
  {
   "cell_type": "code",
   "execution_count": 31,
   "id": "44dcf941",
   "metadata": {},
   "outputs": [],
   "source": [
    "\n",
    "push_pop = []\n",
    "\n",
    "q = Queue()\n",
    "# 수열을 입력받으면서 동시에 1 ~ n으로 구성되어 있는 Queue instance를 생성한다.\n",
    "for i in range(n):\n",
    "#     numbers.append\n",
    "    q.push(i + 1)\n",
    "\n",
    "# Stack instance를 생성한다.\n",
    "s = Stack()\n",
    "\n",
    "# push와 pop 계산을 넣을 list를 만든다.\n",
    "push_pop = []\n",
    "# 계산 시작\n",
    "for number in numbers:\n",
    "    for n in range(1, number + 1):\n",
    "        s.push(n)\n",
    "        push_pop.append('+')\n",
    "    break"
   ]
  },
  {
   "cell_type": "code",
   "execution_count": 32,
   "id": "8fd990a9",
   "metadata": {},
   "outputs": [
    {
     "data": {
      "text/plain": [
       "[1, 2, 3, 4, 5, 6, 7, 8]"
      ]
     },
     "execution_count": 32,
     "metadata": {},
     "output_type": "execute_result"
    }
   ],
   "source": [
    "q"
   ]
  },
  {
   "cell_type": "code",
   "execution_count": 33,
   "id": "6d3959e6",
   "metadata": {},
   "outputs": [
    {
     "data": {
      "text/plain": [
       "[1, 2, 3, 4]"
      ]
     },
     "execution_count": 33,
     "metadata": {},
     "output_type": "execute_result"
    }
   ],
   "source": [
    "s"
   ]
  },
  {
   "cell_type": "code",
   "execution_count": 34,
   "id": "917cf9b2",
   "metadata": {},
   "outputs": [
    {
     "data": {
      "text/plain": [
       "['+', '+', '+', '+']"
      ]
     },
     "execution_count": 34,
     "metadata": {},
     "output_type": "execute_result"
    }
   ],
   "source": [
    "push_pop"
   ]
  },
  {
   "cell_type": "code",
   "execution_count": 35,
   "id": "22174507",
   "metadata": {},
   "outputs": [
    {
     "data": {
      "text/plain": [
       "2"
      ]
     },
     "execution_count": 35,
     "metadata": {},
     "output_type": "execute_result"
    }
   ],
   "source": [
    "s[1]"
   ]
  },
  {
   "cell_type": "code",
   "execution_count": null,
   "id": "06a53ad6",
   "metadata": {},
   "outputs": [],
   "source": []
  },
  {
   "cell_type": "markdown",
   "id": "9154e084",
   "metadata": {},
   "source": [
    "## Solution 2"
   ]
  },
  {
   "cell_type": "code",
   "execution_count": 6,
   "id": "856a1e9d",
   "metadata": {},
   "outputs": [
    {
     "name": "stdout",
     "output_type": "stream",
     "text": [
      "8\n",
      "4\n",
      "3\n",
      "6\n",
      "8\n",
      "7\n",
      "5\n",
      "2\n",
      "1\n",
      "no\n"
     ]
    }
   ],
   "source": [
    "# 입력받을 수 n을 입력받는다.\n",
    "n = int(input())\n",
    "\n",
    "# 수열을 입력받는다.\n",
    "numbers = []\n",
    "for _ in range(n):\n",
    "    numbers.append(int(input()))\n",
    "\n",
    "# push_pop 결과를 저장할 list를 만든다.\n",
    "push_pop = []\n",
    "\n",
    "# stack을 생성한다.\n",
    "stack = []\n",
    "\n",
    "# 결과 여부를 설정한다.\n",
    "yes_no = True\n",
    "\n",
    "# 처음에는 무조건 stack에 첫 번째 값만큼 쌓고 그 값을 뺀다.\n",
    "for i in range(numbers[0]):\n",
    "    s.append(i + 1)\n",
    "    push_pop.append('+')\n",
    "max_number = s.pop()\n",
    "push_pop.append('-')\n",
    "\n",
    "# 다음부터는 오는 수가 peek보다 크면 위와 같은 동작을 수행하고 같으면 pop()만 하고, 작으면 no를 출력한다.\n",
    "for i in range(n - 1):\n",
    "    if numbers[i + 1] > s[-1]:\n",
    "        for j in range(max_number + 1, numbers[i + 1] + 1):\n",
    "            s.append(j)\n",
    "            push_pop.append('+')\n",
    "        max_number = s.pop()\n",
    "        push_pop.append('-')\n",
    "    elif numbers[i + 1] == s[-1]:\n",
    "        max_number = s.pop()\n",
    "        push_pop.append('-')\n",
    "    else:\n",
    "        yes_no = False\n",
    "        break\n",
    "\n",
    "# 결과를 출력한다.\n",
    "if yes_no:\n",
    "    for v in push_pop:\n",
    "        print(v)\n",
    "else:\n",
    "    print('no')"
   ]
  },
  {
   "cell_type": "markdown",
   "id": "16ec7cab",
   "metadata": {},
   "source": [
    "## Solution 3"
   ]
  },
  {
   "cell_type": "code",
   "execution_count": 1,
   "id": "82b57ec8",
   "metadata": {},
   "outputs": [
    {
     "name": "stdout",
     "output_type": "stream",
     "text": [
      "8\n",
      "4\n",
      "3\n",
      "6\n",
      "8\n",
      "7\n",
      "5\n",
      "2\n",
      "1\n",
      "+\n",
      "+\n",
      "+\n",
      "+\n",
      "-\n",
      "-\n",
      "+\n",
      "+\n",
      "-\n",
      "+\n",
      "+\n",
      "-\n",
      "-\n",
      "-\n",
      "-\n",
      "-\n"
     ]
    }
   ],
   "source": [
    "# 입력받을 수의 개수 n을 입력받는다.\n",
    "n = int(input())\n",
    "\n",
    "# push / pop 결과를 저장할 list를 만든다.\n",
    "push_pop = []\n",
    "\n",
    "# 결과 여부를 설정한다.\n",
    "yes_no = True\n",
    "\n",
    "# stack을 생성한다.\n",
    "stack = []\n",
    "\n",
    "# 편의상 숫자를 생성한다.\n",
    "num = 1\n",
    "\n",
    "# n번 동안 for in 문을 돌면서 연산을 수행한다.\n",
    "for _ in range(n):\n",
    "    # 먼저 숫자를 입력받는다.\n",
    "    number = int(input())\n",
    "    # 입력받은 숫자 number까지 stack에 쌓는다.\n",
    "    while num <= number:\n",
    "        stack.append(num)\n",
    "        push_pop.append('+')\n",
    "        num += 1\n",
    "\n",
    "    # stack의 맨 위 숫자가 number와 동일하다면 제거한다.\n",
    "    if stack[-1] == number:\n",
    "        stack.pop()\n",
    "        push_pop.append('-')\n",
    "    # stack의 맨 위 숫자가 number와 동일하지 않다면 stack 수열을 만들 수 없으므로 break한다.\n",
    "    else:\n",
    "        yes_no = False\n",
    "        break\n",
    "\n",
    "# 입력받은 수열을 만들 수 있는지 여부에 따라 출력한다.\n",
    "if yes_no:\n",
    "    for v in push_pop:\n",
    "        print(v)\n",
    "else:\n",
    "    print('no')"
   ]
  }
 ],
 "metadata": {
  "kernelspec": {
   "display_name": "Python 3 (ipykernel)",
   "language": "python",
   "name": "python3"
  },
  "language_info": {
   "codemirror_mode": {
    "name": "ipython",
    "version": 3
   },
   "file_extension": ".py",
   "mimetype": "text/x-python",
   "name": "python",
   "nbconvert_exporter": "python",
   "pygments_lexer": "ipython3",
   "version": "3.9.15"
  }
 },
 "nbformat": 4,
 "nbformat_minor": 5
}

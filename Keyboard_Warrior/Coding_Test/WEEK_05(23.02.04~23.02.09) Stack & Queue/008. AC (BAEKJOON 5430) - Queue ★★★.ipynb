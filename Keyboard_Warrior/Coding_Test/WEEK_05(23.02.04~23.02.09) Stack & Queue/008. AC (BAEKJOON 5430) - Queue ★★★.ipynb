{
 "cells": [
  {
   "cell_type": "markdown",
   "id": "f274fa05",
   "metadata": {},
   "source": [
    "# 008. AC (BAEKJOON 5430) - Queue ★★★"
   ]
  },
  {
   "cell_type": "markdown",
   "id": "28713727",
   "metadata": {},
   "source": [
    "- https://www.acmicpc.net/problem/5430"
   ]
  },
  {
   "cell_type": "markdown",
   "id": "e00b0d32",
   "metadata": {},
   "source": [
    "### 문제\n",
    "- 선영이는 주말에 할 일이 없어서 새로운 언어 AC를 만들었다. AC는 정수 배열에 연산을 하기 위해 만든 언어이다. 이 언어에는 두 가지 함수 R(뒤집기)과 D(버리기)가 있다.\n",
    "- 함수 R은 배열에 있는 수의 순서를 뒤집는 함수이고, D는 첫 번째 수를 버리는 함수이다. 배열이 비어있는데 D를 사용한 경우에는 에러가 발생한다.\n",
    "- 함수는 조합해서 한 번에 사용할 수 있다. 예를 들어, \"AB\"는 A를 수행한 다음에 바로 이어서 B를 수행하는 함수이다. 예를 들어, \"RDD\"는 배열을 뒤집은 다음 처음 두 수를 버리는 함수이다.\n",
    "- 배열의 초기값과 수행할 함수가 주어졌을 때, 최종 결과를 구하는 프로그램을 작성하시오.\n",
    "\n",
    "### 입력\n",
    "- 첫째 줄에 테스트 케이스의 개수 T가 주어진다. T는 최대 100이다.\n",
    "- 각 테스트 케이스의 첫째 줄에는 수행할 함수 p가 주어진다. p의 길이는 1보다 크거나 같고, 100,000보다 작거나 같다.\n",
    "- 다음 줄에는 배열에 들어있는 수의 개수 n이 주어진다. (0 ≤ n ≤ 100,000)\n",
    "- 다음 줄에는 [x1,...,xn]과 같은 형태로 배열에 들어있는 정수가 주어진다. (1 ≤ xi ≤ 100)\n",
    "- 전체 테스트 케이스에 주어지는 p의 길이의 합과 n의 합은 70만을 넘지 않는다.\n",
    "\n",
    "### 출력\n",
    "- 각 테스트 케이스에 대해서, 입력으로 주어진 정수 배열에 함수를 수행한 결과를 출력한다. 만약, 에러가 발생한 경우에는 error를 출력한다."
   ]
  },
  {
   "cell_type": "markdown",
   "id": "26e0b37c",
   "metadata": {},
   "source": [
    "## Solution 1 - 이렇게 풀면 시간 초과 발생해서 실패함"
   ]
  },
  {
   "cell_type": "code",
   "execution_count": 15,
   "id": "613d606a",
   "metadata": {},
   "outputs": [],
   "source": [
    "# Queue instance와 command를 입력받아 command를 수행하는 함수를 정의한다.\n",
    "def read_command(q, command):\n",
    "    # 순서를 뒤집는 명령어를 입력받았을 때\n",
    "    if command == 'R':\n",
    "        return [q[-1::-1]]\n",
    "    # 첫 번째 수를 버리는 명령어를 입력받았을 때\n",
    "    else:\n",
    "        if len(q) == 0:\n",
    "            return print('error')\n",
    "        else:\n",
    "            return q[1::]"
   ]
  },
  {
   "cell_type": "code",
   "execution_count": null,
   "id": "1a95ac98",
   "metadata": {},
   "outputs": [],
   "source": [
    "# 테스트 케이스의 개수 T를 입력받는다.\n",
    "T = int(input())\n",
    "\n",
    "# T번 동안 p(수행할 함수), n(배열에 들어있는 수의 개수), list(정수 배열)를 입력받는다.\n",
    "# 각 테스트 케이스의 수행 결과를 출력한다.\n",
    "for _ in range(T):\n",
    "    # 수행할 명령어를 입력받는다.\n",
    "    p = list(input())\n",
    "    \n",
    "    # 배열에 들어있는 수의 개수를 입력받는다.\n",
    "    n = int(input())\n",
    "    \n",
    "    # 정수 배열을 입력받은 후 사용하기 편한 형태로 바꾼다.\n",
    "    numbers_list = input()\n",
    "    numbers = [int(n) for n in numbers_list[1::3]]\n",
    "    \n",
    "    # Queue instance를 정의한다.\n",
    "    q = []\n",
    "    \n",
    "    # 입력받은 명령어를 수행한다.\n",
    "    for "
   ]
  },
  {
   "cell_type": "markdown",
   "id": "637a9ed6",
   "metadata": {},
   "source": [
    "## Solution 2 - 시간 초과를 줄일 수 있는 방법\n",
    "- 순서를 뒤집는 명령어를 reverse를 이용해 구현하면 시간 초과가 발생한다.\n",
    "- 이를 해결하기 위해 Queue의 front와 back의 위치를 바꾸는 방법을 선택한다."
   ]
  },
  {
   "cell_type": "code",
   "execution_count": 31,
   "id": "b8fcd0f9",
   "metadata": {},
   "outputs": [],
   "source": [
    "# MyQueue class를 정의한다.\n",
    "class MyQueue(list):\n",
    "    \n",
    "    # size와 front / back의 index를 알려주는 initializer를 생성한다.\n",
    "    def __init__(self, N):\n",
    "        self.size = len([None] * N)\n",
    "        self.front = 0\n",
    "        self.back = self.size - 1\n",
    "    \n",
    "    # 숫자를 넣는 method를 정의한다.\n",
    "    put = list.append\n",
    "    \n",
    "    # 순서를 뒤집는 method를 정의한다.\n",
    "    def R(self):\n",
    "        self.front, self.back = self.back, self.front\n",
    "        return self[self.front:self.back+1]\n",
    "    \n",
    "    # 첫 번째 숫자를 버리는 method를 정의한다.\n",
    "    def D(self):\n",
    "        if len(self) == 0:\n",
    "            return print('error')\n",
    "        return self.pop(self.front)"
   ]
  },
  {
   "cell_type": "code",
   "execution_count": 32,
   "id": "d72550ab",
   "metadata": {},
   "outputs": [],
   "source": [
    "q = MyQueue(3)\n",
    "q.put(1)\n",
    "q.put(2)\n",
    "q.put(3)"
   ]
  },
  {
   "cell_type": "code",
   "execution_count": 33,
   "id": "d90f4432",
   "metadata": {},
   "outputs": [
    {
     "data": {
      "text/plain": [
       "[]"
      ]
     },
     "execution_count": 33,
     "metadata": {},
     "output_type": "execute_result"
    }
   ],
   "source": [
    "q.R()"
   ]
  },
  {
   "cell_type": "code",
   "execution_count": null,
   "id": "75d0f4a8",
   "metadata": {},
   "outputs": [],
   "source": []
  }
 ],
 "metadata": {
  "kernelspec": {
   "display_name": "Python 3 (ipykernel)",
   "language": "python",
   "name": "python3"
  },
  "language_info": {
   "codemirror_mode": {
    "name": "ipython",
    "version": 3
   },
   "file_extension": ".py",
   "mimetype": "text/x-python",
   "name": "python",
   "nbconvert_exporter": "python",
   "pygments_lexer": "ipython3",
   "version": "3.9.15"
  }
 },
 "nbformat": 4,
 "nbformat_minor": 5
}

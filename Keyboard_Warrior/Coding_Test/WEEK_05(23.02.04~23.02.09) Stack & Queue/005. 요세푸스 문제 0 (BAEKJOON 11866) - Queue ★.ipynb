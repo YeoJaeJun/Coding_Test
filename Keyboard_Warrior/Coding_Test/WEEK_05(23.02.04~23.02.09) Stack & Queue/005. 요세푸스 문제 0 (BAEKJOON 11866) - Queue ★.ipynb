{
 "cells": [
  {
   "cell_type": "markdown",
   "id": "5a26ca4c",
   "metadata": {},
   "source": [
    "# 005. 요세푸스 문제 0 (BAEKJOON 11866) - Queue ★"
   ]
  },
  {
   "cell_type": "markdown",
   "id": "a20ed3a5",
   "metadata": {},
   "source": [
    "- https://www.acmicpc.net/problem/11866"
   ]
  },
  {
   "cell_type": "markdown",
   "id": "a9bf2de4",
   "metadata": {},
   "source": [
    "### 문제\n",
    "- 요세푸스 문제는 다음과 같다.\n",
    "- 1번부터 N번까지 N명의 사람이 원을 이루면서 앉아있고, 양의 정수 K(≤ N)가 주어진다. 이제 순서대로 K번째 사람을 제거한다. 한 사람이 제거되면 남은 사람들로 이루어진 원을 따라 이 과정을 계속해 나간다. 이 과정은 N명의 사람이 모두 제거될 때까지 계속된다. 원에서 사람들이 제거되는 순서를 (N, K)-요세푸스 순열이라고 한다. 예를 들어 (7, 3)-요세푸스 순열은 <3, 6, 2, 7, 5, 1, 4>이다.\n",
    "- N과 K가 주어지면 (N, K)-요세푸스 순열을 구하는 프로그램을 작성하시오.\n",
    "\n",
    "### 입력\n",
    "- 첫째 줄에 N과 K가 빈 칸을 사이에 두고 순서대로 주어진다. (1 ≤ K ≤ N ≤ 1,000)\n",
    "\n",
    "### 출력\n",
    "- 예제와 같이 요세푸스 순열을 출력한다.\n",
    "\n",
    "### 예제 입력 1\n",
    "7 3\n",
    "\n",
    "### 예제 출력 1\n",
    "<3, 6, 2, 7, 5, 1, 4>"
   ]
  },
  {
   "cell_type": "markdown",
   "id": "7b7d560c",
   "metadata": {},
   "source": [
    "## Solution 1"
   ]
  },
  {
   "cell_type": "code",
   "execution_count": 8,
   "id": "652cd2f9",
   "metadata": {},
   "outputs": [],
   "source": [
    "# Queue class를 정의한다.\n",
    "class MyQueue(list):\n",
    "    \n",
    "    put = list.append\n",
    "    \n",
    "    def peek(self):\n",
    "        return self[0]\n",
    "    \n",
    "    def get(self):\n",
    "        return self.pop(0)\n",
    "    \n",
    "    # 첫 번째 숫자를 제일 뒤로 보내는 method를 정의한다.\n",
    "    def move(self):\n",
    "        self.insert(len(self), self[0])\n",
    "        self.pop(0)"
   ]
  },
  {
   "cell_type": "code",
   "execution_count": 23,
   "id": "042dd3cf",
   "metadata": {},
   "outputs": [
    {
     "name": "stdout",
     "output_type": "stream",
     "text": [
      "7 3\n",
      "<3, 6, 2, 7, 5, 1, 4>\n"
     ]
    }
   ],
   "source": [
    "# N과 K를 입력받는다.\n",
    "N, K = map(int, input().split())\n",
    "\n",
    "# Queue instance를 생성한다.\n",
    "human = MyQueue()\n",
    "\n",
    "# human에 사람(숫자)을 넣는다.\n",
    "for n in range(1, N + 1):\n",
    "    human.put(n)\n",
    "\n",
    "# 결과를 담을 list를 생성한다.\n",
    "result = []\n",
    "\n",
    "cnt = 1\n",
    "\n",
    "# K번째에 있는 사람(숫자)을 따로 뺀다.\n",
    "while True:\n",
    "    if len(human) == 0:\n",
    "        break\n",
    "    \n",
    "    if cnt == K:\n",
    "        result.append(str(human.get()))\n",
    "        cnt = 1\n",
    "    else:\n",
    "        human.move()\n",
    "        cnt += 1\n",
    "\n",
    "print('<', ', '.join(result), '>', sep = '')"
   ]
  }
 ],
 "metadata": {
  "kernelspec": {
   "display_name": "Python 3 (ipykernel)",
   "language": "python",
   "name": "python3"
  },
  "language_info": {
   "codemirror_mode": {
    "name": "ipython",
    "version": 3
   },
   "file_extension": ".py",
   "mimetype": "text/x-python",
   "name": "python",
   "nbconvert_exporter": "python",
   "pygments_lexer": "ipython3",
   "version": "3.9.15"
  }
 },
 "nbformat": 4,
 "nbformat_minor": 5
}

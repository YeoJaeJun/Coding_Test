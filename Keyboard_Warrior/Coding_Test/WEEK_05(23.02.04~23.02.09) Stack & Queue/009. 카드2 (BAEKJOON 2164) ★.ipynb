{
 "cells": [
  {
   "cell_type": "markdown",
   "id": "c2191119",
   "metadata": {},
   "source": [
    "# 009. 카드2 (BAEKJOON 2164) ★"
   ]
  },
  {
   "cell_type": "markdown",
   "id": "f9a9236b",
   "metadata": {},
   "source": [
    "- https://www.acmicpc.net/problem/2164"
   ]
  },
  {
   "cell_type": "markdown",
   "id": "9e123b2a",
   "metadata": {},
   "source": [
    "### 문제\n",
    "- N장의 카드가 있다. 각각의 카드는 차례로 1부터 N까지의 번호가 붙어 있으며, 1번 카드가 제일 위에, N번 카드가 제일 아래인 상태로 순서대로 카드가 놓여 있다.\n",
    "- 이제 다음과 같은 동작을 카드가 한 장 남을 때까지 반복하게 된다. 우선, 제일 위에 있는 카드를 바닥에 버린다. 그 다음, 제일 위에 있는 카드를 제일 아래에 있는 카드 밑으로 옮긴다.\n",
    "- 예를 들어 N=4인 경우를 생각해 보자. 카드는 제일 위에서부터 1234 의 순서로 놓여있다. 1을 버리면 234가 남는다. 여기서 2를 제일 아래로 옮기면 342가 된다. 3을 버리면 42가 되고, 4를 밑으로 옮기면 24가 된다. 마지막으로 2를 버리고 나면, 남는 카드는 4가 된다.\n",
    "- N이 주어졌을 때, 제일 마지막에 남게 되는 카드를 구하는 프로그램을 작성하시오.\n",
    "\n",
    "### 입력\n",
    "- 첫째 줄에 정수 N(1 ≤ N ≤ 500,000)이 주어진다.\n",
    "\n",
    "### 출력\n",
    "- 첫째 줄에 남게 되는 카드의 번호를 출력한다."
   ]
  },
  {
   "cell_type": "markdown",
   "id": "460178f2",
   "metadata": {},
   "source": [
    "## Solution 1 - 실패\n",
    "- 시간 초과 발생"
   ]
  },
  {
   "cell_type": "code",
   "execution_count": 34,
   "id": "3087b596",
   "metadata": {},
   "outputs": [],
   "source": [
    "class MyQueue(list):\n",
    "    \n",
    "    put = list.append\n",
    "\n",
    "    def peek(self):\n",
    "        return self[0]\n",
    "\n",
    "    def get(self):\n",
    "        return self.pop(0)\n",
    "    \n",
    "    # 첫 번째 숫자를 제일 아래로 보내는 method\n",
    "    def move(self):\n",
    "        self.insert(len(self), self[0])\n",
    "        self.pop(0)"
   ]
  },
  {
   "cell_type": "code",
   "execution_count": 42,
   "id": "03fa00e7",
   "metadata": {},
   "outputs": [
    {
     "name": "stdout",
     "output_type": "stream",
     "text": [
      "6\n",
      "4\n"
     ]
    }
   ],
   "source": [
    "# 정수 N을 입력받는다.\n",
    "N = int(input())\n",
    "\n",
    "# Queue instance를 생성한다.\n",
    "q = MyQueue()\n",
    "\n",
    "# Queue instance에 1 ~ N의 숫자를 넣는다.\n",
    "for n in range(N):\n",
    "    q.put(n + 1)\n",
    "\n",
    "# 숫자가 한 개만 남을 때까지 동작을 반복 수행한다.\n",
    "while True:\n",
    "    # 첫 번째 숫자를 버린다.\n",
    "    q.get()\n",
    "    \n",
    "    # 첫 번째 숫자를 제일 아래로 보낸다.\n",
    "    q.move()\n",
    "    \n",
    "    if len(q) == 1:\n",
    "        print(q.get())\n",
    "        break"
   ]
  },
  {
   "cell_type": "markdown",
   "id": "79c31d1c",
   "metadata": {},
   "source": [
    "## Solution 2 - 실패\n",
    "- 시간 초과 발생"
   ]
  },
  {
   "cell_type": "code",
   "execution_count": 27,
   "id": "bd0fe45b",
   "metadata": {},
   "outputs": [
    {
     "name": "stdout",
     "output_type": "stream",
     "text": [
      "7\n",
      "6\n"
     ]
    }
   ],
   "source": [
    "# 정수를 입력받는다.\n",
    "N = int(input())\n",
    "\n",
    "# Queue를 생성한다.\n",
    "q = list(range(1, N + 1))\n",
    "\n",
    "# 숫자가 한 개만 남을 때까지 동작을 반복 수행한다.\n",
    "while True:\n",
    "    # 첫 번재 숫자를 버린다.\n",
    "    q.pop(0)\n",
    "    \n",
    "    # 그 다음 첫 번째 숫자를 제일 아래로 보낸다.\n",
    "    q.append(q.pop(0))\n",
    "    \n",
    "    if len(q) == 1:\n",
    "        print(q[0])\n",
    "        break"
   ]
  },
  {
   "cell_type": "markdown",
   "id": "2e3706a9",
   "metadata": {},
   "source": [
    "## Solution 3 - 실패\n",
    "- 시간 초과 발생"
   ]
  },
  {
   "cell_type": "code",
   "execution_count": 30,
   "id": "88a7adfe",
   "metadata": {},
   "outputs": [
    {
     "name": "stdout",
     "output_type": "stream",
     "text": [
      "10\n",
      "4\n"
     ]
    }
   ],
   "source": [
    "# 정수를 입력받는다.\n",
    "N = int(input())\n",
    "\n",
    "# Queue를 생성한다.\n",
    "q = list(range(1, N + 1))\n",
    "\n",
    "# 숫자가 한 개만 남을 때까지 동작을 반복 수행한다.\n",
    "for _ in range(N - 1):\n",
    "    # 첫 번재 숫자를 버린다.\n",
    "    q.pop(0)\n",
    "    \n",
    "    # 그 다음 첫 번째 숫자를 제일 아래로 보낸다.\n",
    "    q.append(q.pop(0))\n",
    "\n",
    "print(q[0])"
   ]
  },
  {
   "cell_type": "markdown",
   "id": "667174b6",
   "metadata": {},
   "source": [
    "## Solution 4\n",
    "- 반복문이 아니라 수식으로 문제를 풀어야 한다.\n",
    "- 홀수번째에 있는 수는 무조건 버린다. list의 측면에서 봤을 때 index가 0, 2, 4, ... 인 것 즉 index가 짝수인 것을 버리면 된다.\n",
    "- 값이 하나만 남을 때까지 숫자를 버리는 재귀함수를 만든다."
   ]
  },
  {
   "cell_type": "markdown",
   "id": "bd7c92d1",
   "metadata": {},
   "source": [
    "- 1일 때: 1\n",
    "- 2일 때: (2 - 2^0) * 2 = 2\n",
    "- 3일 때: (3 - 2^1) * 2 = 2\n",
    "- 4일 때: (4 - 2^1) * 2 = 4\n",
    "- 5일 때: (5 - 2^2) * 2 = 2\n",
    "- 6일 때: (6 - 2^2) * 2 = 4\n",
    "- 7일 때: (7 - 2^2) * 2 = 6\n",
    "- 8일 때: (8 - 2^2) * 2 = 8\n",
    "- 9일 때: (9 - 2^3) * 2 = 2\n",
    "- 10일 때: (10 - 2^3) * 2 = 4"
   ]
  },
  {
   "cell_type": "code",
   "execution_count": 1,
   "id": "821b80eb",
   "metadata": {},
   "outputs": [
    {
     "name": "stdout",
     "output_type": "stream",
     "text": [
      "6\n",
      "4\n"
     ]
    }
   ],
   "source": [
    "# 정수를 입력받는다.\n",
    "N = int(input())\n",
    "\n",
    "# 편의를 위해 square를 2로 정의한다.\n",
    "square = 2\n",
    "\n",
    "# 숫자가 하나만 남을 때까지 무한 loop를 수행한다.\n",
    "while True:\n",
    "    # 만약 숫자가 1이거나 2이면 그대로 출력하고 break한다.\n",
    "    if N == 1 or N == 2:\n",
    "        print(N)\n",
    "        break\n",
    "    \n",
    "    # square에 2를 곱한다.\n",
    "    square *= 2\n",
    "    \n",
    "    # square가 입력받은 N보다 커지면\n",
    "    if square >= N:\n",
    "        print((N - (square // 2)) * 2)\n",
    "        break"
   ]
  },
  {
   "cell_type": "markdown",
   "id": "d46448bf",
   "metadata": {},
   "source": [
    "## Solution 5 - deque class 사용"
   ]
  },
  {
   "cell_type": "code",
   "execution_count": 2,
   "id": "a97ba88f",
   "metadata": {},
   "outputs": [],
   "source": [
    "from collections import deque"
   ]
  },
  {
   "cell_type": "code",
   "execution_count": null,
   "id": "a5ea15e0",
   "metadata": {},
   "outputs": [],
   "source": []
  }
 ],
 "metadata": {
  "kernelspec": {
   "display_name": "Python 3 (ipykernel)",
   "language": "python",
   "name": "python3"
  },
  "language_info": {
   "codemirror_mode": {
    "name": "ipython",
    "version": 3
   },
   "file_extension": ".py",
   "mimetype": "text/x-python",
   "name": "python",
   "nbconvert_exporter": "python",
   "pygments_lexer": "ipython3",
   "version": "3.9.15"
  }
 },
 "nbformat": 4,
 "nbformat_minor": 5
}

{
 "cells": [
  {
   "cell_type": "markdown",
   "id": "bab464d1",
   "metadata": {},
   "source": [
    "# 006. 덱 (BAEKJOON 10866) - Queue"
   ]
  },
  {
   "cell_type": "markdown",
   "id": "dcd12e22",
   "metadata": {},
   "source": [
    "- https://www.acmicpc.net/problem/10866"
   ]
  },
  {
   "cell_type": "markdown",
   "id": "24297e9e",
   "metadata": {},
   "source": [
    "### 문제\n",
    "- 정수를 저장하는 덱(Deque)를 구현한 다음, 입력으로 주어지는 명령을 처리하는 프로그램을 작성하시오. 명령은 총 여덟 가지이다.\n",
    "    - push_front X: 정수 X를 덱의 앞에 넣는다.\n",
    "    - push_back X: 정수 X를 덱의 뒤에 넣는다.\n",
    "    - pop_front: 덱의 가장 앞에 있는 수를 빼고, 그 수를 출력한다. 만약, 덱에 들어있는 정수가 없는 경우에는 -1을 출력한다.\n",
    "    - pop_back: 덱의 가장 뒤에 있는 수를 빼고, 그 수를 출력한다. 만약, 덱에 들어있는 정수가 없는 경우에는 -1을 출력한다.\n",
    "    - size: 덱에 들어있는 정수의 개수를 출력한다.\n",
    "    - empty: 덱이 비어있으면 1을, 아니면 0을 출력한다.\n",
    "    - front: 덱의 가장 앞에 있는 정수를 출력한다. 만약 덱에 들어있는 정수가 없는 경우에는 -1을 출력한다.\n",
    "    - back: 덱의 가장 뒤에 있는 정수를 출력한다. 만약 덱에 들어있는 정수가 없는 경우에는 -1을 출력한다.\n",
    "\n",
    "### 입력\n",
    "- 첫째 줄에 주어지는 명령의 수 N (1 ≤ N ≤ 10,000)이 주어진다. 둘째 줄부터 N개의 줄에는 명령이 하나씩 주어진다. 주어지는 정수는 1보다 크거나 같고, 100,000보다 작거나 같다. 문제에 나와있지 않은 명령이 주어지는 경우는 없다.\n",
    "\n",
    "### 출력\n",
    "- 출력해야하는 명령이 주어질 때마다, 한 줄에 하나씩 출력한다."
   ]
  },
  {
   "cell_type": "markdown",
   "id": "c61dbf32",
   "metadata": {},
   "source": [
    "## Solution 1"
   ]
  },
  {
   "cell_type": "code",
   "execution_count": 32,
   "id": "67e9408d",
   "metadata": {},
   "outputs": [],
   "source": [
    "# Deque class를 정의한다.\n",
    "class Deque(list):\n",
    "    def push_front(self, X):\n",
    "        return self.insert(0, X)\n",
    "   \n",
    "    def push_back(self, X):\n",
    "        return self.append(X)\n",
    "    \n",
    "    def pop_front(self):\n",
    "        if len(self) == 0:\n",
    "            return print(-1)\n",
    "        return print(self.pop(0))\n",
    "    \n",
    "    def pop_back(self):\n",
    "        if len(self) == 0:\n",
    "            return print(-1)\n",
    "        return print(self.pop())\n",
    "    \n",
    "    def size(self):\n",
    "        return print(len(self))\n",
    "    \n",
    "    def empty(self):\n",
    "        if len(self) == 0:\n",
    "            return print(1)\n",
    "        else:\n",
    "            return print(0)\n",
    "    \n",
    "    def front(self):\n",
    "        if len(self) == 0:\n",
    "            return print(-1)\n",
    "        return print(self[0])\n",
    "    \n",
    "    def back(self):\n",
    "        if len(self) == 0:\n",
    "            return print(-1)\n",
    "        return print(self[-1])"
   ]
  },
  {
   "cell_type": "code",
   "execution_count": 33,
   "id": "45acae9f",
   "metadata": {},
   "outputs": [],
   "source": [
    "# Deque의 method를 읽는 함수를 정의한다.\n",
    "def read_command(Deque, command, X = None):\n",
    "    \n",
    "    if command == 'push_front':\n",
    "        return Deque.push_front(X)\n",
    "    \n",
    "    if command == 'push_back':\n",
    "        return Deque.push_back(X)\n",
    "    \n",
    "    if command == 'pop_front':\n",
    "        return Deque.pop_front()\n",
    "\n",
    "    if command == 'pop_back':\n",
    "        return Deque.pop_back()\n",
    "\n",
    "    if command == 'size':\n",
    "        return Deque.size()\n",
    "\n",
    "    if command == 'empty':\n",
    "        return Deque.empty()\n",
    "\n",
    "    if command == 'front':\n",
    "        return Deque.front()\n",
    "\n",
    "    if command == 'back':\n",
    "        return Deque.back()"
   ]
  },
  {
   "cell_type": "code",
   "execution_count": 34,
   "id": "f9a9c561",
   "metadata": {},
   "outputs": [
    {
     "name": "stdout",
     "output_type": "stream",
     "text": [
      "15\n",
      "push_back 1\n",
      "push_front 2\n",
      "front\n",
      "2\n",
      "back\n",
      "1\n",
      "size\n",
      "2\n",
      "empty\n",
      "0\n",
      "pop_front\n",
      "2\n",
      "pop_back\n",
      "1\n",
      "pop_front\n",
      "-1\n",
      "size\n",
      "0\n",
      "empty\n",
      "1\n",
      "pop_back\n",
      "-1\n",
      "push_front 3\n",
      "empty\n",
      "0\n",
      "front\n",
      "3\n"
     ]
    }
   ],
   "source": [
    "# N을 입력받는다.\n",
    "N = int(input())\n",
    "\n",
    "# Deque instance를 생성한다.\n",
    "d = Deque()\n",
    "\n",
    "# N번 동안 명령어와 값을 입력받는다.\n",
    "for _ in range(N):\n",
    "    # 각 줄을 하나로 입력받는다.\n",
    "    line = input().split()\n",
    "    \n",
    "    # 입력받은 줄에 명령어와 숫자가 같이 있는 경우\n",
    "    if len(line) == 2:\n",
    "        command, X = line[0], int(line[1])\n",
    "        read_command(d, command, X)\n",
    "        continue\n",
    "    read_command(d, line[0])"
   ]
  },
  {
   "cell_type": "code",
   "execution_count": null,
   "id": "f2e16c0d",
   "metadata": {},
   "outputs": [],
   "source": [
    "15\n",
    "push_back 1\n",
    "push_front 2\n",
    "front\n",
    "back\n",
    "size\n",
    "empty\n",
    "pop_front\n",
    "pop_back\n",
    "pop_front\n",
    "size\n",
    "empty\n",
    "pop_back\n",
    "push_front 3\n",
    "empty\n",
    "front"
   ]
  }
 ],
 "metadata": {
  "kernelspec": {
   "display_name": "Python 3 (ipykernel)",
   "language": "python",
   "name": "python3"
  },
  "language_info": {
   "codemirror_mode": {
    "name": "ipython",
    "version": 3
   },
   "file_extension": ".py",
   "mimetype": "text/x-python",
   "name": "python",
   "nbconvert_exporter": "python",
   "pygments_lexer": "ipython3",
   "version": "3.9.15"
  }
 },
 "nbformat": 4,
 "nbformat_minor": 5
}

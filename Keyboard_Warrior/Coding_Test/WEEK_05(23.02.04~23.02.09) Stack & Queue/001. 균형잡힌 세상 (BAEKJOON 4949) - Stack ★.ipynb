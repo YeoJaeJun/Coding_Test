{
 "cells": [
  {
   "cell_type": "markdown",
   "id": "9ffb8096",
   "metadata": {},
   "source": [
    "# 001. 균형잡힌 세상 (BAEKJOON 4949) - Stack ★"
   ]
  },
  {
   "cell_type": "markdown",
   "id": "fecd925e",
   "metadata": {},
   "source": [
    "- https://www.acmicpc.net/problem/4949"
   ]
  },
  {
   "cell_type": "markdown",
   "id": "90e59783",
   "metadata": {},
   "source": [
    "### 문제\n",
    "- 세계는 균형이 잘 잡혀있어야 한다. 양과 음, 빛과 어둠 그리고 왼쪽 괄호와 오른쪽 괄호처럼 말이다.\n",
    "- 정민이의 임무는 어떤 문자열이 주어졌을 때, 괄호들의 균형이 잘 맞춰져 있는지 판단하는 프로그램을 짜는 것이다.\n",
    "- 문자열에 포함되는 괄호는 소괄호(\"()\") 와 대괄호(\"[]\")로 2종류이고, 문자열이 균형을 이루는 조건은 아래와 같다.\n",
    "    - 모든 왼쪽 소괄호(\"(\")는 오른쪽 소괄호(\")\")와만 짝을 이뤄야 한다.\n",
    "    - 모든 왼쪽 대괄호(\"[\")는 오른쪽 대괄호(\"]\")와만 짝을 이뤄야 한다.\n",
    "    - 모든 오른쪽 괄호들은 자신과 짝을 이룰 수 있는 왼쪽 괄호가 존재한다.\n",
    "    - 모든 괄호들의 짝은 1:1 매칭만 가능하다. 즉, 괄호 하나가 둘 이상의 괄호와 짝지어지지 않는다.\n",
    "    - 짝을 이루는 두 괄호가 있을 때, 그 사이에 있는 문자열도 균형이 잡혀야 한다.\n",
    "- 정민이를 도와 문자열이 주어졌을 때 균형잡힌 문자열인지 아닌지를 판단해보자.\n",
    "\n",
    "### 입력\n",
    "- 하나 또는 여러줄에 걸쳐서 문자열이 주어진다. 각 문자열은 영문 알파벳, 공백, 소괄호(\"( )\") 대괄호(\"[ ]\")등으로 이루어져 있으며, 길이는 100글자보다 작거나 같다. 각 줄은 마침표(\".\")로 끝난다.\n",
    "- 입력의 종료조건으로 맨 마지막에 점 하나(\".\")가 들어온다.\n",
    "\n",
    "### 출력\n",
    "- 각 줄마다 해당 문자열이 균형을 이루고 있으면 \"yes\"를, 아니면 \"no\"를 출력한다.\n",
    "\n",
    "### 예제 입력 1\n",
    "So when I die (the [first] I will see in (heaven) is a score list).<br>\n",
    "[ first in ] ( first out ).<br>\n",
    "Half Moon tonight (At least it is better than no Moon at all].<br>\n",
    "A rope may form )( a trail in a maze.<br>\n",
    "Help( I[m being held prisoner in a fortune cookie factory)].<br>\n",
    "([ (([( [ ] ) ( ) (( ))] )) ]).<br>\n",
    " .<br>\n",
    ".\n",
    "\n",
    "### 예제 출력 1\n",
    "yes<br>\n",
    "yes<br>\n",
    "no<br>\n",
    "no<br>\n",
    "no<br>\n",
    "yes<br>\n",
    "yes\n",
    "\n",
    "### 힌트\n",
    "- 7번째의 \" .\"와 같이 괄호가 하나도 없는 경우도 균형잡힌 문자열로 간주할 수 있다."
   ]
  },
  {
   "cell_type": "markdown",
   "id": "0a528494",
   "metadata": {},
   "source": [
    "## Solution 1 - Stack 사용"
   ]
  },
  {
   "cell_type": "code",
   "execution_count": 2,
   "id": "6aa07010",
   "metadata": {},
   "outputs": [],
   "source": [
    "# Stack class를 선언한다.\n",
    "class Stack(list):\n",
    "    push = list.append\n",
    "    \n",
    "    def peek(self):\n",
    "        return self[-1]"
   ]
  },
  {
   "cell_type": "code",
   "execution_count": 3,
   "id": "5ba98563",
   "metadata": {},
   "outputs": [
    {
     "name": "stdout",
     "output_type": "stream",
     "text": [
      "So when I die (the [first] I will see in (heaven) is a score list).\n",
      "yes\n",
      "[ first in ] ( first out ).\n",
      "yes\n",
      "Half Moon tonight (At least it is better than no Moon at all].\n",
      "no\n",
      "A rope may form )( a trail in a maze.\n",
      "no\n",
      "Help( I[m being held prisoner in a fortune cookie factory)].\n",
      "no\n",
      "([ (([( [ ] ) ( ) (( ))] )) ]).\n",
      "yes\n",
      " .\n",
      "yes\n",
      ".\n"
     ]
    }
   ],
   "source": [
    "# 종료 조건이 입력될 때까지 문자열을 입력받고 균형 여부를 판별한 후 yes / no를 출력해야 한다. 그래서 while True:를 사용한다.\n",
    "while True:\n",
    "    # 문자열을 입력받는다. 이때 split()을 사용하지 않는다. split()을 사용하면 종료 조건을 판별할 수 없기 때문이다.\n",
    "    sentence = input()\n",
    "    \n",
    "    # 종료 조건을 입력받으면 while 문을 break한다.\n",
    "    if sentence == '.':\n",
    "        break\n",
    "    \n",
    "    # Stack instacne를 생성한다.\n",
    "    s = Stack()\n",
    "    \n",
    "    # list()를 사용해 문자열의 모든 문자를 나눠 각각의 문자만 받는다.\n",
    "    for letter in sentence:\n",
    "        if letter == '(' or letter == '[':\n",
    "            s.push(letter)\n",
    "            \n",
    "        elif letter == ')':\n",
    "            if len(s) != 0 and s[-1] == '(':\n",
    "                s.pop()\n",
    "            else:\n",
    "                s.append(')')\n",
    "                break\n",
    "                \n",
    "        elif letter == ']':\n",
    "            if len(s) != 0 and s[-1] == '[':\n",
    "                s.pop()\n",
    "            else:\n",
    "                s.append(']')\n",
    "                break\n",
    "    \n",
    "    if len(s) == 0:\n",
    "        print('yes')\n",
    "    else:\n",
    "        print('no')"
   ]
  }
 ],
 "metadata": {
  "kernelspec": {
   "display_name": "Python 3 (ipykernel)",
   "language": "python",
   "name": "python3"
  },
  "language_info": {
   "codemirror_mode": {
    "name": "ipython",
    "version": 3
   },
   "file_extension": ".py",
   "mimetype": "text/x-python",
   "name": "python",
   "nbconvert_exporter": "python",
   "pygments_lexer": "ipython3",
   "version": "3.9.15"
  }
 },
 "nbformat": 4,
 "nbformat_minor": 5
}

{
 "cells": [
  {
   "cell_type": "markdown",
   "id": "d7c34bd8",
   "metadata": {},
   "source": [
    "# 007. 회전하는 큐 (BAEKJOON 1021) - Queue"
   ]
  },
  {
   "cell_type": "markdown",
   "id": "6679f8df",
   "metadata": {},
   "source": [
    "- https://www.acmicpc.net/problem/1021"
   ]
  },
  {
   "cell_type": "markdown",
   "id": "df743920",
   "metadata": {},
   "source": [
    "### 문제\n",
    "- 지민이는 N개의 원소를 포함하고 있는 양방향 순환 큐를 가지고 있다. 지민이는 이 큐에서 몇 개의 원소를 뽑아내려고 한다.\n",
    "- 지민이는 이 큐에서 다음과 같은 3가지 연산을 수행할 수 있다.\n",
    "    - 첫 번째 원소를 뽑아낸다. 이 연산을 수행하면, 원래 큐의 원소가 a1, ..., ak이었던 것이 a2, ..., ak와 같이 된다.\n",
    "    - 왼쪽으로 한 칸 이동시킨다. 이 연산을 수행하면, a1, ..., ak가 a2, ..., ak, a1이 된다.\n",
    "    - 오른쪽으로 한 칸 이동시킨다. 이 연산을 수행하면, a1, ..., ak가 ak, a1, ..., ak-1이 된다.\n",
    "- 큐에 처음에 포함되어 있던 수 N이 주어진다. 그리고 지민이가 뽑아내려고 하는 원소의 위치가 주어진다. (이 위치는 가장 처음 큐에서의 위치이다.) 이때, 그 원소를 주어진 순서대로 뽑아내는데 드는 2번, 3번 연산의 최솟값을 출력하는 프로그램을 작성하시오.\n",
    "\n",
    "### 입력\n",
    "- 첫째 줄에 큐의 크기 N과 뽑아내려고 하는 수의 개수 M이 주어진다. N은 50보다 작거나 같은 자연수이고, M은 N보다 작거나 같은 자연수이다. 둘째 줄에는 지민이가 뽑아내려고 하는 수의 위치가 순서대로 주어진다. 위치는 1보다 크거나 같고, N보다 작거나 같은 자연수이다.\n",
    "\n",
    "### 출력\n",
    "- 첫째 줄에 문제의 정답을 출력한다."
   ]
  },
  {
   "cell_type": "markdown",
   "id": "6bfef1bd",
   "metadata": {},
   "source": [
    "## Solution 1"
   ]
  },
  {
   "cell_type": "code",
   "execution_count": 52,
   "id": "c855c483",
   "metadata": {},
   "outputs": [],
   "source": [
    "class MyQueue(list):\n",
    "    \n",
    "    # size와 front / back의 index를 알려주는 initializer를 생성한다.\n",
    "    def __init__(self, N):\n",
    "        self.size = len([None] * N)\n",
    "        self.front = 0\n",
    "        self.back = self.size - 1\n",
    "    \n",
    "    put = list.append\n",
    "    \n",
    "    def get(self):\n",
    "        return self.pop(0)\n",
    "    \n",
    "    # 2번 연산을 수행하는 method를 정의한다.\n",
    "    def move_left(self):\n",
    "        self.insert(len(self), self[0])\n",
    "        self.pop(0)\n",
    "    \n",
    "    # 3번 연산을 수행하는 method를 정의한다.\n",
    "    def move_right(self):\n",
    "        self.insert(0, self[-1])\n",
    "        self.pop()"
   ]
  },
  {
   "cell_type": "code",
   "execution_count": 63,
   "id": "5331c560",
   "metadata": {},
   "outputs": [
    {
     "name": "stdout",
     "output_type": "stream",
     "text": [
      "10 3\n",
      "2 9 5\n",
      "8\n"
     ]
    }
   ],
   "source": [
    "# N과 M을 입력받는다.\n",
    "N, M = map(int, input().split())\n",
    "\n",
    "# 뽑아낼 수를 입력받는다.\n",
    "numbers = list(map(int, input().split()))\n",
    "\n",
    "# MyQueue instance를 생성한다. 이때 q의 size를 입력해야 한다.\n",
    "q = MyQueue(N)\n",
    "\n",
    "# MyQueue에 수를 넣는다.\n",
    "for n in range(N):\n",
    "    q.put(n + 1)\n",
    "\n",
    "cnt = 0\n",
    "\n",
    "for n in numbers:\n",
    "    # 뽑고자 하는 수가 front에 가까운지 back에 가까운지 index를 이용해 판단한다.\n",
    "    # front에 가까우면 move_left()를 하고 back에 가까우면 move_right()를 한다.\n",
    "    # 가까운 정도가 같으면 move_left()를 한다.\n",
    "    \n",
    "    # move_left()를 하는 경우\n",
    "    if (q.index(n) - q.front) <= (q.back - q.index(n)):\n",
    "        # 뽑고자 하는 수가 front에 올 때까지 move_left()를 실행한다.\n",
    "        for _ in range(q.index(n) - q.front):\n",
    "            q.move_left()\n",
    "            cnt += 1\n",
    "        q.get()\n",
    "        q.back -= 1\n",
    "    # move_right()를 하는 경우\n",
    "    else:\n",
    "        for _ in range(q.back - q.index(n) + 1):\n",
    "            q.move_right()\n",
    "            cnt += 1\n",
    "        q.get()\n",
    "        q.back -= 1\n",
    "\n",
    "        \n",
    "# 행한 연산의 총 횟수를 출력한다.\n",
    "print(cnt)"
   ]
  }
 ],
 "metadata": {
  "kernelspec": {
   "display_name": "Python 3 (ipykernel)",
   "language": "python",
   "name": "python3"
  },
  "language_info": {
   "codemirror_mode": {
    "name": "ipython",
    "version": 3
   },
   "file_extension": ".py",
   "mimetype": "text/x-python",
   "name": "python",
   "nbconvert_exporter": "python",
   "pygments_lexer": "ipython3",
   "version": "3.9.15"
  }
 },
 "nbformat": 4,
 "nbformat_minor": 5
}

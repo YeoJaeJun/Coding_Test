{
 "cells": [
  {
   "cell_type": "markdown",
   "id": "030d7c36",
   "metadata": {},
   "source": [
    "# 010. 프린터 (PROGRAMMERS)"
   ]
  },
  {
   "cell_type": "markdown",
   "id": "ae77dc83",
   "metadata": {},
   "source": [
    "- https://school.programmers.co.kr/learn/courses/30/lessons/42587"
   ]
  },
  {
   "cell_type": "markdown",
   "id": "166d7fce",
   "metadata": {},
   "source": [
    "### 문제 설명\n",
    "- 일반적인 프린터는 인쇄 요청이 들어온 순서대로 인쇄합니다. 그렇기 때문에 중요한 문서가 나중에 인쇄될 수 있습니다. 이런 문제를 보완하기 위해 중요도가 높은 문서를 먼저 인쇄하는 프린터를 개발했습니다. 이 새롭게 개발한 프린터는 아래와 같은 방식으로 인쇄 작업을 수행합니다.\n",
    "    1. 인쇄 대기목록의 가장 앞에 있는 문서(J)를 대기목록에서 꺼냅니다.\n",
    "    2. 나머지 인쇄 대기목록에서 J보다 중요도가 높은 문서가 한 개라도 존재하면 J를 대기목록의 가장 마지막에 넣습니다.\n",
    "    3. 그렇지 않으면 J를 인쇄합니다.\n",
    "- 예를 들어, 4개의 문서(A, B, C, D)가 순서대로 인쇄 대기목록에 있고 중요도가 2 1 3 2 라면 C D A B 순으로 인쇄하게 됩니다.\n",
    "- 내가 인쇄를 요청한 문서가 몇 번째로 인쇄되는지 알고 싶습니다. 위의 예에서 C는 1번째로, A는 3번째로 인쇄됩니다.\n",
    "- 현재 대기목록에 있는 문서의 중요도가 순서대로 담긴 배열 priorities와 내가 인쇄를 요청한 문서가 현재 대기목록의 어떤 위치에 있는지를 알려주는 location이 매개변수로 주어질 때, 내가 인쇄를 요청한 문서가 몇 번째로 인쇄되는지 return 하도록 solution 함수를 작성해주세요.\n",
    "\n",
    "### 제한 사항\n",
    "- 현재 대기목록에는 1개 이상 100개 이하의 문서가 있습니다.\n",
    "- 인쇄 작업의 중요도는 1~9로 표현하며 숫자가 클수록 중요하다는 뜻입니다.\n",
    "- location은 0 이상 (현재 대기목록에 있는 작업 수 - 1) 이하의 값을 가지며 대기목록의 가장 앞에 있으면 0, 두 번째에 있으면 1로 표현합니다.\n",
    "\n",
    "### 입출력 예\n",
    "|priorities|location|return|\n",
    "|-|-|-|\n",
    "|[2, 1, 3, 2]|2|1|\n",
    "|[1, 1, 9, 1, 1, 1]|0|5|\n",
    "\n",
    "### 입출력 예 설명\n",
    "- 예제 #1\n",
    "    - 문제에 나온 예와 같습니다.\n",
    "- 예제 #2\n",
    "    - 6개의 문서(A, B, C, D, E, F)가 인쇄 대기목록에 있고 중요도가 1 1 9 1 1 1 이므로 C D E F A B 순으로 인쇄합니다."
   ]
  },
  {
   "cell_type": "markdown",
   "id": "cf336969",
   "metadata": {},
   "source": [
    "## Solution 1 - Queue class 선언"
   ]
  },
  {
   "cell_type": "code",
   "execution_count": 13,
   "id": "276a9373",
   "metadata": {},
   "outputs": [],
   "source": [
    "class MyQueue(list):\n",
    "    \n",
    "    put = list.append\n",
    "    \n",
    "    def peek(self):\n",
    "        return self[0]\n",
    "    \n",
    "    def get(self):\n",
    "        return self.pop(0)\n",
    "    \n",
    "    # 첫 번째 수를 제일 마지막으로 보내는 method를 정의한다.\n",
    "    def move(self):\n",
    "        self.insert(len(self), self[0])\n",
    "        self.pop(0)"
   ]
  },
  {
   "cell_type": "code",
   "execution_count": 35,
   "id": "456756f3",
   "metadata": {},
   "outputs": [],
   "source": [
    "def solution(priorities, location):\n",
    "    # MyQueue instance를 생성한다.\n",
    "    q = MyQueue()\n",
    "    \n",
    "    # q에 priorities의 값을 넣는다. 이때 값의 index 정보도 같이 묶어서 넣는다. [중요도, index]\n",
    "    for idx, value in enumerate(priorities):\n",
    "        q.put([value, idx])\n",
    "    \n",
    "    # q에 첫 번째 문서보다 중요한 문서가 있으면 첫 번째 문서를 맨 뒤로 보낸다.\n",
    "    cnt = 0\n",
    "    while True:\n",
    "        # 제일 앞의 문서의 중요도가 가장 높다면\n",
    "        if q.peek()[0] == max(q)[0]:\n",
    "            # 해당 문서를 출력한다.\n",
    "            cnt += 1\n",
    "            # 해당 문서가 내가 선택한 문서라면\n",
    "            if q.peek()[1] == location:\n",
    "                # while 문을 break한다.\n",
    "                break\n",
    "            # 해당 문서가 내가 선택한 문서가 아니라면 출력한다.(제거한다.)\n",
    "            q.get()\n",
    "        # 제일 앞의 문서의 중요도가 가장 높지 않다면\n",
    "        else:\n",
    "            # 해당 문서를 제일 뒤로 옮긴다.\n",
    "            q.move()\n",
    "    \n",
    "    # 순번을 return한다.\n",
    "    return cnt"
   ]
  },
  {
   "cell_type": "code",
   "execution_count": 36,
   "id": "10488f1b",
   "metadata": {},
   "outputs": [],
   "source": [
    "priorities = [2, 1, 3, 2]\n",
    "location = 2"
   ]
  },
  {
   "cell_type": "code",
   "execution_count": 37,
   "id": "ceb5d879",
   "metadata": {},
   "outputs": [
    {
     "data": {
      "text/plain": [
       "1"
      ]
     },
     "execution_count": 37,
     "metadata": {},
     "output_type": "execute_result"
    }
   ],
   "source": [
    "solution(priorities, location)"
   ]
  },
  {
   "cell_type": "code",
   "execution_count": 38,
   "id": "752f58a9",
   "metadata": {},
   "outputs": [],
   "source": [
    "priorities = [1, 1, 9, 1, 1, 1]\n",
    "location = 0"
   ]
  },
  {
   "cell_type": "code",
   "execution_count": 39,
   "id": "63374a04",
   "metadata": {},
   "outputs": [
    {
     "data": {
      "text/plain": [
       "5"
      ]
     },
     "execution_count": 39,
     "metadata": {},
     "output_type": "execute_result"
    }
   ],
   "source": [
    "solution(priorities, location)"
   ]
  },
  {
   "cell_type": "markdown",
   "id": "46f6f5fa",
   "metadata": {},
   "source": [
    "## Solution 2 - class 선언 X. 좀 더 간단한 방법"
   ]
  },
  {
   "cell_type": "code",
   "execution_count": 24,
   "id": "336050fe",
   "metadata": {},
   "outputs": [],
   "source": [
    "def solution(priorities, location):\n",
    "    p = [ (value, idx) for idx, value in enumerate(priorities) ]\n",
    "    cnt = 0\n",
    "    while True:\n",
    "        if p[0][0] == max(p)[0]:\n",
    "            cnt += 1\n",
    "            if p[0][1] == location:\n",
    "                break\n",
    "            p.pop(0)\n",
    "        else:\n",
    "            p.append(p.pop(0))\n",
    "    return cnt"
   ]
  },
  {
   "cell_type": "code",
   "execution_count": 25,
   "id": "76a64582",
   "metadata": {},
   "outputs": [],
   "source": [
    "priorities = [2, 1, 3, 2]\n",
    "location = 2"
   ]
  },
  {
   "cell_type": "code",
   "execution_count": 26,
   "id": "8a6fc561",
   "metadata": {},
   "outputs": [
    {
     "data": {
      "text/plain": [
       "1"
      ]
     },
     "execution_count": 26,
     "metadata": {},
     "output_type": "execute_result"
    }
   ],
   "source": [
    "solution(priorities, location)"
   ]
  },
  {
   "cell_type": "code",
   "execution_count": 27,
   "id": "546e1e40",
   "metadata": {},
   "outputs": [],
   "source": [
    "priorities = [1, 1, 9, 1, 1, 1]\n",
    "location = 0"
   ]
  },
  {
   "cell_type": "code",
   "execution_count": 28,
   "id": "e77acf73",
   "metadata": {},
   "outputs": [
    {
     "data": {
      "text/plain": [
       "5"
      ]
     },
     "execution_count": 28,
     "metadata": {},
     "output_type": "execute_result"
    }
   ],
   "source": [
    "solution(priorities, location)"
   ]
  }
 ],
 "metadata": {
  "kernelspec": {
   "display_name": "Python 3 (ipykernel)",
   "language": "python",
   "name": "python3"
  },
  "language_info": {
   "codemirror_mode": {
    "name": "ipython",
    "version": 3
   },
   "file_extension": ".py",
   "mimetype": "text/x-python",
   "name": "python",
   "nbconvert_exporter": "python",
   "pygments_lexer": "ipython3",
   "version": "3.9.15"
  }
 },
 "nbformat": 4,
 "nbformat_minor": 5
}

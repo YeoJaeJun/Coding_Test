{
 "cells": [
  {
   "cell_type": "markdown",
   "id": "7baa682c",
   "metadata": {},
   "source": [
    "# 004. 크레인 인형 뽑기 게임 (PROGRAMMERS) - Stack ★★"
   ]
  },
  {
   "cell_type": "markdown",
   "id": "c665e1d8",
   "metadata": {},
   "source": [
    "- https://school.programmers.co.kr/learn/courses/30/lessons/64061"
   ]
  },
  {
   "cell_type": "markdown",
   "id": "4dc8d5e1",
   "metadata": {},
   "source": [
    "## Solution 1"
   ]
  },
  {
   "cell_type": "code",
   "execution_count": 94,
   "id": "4e46265e",
   "metadata": {},
   "outputs": [],
   "source": [
    "def solution(board, moves):\n",
    "    # 각 line의 인형 정보를 담을 dictionary를 만든다.\n",
    "    info = {}\n",
    "    for line_number in range(len(board)):\n",
    "        info[line_number + 1] = []\n",
    "    \n",
    "    # board의 각 line을 하나의 stack로 만든다. 이때 board의 순서를 역순으로 한다.\n",
    "    for row in board[::-1]:\n",
    "        for n in range(len(board)):\n",
    "            # 0은 stack에 담지 않는다.\n",
    "            if row[n] != 0:\n",
    "                info[n + 1].append(row[n])\n",
    "    \n",
    "    # 바구니 stack을 만든다.\n",
    "    basket = []\n",
    "    \n",
    "    # moves에 따라 계산해 basket을 구한다.\n",
    "    for line_number in moves:   \n",
    "        # line에 인형이 아무것도 없을 때 continue한다.\n",
    "        if len(info[line_number]) == 0:\n",
    "            continue\n",
    "        # line에 인형이 있을 때 인형을 basket으로 옮긴다.\n",
    "        basket.append(info[line_number].pop())\n",
    "    \n",
    "    # 터뜨려서 없어지는 인형의 수를 정의한다.\n",
    "    pop_cnt = 0\n",
    "    \n",
    "    # 임시로 사용할 stack을 만든다.\n",
    "    s = []\n",
    "    \n",
    "    # basket에 같은 인형 두 개가 붙어있는지 판별한다. 같은 인형 두 개가 붙어있으면 인형을 터뜨리고 pop_cnt += 2를 한다.\n",
    "    for doll in basket:\n",
    "        s.append(doll)\n",
    "        \n",
    "        if len(s) >= 2:\n",
    "            if s[len(s) - 1] == s[len(s) - 2]:\n",
    "                s.pop()\n",
    "                s.pop()\n",
    "                pop_cnt += 2\n",
    "        else:\n",
    "            continue\n",
    "    \n",
    "    return pop_cnt"
   ]
  },
  {
   "cell_type": "code",
   "execution_count": 95,
   "id": "490bc250",
   "metadata": {},
   "outputs": [],
   "source": [
    "board = [[0,0,0,0,0],[0,0,1,0,3],[0,2,5,0,1],[4,2,4,4,2],[3,5,1,3,1]]\n",
    "moves = [1,5,3,5,1,2,1,4]"
   ]
  },
  {
   "cell_type": "code",
   "execution_count": 96,
   "id": "08a41baf",
   "metadata": {},
   "outputs": [
    {
     "data": {
      "text/plain": [
       "4"
      ]
     },
     "execution_count": 96,
     "metadata": {},
     "output_type": "execute_result"
    }
   ],
   "source": [
    "solution(board, moves)"
   ]
  }
 ],
 "metadata": {
  "kernelspec": {
   "display_name": "Python 3 (ipykernel)",
   "language": "python",
   "name": "python3"
  },
  "language_info": {
   "codemirror_mode": {
    "name": "ipython",
    "version": 3
   },
   "file_extension": ".py",
   "mimetype": "text/x-python",
   "name": "python",
   "nbconvert_exporter": "python",
   "pygments_lexer": "ipython3",
   "version": "3.9.15"
  }
 },
 "nbformat": 4,
 "nbformat_minor": 5
}

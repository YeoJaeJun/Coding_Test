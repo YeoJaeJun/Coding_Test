{
 "cells": [
  {
   "cell_type": "markdown",
   "id": "c8b606f3",
   "metadata": {},
   "source": [
    "# 013. A + B - 6 (BAEKJOON 10953)"
   ]
  },
  {
   "cell_type": "markdown",
   "id": "9379cea4",
   "metadata": {},
   "source": [
    "- BAEKJOON 10953 https://www.acmicpc.net/problem/10953"
   ]
  },
  {
   "cell_type": "markdown",
   "id": "065cd357",
   "metadata": {},
   "source": [
    "### 문제\n",
    "- 두 정수 A와 B를 입력받은 다음, A+B를 출력하는 프로그램을 작성하시오.\n",
    "\n",
    "### 입력\n",
    "- 첫째 줄에 테스트 케이스의 개수 T가 주어진다.\n",
    "- 각 테스트 케이스는 한 줄로 이루어져 있으며, 각 줄에 A와 B가 주어진다. A와 B는 콤마(,)로 구분되어 있다. (0 < A, B < 10)\n",
    "\n",
    "### 출력\n",
    "- 각 테스트 케이스마다 A+B를 출력한다."
   ]
  },
  {
   "cell_type": "markdown",
   "id": "75bab133",
   "metadata": {},
   "source": [
    "## 방법 1."
   ]
  },
  {
   "cell_type": "code",
   "execution_count": 3,
   "id": "149f5cc2",
   "metadata": {},
   "outputs": [
    {
     "name": "stdout",
     "output_type": "stream",
     "text": [
      "5\n",
      "1, 1\n",
      "2, 2\n",
      "3, 3\n",
      "4, 5\n",
      "5, 6\n",
      "2\n",
      "4\n",
      "6\n",
      "9\n",
      "11\n"
     ]
    }
   ],
   "source": [
    "T = int(input())\n",
    "\n",
    "result = []\n",
    "for i in range(T):\n",
    "    A, B = map(int, input().split(\", \"))\n",
    "    result.append(A + B)\n",
    "\n",
    "for i in result:\n",
    "    print(i)"
   ]
  },
  {
   "cell_type": "markdown",
   "id": "fe92a01e",
   "metadata": {},
   "source": [
    "## 방법 2."
   ]
  },
  {
   "cell_type": "code",
   "execution_count": 2,
   "id": "c9e47a67",
   "metadata": {},
   "outputs": [
    {
     "name": "stdout",
     "output_type": "stream",
     "text": [
      "5\n",
      "1,1\n",
      "2\n",
      "2,3\n",
      "5\n",
      "3,4\n",
      "7\n",
      "9,8\n",
      "17\n",
      "5,2\n",
      "7\n"
     ]
    }
   ],
   "source": [
    "T = int(input())\n",
    "for _ in range(T):\n",
    "    A, B = map(int, input().split(','))\n",
    "    print(A + B)"
   ]
  }
 ],
 "metadata": {
  "kernelspec": {
   "display_name": "Python 3 (ipykernel)",
   "language": "python",
   "name": "python3"
  },
  "language_info": {
   "codemirror_mode": {
    "name": "ipython",
    "version": 3
   },
   "file_extension": ".py",
   "mimetype": "text/x-python",
   "name": "python",
   "nbconvert_exporter": "python",
   "pygments_lexer": "ipython3",
   "version": "3.9.15"
  }
 },
 "nbformat": 4,
 "nbformat_minor": 5
}

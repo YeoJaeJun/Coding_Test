{
 "cells": [
  {
   "cell_type": "markdown",
   "id": "6cdd5bbd",
   "metadata": {},
   "source": [
    "# 001.3. 수 정렬하기 (BAEKJOON 2750) - Insertion Sort"
   ]
  },
  {
   "cell_type": "markdown",
   "id": "9f873c73",
   "metadata": {},
   "source": [
    "- BAEKJOON 2750 https://www.acmicpc.net/problem/2750"
   ]
  },
  {
   "cell_type": "markdown",
   "id": "db44d499",
   "metadata": {},
   "source": [
    "### 문제\n",
    "- N개의 수가 주어졌을 때, 이를 오름차순으로 정렬하는 프로그램을 작성하시오.\n",
    "\n",
    "### 입력\n",
    "- 첫째 줄에 수의 개수 N(1 ≤ N ≤ 1,000)이 주어진다. 둘째 줄부터 N개의 줄에는 수가 주어진다. 이 수는 절댓값이 1,000보다 작거나 같은 정수이다. 수는 중복되지 않는다.\n",
    "\n",
    "### 출력\n",
    "- 첫째 줄부터 N개의 줄에 오름차순으로 정렬한 결과를 한 줄에 하나씩 출력한다."
   ]
  },
  {
   "cell_type": "markdown",
   "id": "fb53d004",
   "metadata": {},
   "source": [
    "## 방법 1. "
   ]
  },
  {
   "cell_type": "code",
   "execution_count": 1,
   "id": "eadcd02c",
   "metadata": {},
   "outputs": [
    {
     "name": "stdout",
     "output_type": "stream",
     "text": [
      "5\n",
      "5\n",
      "2\n",
      "3\n",
      "4\n",
      "1\n",
      "1\n",
      "2\n",
      "3\n",
      "4\n",
      "5\n"
     ]
    }
   ],
   "source": [
    "n = int(input())\n",
    "\n",
    "numbers = []\n",
    "for _ in range(n):\n",
    "    numbers.append(int(input()))\n",
    "\n",
    "for i in range(1, n):\n",
    "    for j in range(i, 0, -1):\n",
    "        if numbers[j - 1] > numbers[j]:\n",
    "            numbers[j - 1], numbers[j] = numbers[j], numbers[j - 1]\n",
    "\n",
    "for i in range(n):\n",
    "    print(numbers[i])"
   ]
  }
 ],
 "metadata": {
  "kernelspec": {
   "display_name": "Python 3 (ipykernel)",
   "language": "python",
   "name": "python3"
  },
  "language_info": {
   "codemirror_mode": {
    "name": "ipython",
    "version": 3
   },
   "file_extension": ".py",
   "mimetype": "text/x-python",
   "name": "python",
   "nbconvert_exporter": "python",
   "pygments_lexer": "ipython3",
   "version": "3.9.15"
  }
 },
 "nbformat": 4,
 "nbformat_minor": 5
}

{
 "cells": [
  {
   "cell_type": "markdown",
   "id": "470c3498",
   "metadata": {},
   "source": [
    "# 002.2. 대표값 1 (BAEKJOON 2592) - Selection Sort"
   ]
  },
  {
   "cell_type": "markdown",
   "id": "a269595e",
   "metadata": {},
   "source": [
    "- BAEKJOON 2592 https://www.acmicpc.net/problem/2592"
   ]
  },
  {
   "cell_type": "markdown",
   "id": "0f697ff9",
   "metadata": {},
   "source": [
    "### 문제\n",
    "- 어떤 수들이 있을 때, 그 수들을 대표하는 값으로 가장 흔하게 쓰이는 것은 평균이다. 평균은 주어진 모든 수의 합을 수의 개수로 나눈 것이다. 예를 들어 10, 40, 30, 60, 30, 20, 60, 30, 40, 50의 평균은 (10 + 40 + 30 + 60 + 30 + 20 + 60 + 30 + 40 + 50) / 10 = 370 / 10 = 37이 된다.\n",
    "- 평균 이외의 또 다른 대표값으로 최빈값이라는 것이 있다. 최빈값은 주어진 수들 가운데 가장 많이 나타나는 수이다. 예를 들어 10, 40, 30, 60, 30, 20, 60, 30, 40, 50이 주어질 경우, 30이 세 번, 40과 60이 각각 두 번, 10, 20, 50이 각각 한 번씩 나오므로, 최빈값은 30이 된다.\n",
    "- 열 개의 자연수가 주어질 때 이들의 평균과 최빈값을 구하는 프로그램을 작성하시오.\n",
    "\n",
    "### 입력\n",
    "- 첫째 줄부터 열 번째 줄까지 한 줄에 하나씩 자연수가 주어진다. 주어지는 자연수는 1,000 보다 작은 10의 배수이다.\n",
    "\n",
    "### 출력\n",
    "- 첫째 줄에는 평균을 출력하고, 둘째 줄에는 최빈값을 출력한다. 최빈값이 둘 이상일 경우 그 중 하나만 출력한다. 평균과 최빈값은 모두 자연수이다."
   ]
  },
  {
   "cell_type": "markdown",
   "id": "24bb3e50",
   "metadata": {},
   "source": [
    "## 방법 1. dictionary 활용"
   ]
  },
  {
   "cell_type": "code",
   "execution_count": 2,
   "id": "06cc7395",
   "metadata": {},
   "outputs": [
    {
     "name": "stdout",
     "output_type": "stream",
     "text": [
      "10\n",
      "40\n",
      "30\n",
      "60\n",
      "30\n",
      "20\n",
      "60\n",
      "30\n",
      "40\n",
      "50\n",
      "37\n",
      "30\n"
     ]
    }
   ],
   "source": [
    "# 입력하는 숫자를 받는 list numbers 생성한다.\n",
    "numbers = []\n",
    "for _ in range(10):\n",
    "    numbers.append(int(input()))\n",
    "\n",
    "# numbers list를 오름차순으로 정렬한다.\n",
    "for i in range(10):\n",
    "    min_index = i\n",
    "    for j in range(i + 1, 10):\n",
    "        if numbers[j] <= numbers[min_index]:\n",
    "            min_index = j\n",
    "    numbers[i], numbers[min_index] = numbers[min_index], numbers[i]\n",
    "\n",
    "# 숫자와 숫자 개수를 mode dictionary에 key-value 쌍으로 넣는다.\n",
    "mode = {}\n",
    "for i in range(10):\n",
    "    mode[numbers[i]] = numbers.count(numbers[i])\n",
    "\n",
    "# 평균과 최빈값을 구한다.\n",
    "avg = int( sum(numbers) / len(numbers) )\n",
    "mode_value = [ key for key, value in mode.items() if value == max(list(mode.values())) ][0]\n",
    "\n",
    "print(avg)\n",
    "print(mode_value)"
   ]
  },
  {
   "cell_type": "markdown",
   "id": "c9705218",
   "metadata": {},
   "source": [
    "## 방법 2. nested list 활용"
   ]
  },
  {
   "cell_type": "code",
   "execution_count": 1,
   "id": "4d1e7288",
   "metadata": {},
   "outputs": [
    {
     "name": "stdout",
     "output_type": "stream",
     "text": [
      "10\n",
      "40\n",
      "30\n",
      "60\n",
      "30\n",
      "20\n",
      "60\n",
      "30\n",
      "40\n",
      "50\n",
      "37\n",
      "30\n"
     ]
    }
   ],
   "source": [
    "# 입력하는 숫자를 받는 list numbers 생성한다.\n",
    "numbers = []\n",
    "for _ in range(10):\n",
    "    numbers.append(int(input()))\n",
    "\n",
    "# list numbers에서 각 element의 수를 센 후 [숫자, 숫자 개수] list를 numbers_count list에 담는다.\n",
    "numbers_count = []\n",
    "for i in range(10):\n",
    "    number_count = numbers.count(numbers[i])\n",
    "    numbers_count.append([numbers[i], number_count])\n",
    "\n",
    "# 숫자 개수에 따라 오름차순으로 정렬한다. 이에 따라 제일 마지막에 오는 [숫자, 숫자 개수]의 숫자가 최빈값이 된다.\n",
    "for i in range(10):\n",
    "    min_index = i\n",
    "    for j in range(i + 1, 10):\n",
    "        if numbers_count[j][1] <= numbers_count[min_index][1]:\n",
    "            min_index = j\n",
    "    numbers_count[i], numbers_count[min_index] = numbers_count[min_index], numbers_count[i]\n",
    "\n",
    "# list numbers의 평균을 구한다.\n",
    "avg = int( sum(numbers) / len(numbers) )\n",
    "\n",
    "# list numbers의 최빈값을 구한다.\n",
    "mode_value = numbers_count[-1][0]\n",
    "\n",
    "print(avg)\n",
    "print(mode_value)"
   ]
  }
 ],
 "metadata": {
  "kernelspec": {
   "display_name": "Python 3 (ipykernel)",
   "language": "python",
   "name": "python3"
  },
  "language_info": {
   "codemirror_mode": {
    "name": "ipython",
    "version": 3
   },
   "file_extension": ".py",
   "mimetype": "text/x-python",
   "name": "python",
   "nbconvert_exporter": "python",
   "pygments_lexer": "ipython3",
   "version": "3.9.13"
  }
 },
 "nbformat": 4,
 "nbformat_minor": 5
}

{
 "cells": [
  {
   "cell_type": "markdown",
   "id": "6ec382ab",
   "metadata": {},
   "source": [
    "# 002. 트리의 부모 찾기 (BAEKJOON 11725)"
   ]
  },
  {
   "cell_type": "markdown",
   "id": "9f5b4e68",
   "metadata": {},
   "source": [
    "- https://www.acmicpc.net/problem/11725"
   ]
  },
  {
   "cell_type": "markdown",
   "id": "24ef56eb",
   "metadata": {},
   "source": [
    "### 문제\n",
    "- 루트 없는 트리가 주어진다. 이때, 트리의 루트를 1이라고 정했을 때, 각 노드의 부모를 구하는 프로그램을 작성하시오.\n",
    "\n",
    "### 입력\n",
    "- 첫째 줄에 노드의 개수 N (2 ≤ N ≤ 100,000)이 주어진다. 둘째 줄부터 N-1개의 줄에 트리 상에서 연결된 두 정점이 주어진다.\n",
    "\n",
    "### 출력\n",
    "- 첫째 줄부터 N-1개의 줄에 각 노드의 부모 노드 번호를 2번 노드부터 순서대로 출력한다.\n",
    "\n",
    "### 예제 입력 1\n",
    "7<br>\n",
    "1 6<br>\n",
    "6 3<br>\n",
    "3 5<br>\n",
    "4 1<br>\n",
    "2 4<br>\n",
    "4 7\n",
    "\n",
    "### 예제 출력 1\n",
    "4<br>\n",
    "6<br>\n",
    "1<br>\n",
    "3<br>\n",
    "1<br>\n",
    "4"
   ]
  },
  {
   "cell_type": "markdown",
   "id": "900e17fe",
   "metadata": {},
   "source": [
    "## Solution 1"
   ]
  },
  {
   "cell_type": "code",
   "execution_count": 6,
   "id": "e9fa8a04",
   "metadata": {
    "ExecuteTime": {
     "end_time": "2023-03-07T10:43:48.450275Z",
     "start_time": "2023-03-07T10:43:25.549914Z"
    }
   },
   "outputs": [
    {
     "name": "stdout",
     "output_type": "stream",
     "text": [
      "7\n",
      "1 6\n",
      "6 3\n",
      "3 5\n",
      "4 1\n",
      "2 4\n",
      "4 7\n",
      "4\n",
      "6\n",
      "1\n",
      "3\n",
      "1\n",
      "4\n"
     ]
    }
   ],
   "source": [
    "import sys\n",
    "sys.setrecursionlimit(10**6)\n",
    "\n",
    "# 노드의 개수 N을 입력받는다.\n",
    "N = int(input())\n",
    "\n",
    "node = [[] for _ in range(N + 1)]\n",
    "parent = [0 for _ in range(N + 1)]\n",
    "\n",
    "# 트리 상에서 연결된 두 정점들을 입력받는다. 트리의 루트는 1이다.\n",
    "for _ in range(N - 1):\n",
    "    a, b = map(int, input().split())\n",
    "    node[a].append(b)\n",
    "    node[b].append(a)\n",
    "    \n",
    "def DFS(start, node, parent):\n",
    "    for i in node[start]:\n",
    "        if parent[i] == 0:\n",
    "            parent[i] = start\n",
    "            DFS(i, node, parent)\n",
    "\n",
    "DFS(1, node, parent)\n",
    "\n",
    "for i in range(2, N + 1):\n",
    "    print(parent[i])"
   ]
  }
 ],
 "metadata": {
  "kernelspec": {
   "display_name": "Python 3 (ipykernel)",
   "language": "python",
   "name": "python3"
  },
  "language_info": {
   "codemirror_mode": {
    "name": "ipython",
    "version": 3
   },
   "file_extension": ".py",
   "mimetype": "text/x-python",
   "name": "python",
   "nbconvert_exporter": "python",
   "pygments_lexer": "ipython3",
   "version": "3.9.16"
  }
 },
 "nbformat": 4,
 "nbformat_minor": 5
}

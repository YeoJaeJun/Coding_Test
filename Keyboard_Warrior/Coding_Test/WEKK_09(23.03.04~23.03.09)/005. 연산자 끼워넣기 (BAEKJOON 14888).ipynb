{
 "cells": [
  {
   "cell_type": "markdown",
   "id": "211ebc1d",
   "metadata": {},
   "source": [
    "# 005. 연산자 끼워넣기 (BAEKJOON 14888)"
   ]
  },
  {
   "cell_type": "markdown",
   "id": "747b248c",
   "metadata": {},
   "source": [
    "- https://www.acmicpc.net/problem/14888"
   ]
  },
  {
   "cell_type": "markdown",
   "id": "fab6e670",
   "metadata": {},
   "source": [
    "### 문제\n",
    "- N개의 수로 이루어진 수열 A1, A2, ..., AN이 주어진다. 또, 수와 수 사이에 끼워넣을 수 있는 N-1개의 연산자가 주어진다. 연산자는 덧셈(+), 뺄셈(-), 곱셈(×), 나눗셈(÷)으로만 이루어져 있다.\n",
    "- 우리는 수와 수 사이에 연산자를 하나씩 넣어서, 수식을 하나 만들 수 있다. 이때, 주어진 수의 순서를 바꾸면 안 된다.\n",
    "- 예를 들어, 6개의 수로 이루어진 수열이 1, 2, 3, 4, 5, 6이고, 주어진 연산자가 덧셈(+) 2개, 뺄셈(-) 1개, 곱셈(×) 1개, 나눗셈(÷) 1개인 경우에는 총 60가지의 식을 만들 수 있다. 예를 들어, 아래와 같은 식을 만들 수 있다.\n",
    "    - 1+2+3-4×5÷6\n",
    "    - 1÷2+3+4-5×6\n",
    "    - 1+2÷3×4-5+6\n",
    "    - 1÷2×3-4+5+6\n",
    "- 식의 계산은 연산자 우선 순위를 무시하고 앞에서부터 진행해야 한다. 또, 나눗셈은 정수 나눗셈으로 몫만 취한다. 음수를 양수로 나눌 때는 C++14의 기준을 따른다. 즉, 양수로 바꾼 뒤 몫을 취하고, 그 몫을 음수로 바꾼 것과 같다. 이에 따라서, 위의 식 4개의 결과를 계산해보면 아래와 같다.\n",
    "    - 1+2+3-4×5÷6 = 1\n",
    "    - 1÷2+3+4-5×6 = 12\n",
    "    - 1+2÷3×4-5+6 = 5\n",
    "    - 1÷2×3-4+5+6 = 7\n",
    "- N개의 수와 N-1개의 연산자가 주어졌을 때, 만들 수 있는 식의 결과가 최대인 것과 최소인 것을 구하는 프로그램을 작성하시오.\n",
    "\n",
    "### 입력\n",
    "- 첫째 줄에 수의 개수 N(2 ≤ N ≤ 11)가 주어진다. 둘째 줄에는 A1, A2, ..., AN이 주어진다. (1 ≤ Ai ≤ 100) 셋째 줄에는 합이 N-1인 4개의 정수가 주어지는데, 차례대로 덧셈(+)의 개수, 뺄셈(-)의 개수, 곱셈(×)의 개수, 나눗셈(÷)의 개수이다. \n",
    "\n",
    "### 출력\n",
    "- 첫째 줄에 만들 수 있는 식의 결과의 최댓값을, 둘째 줄에는 최솟값을 출력한다. 연산자를 어떻게 끼워넣어도 항상 -10억보다 크거나 같고, 10억보다 작거나 같은 결과가 나오는 입력만 주어진다. 또한, 앞에서부터 계산했을 때, 중간에 계산되는 식의 결과도 항상 -10억보다 크거나 같고, 10억보다 작거나 같다.\n",
    "\n",
    "### 예제 입력 1\n",
    "2<br>\n",
    "5 6<br>\n",
    "0 0 1 0\n",
    "\n",
    "### 예제 출력 1\n",
    "30<br>\n",
    "30"
   ]
  },
  {
   "cell_type": "markdown",
   "id": "5720782e",
   "metadata": {},
   "source": [
    "## Solution 1"
   ]
  },
  {
   "cell_type": "code",
   "execution_count": 14,
   "id": "9e089b2a",
   "metadata": {
    "ExecuteTime": {
     "end_time": "2023-03-05T03:31:47.651103Z",
     "start_time": "2023-03-05T03:31:43.136778Z"
    },
    "scrolled": true
   },
   "outputs": [
    {
     "name": "stdout",
     "output_type": "stream",
     "text": [
      "2\n",
      "5 6\n",
      "0 0 1 0\n",
      "30\n",
      "30\n"
     ]
    }
   ],
   "source": [
    "from itertools import permutations\n",
    "\n",
    "# 수의 개수 N을 입력받는다.\n",
    "N = int(input())\n",
    "\n",
    "# 수를 입력받는다.\n",
    "numbers = list(map(int, input().split()))\n",
    "\n",
    "# 연산자의 개수를 입력받는다.\n",
    "덧셈, 뺄셈, 곱셈, 나눗셈 = map(int, input().split())\n",
    "\n",
    "# 연산자 list를 만든다.\n",
    "연산자 = '+'*덧셈 + '-'*뺄셈 + '*'*곱셈 + '/'*나눗셈\n",
    "\n",
    "# 모든 조합의 최대값과 최소값을 구한다.\n",
    "max_number = -1e9\n",
    "min_number = 1e9\n",
    "\n",
    "# 모든 case에 대한 결과값을 구한다.\n",
    "for case in permutations(연산자, N - 1):\n",
    "    answer = numbers[0]\n",
    "    for i in range(1, N):\n",
    "        if case[i - 1] == '+':\n",
    "            answer += numbers[i]\n",
    "        elif case[i - 1] == '-':\n",
    "            answer -= numbers[i]\n",
    "        elif case[i - 1] == '*':\n",
    "            answer *= numbers[i]\n",
    "        elif case[i - 1] == '/':\n",
    "            answer = int(answer / numbers[i])\n",
    "    \n",
    "    max_number = max(max_number, answer)\n",
    "    min_number = min(min_number, answer)\n",
    "\n",
    "print(max_number)\n",
    "print(min_number)"
   ]
  }
 ],
 "metadata": {
  "kernelspec": {
   "display_name": "Python 3 (ipykernel)",
   "language": "python",
   "name": "python3"
  },
  "language_info": {
   "codemirror_mode": {
    "name": "ipython",
    "version": 3
   },
   "file_extension": ".py",
   "mimetype": "text/x-python",
   "name": "python",
   "nbconvert_exporter": "python",
   "pygments_lexer": "ipython3",
   "version": "3.9.16"
  }
 },
 "nbformat": 4,
 "nbformat_minor": 5
}

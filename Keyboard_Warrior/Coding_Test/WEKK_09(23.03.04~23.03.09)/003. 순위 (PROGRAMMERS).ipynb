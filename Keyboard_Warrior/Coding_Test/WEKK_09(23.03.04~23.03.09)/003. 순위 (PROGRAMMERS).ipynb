{
 "cells": [
  {
   "cell_type": "markdown",
   "id": "19880a28",
   "metadata": {},
   "source": [
    "# 003. 순위 (PROGRAMMERS)"
   ]
  },
  {
   "cell_type": "markdown",
   "id": "67c6c2f4",
   "metadata": {},
   "source": [
    "- https://school.programmers.co.kr/learn/courses/30/lessons/49191"
   ]
  },
  {
   "cell_type": "markdown",
   "id": "c35bc940",
   "metadata": {},
   "source": [
    "### 문제 설명\n",
    "- n명의 권투선수가 권투 대회에 참여했고 각각 1번부터 n번까지 번호를 받았습니다. 권투 경기는 1대1 방식으로 진행이 되고, 만약 A 선수가 B 선수보다 실력이 좋다면 A 선수는 B 선수를 항상 이깁니다. 심판은 주어진 경기 결과를 가지고 선수들의 순위를 매기려 합니다. 하지만 몇몇 경기 결과를 분실하여 정확하게 순위를 매길 수 없습니다.\n",
    "- 선수의 수 n, 경기 결과를 담은 2차원 배열 results가 매개변수로 주어질 때 정확하게 순위를 매길 수 있는 선수의 수를 return 하도록 solution 함수를 작성해주세요.\n",
    "\n",
    "### 제한 사항\n",
    "- 선수의 수는 1명 이상 100명 이하입니다.\n",
    "- 경기 결과는 1개 이상 4,500개 이하입니다.\n",
    "- results 배열 각 행 [A, B]는 A 선수가 B 선수를 이겼다는 의미입니다.\n",
    "- 모든 경기 결과에는 모순이 없습니다.\n",
    "\n",
    "### 입출력 예\n",
    "|n\t|results\t|return|\n",
    "|-|-|-|\n",
    "|5\t|[[4, 3], [4, 2], [3, 2], [1, 2], [2, 5]]\t|2|"
   ]
  },
  {
   "cell_type": "markdown",
   "id": "0feb317d",
   "metadata": {},
   "source": [
    "## Solution 1"
   ]
  },
  {
   "cell_type": "code",
   "execution_count": 19,
   "id": "38e28f3d",
   "metadata": {
    "ExecuteTime": {
     "end_time": "2023-03-09T10:41:20.908786Z",
     "start_time": "2023-03-09T10:41:20.888617Z"
    }
   },
   "outputs": [],
   "source": [
    "def solution(n, results):\n",
    "    # 순위를 정확하게 아는 선수의 수를 정의한다.\n",
    "    cnt = 0\n",
    "    \n",
    "    # 선수들 간의 관계를 작성할 인접 행렬을 정의한다.\n",
    "    board = [[0] * n for _ in range(n)]\n",
    "    \n",
    "    # board에 선수들 간의 관계를 입력한다.\n",
    "    for winner, loser in results:\n",
    "        # 이겼으면 1, 졌으면 -1을 넣는다.\n",
    "        board[winner - 1][loser - 1] = 1\n",
    "        board[loser - 1][winner - 1] = -1\n",
    "        \n",
    "    for player in range(n):\n",
    "        for player_A in range(n):\n",
    "            for player_B in range(n):\n",
    "                if player_A == player_B or board[player_A][player_B] in [-1, 1]:\n",
    "                    continue\n",
    "                elif board[player_A][player] == board[player][player_B] == 1:\n",
    "                    board[player_A][player_B] = 1\n",
    "                    board[player_B][player] = board[player][player_A] = board[player_B][player_A] = -1\n",
    "        \n",
    "    for row in board:\n",
    "        # 승패 관계가 모두 정리되면 board의 한 row에 0이 하나밖에 없다. 이때 0은 자기 자신과의 관계를 뜻할 것이다.\n",
    "        # 그래서 한 row에 0이 하나밖에 없다면 해당 선수에 대한 승패 관계는 모두 정리된 것이다. 그러므로 cnt += 1을 한다.\n",
    "        if row.count(0) == 1:\n",
    "            cnt += 1\n",
    "\n",
    "    return cnt"
   ]
  },
  {
   "cell_type": "code",
   "execution_count": 20,
   "id": "c27c8585",
   "metadata": {
    "ExecuteTime": {
     "end_time": "2023-03-09T10:41:21.383990Z",
     "start_time": "2023-03-09T10:41:21.369359Z"
    }
   },
   "outputs": [
    {
     "data": {
      "text/plain": [
       "2"
      ]
     },
     "execution_count": 20,
     "metadata": {},
     "output_type": "execute_result"
    }
   ],
   "source": [
    "solution(5, [[4, 3], [4, 2], [3, 2], [1, 2], [2, 5]])"
   ]
  }
 ],
 "metadata": {
  "kernelspec": {
   "display_name": "Python 3 (ipykernel)",
   "language": "python",
   "name": "python3"
  },
  "language_info": {
   "codemirror_mode": {
    "name": "ipython",
    "version": 3
   },
   "file_extension": ".py",
   "mimetype": "text/x-python",
   "name": "python",
   "nbconvert_exporter": "python",
   "pygments_lexer": "ipython3",
   "version": "3.9.15"
  }
 },
 "nbformat": 4,
 "nbformat_minor": 5
}

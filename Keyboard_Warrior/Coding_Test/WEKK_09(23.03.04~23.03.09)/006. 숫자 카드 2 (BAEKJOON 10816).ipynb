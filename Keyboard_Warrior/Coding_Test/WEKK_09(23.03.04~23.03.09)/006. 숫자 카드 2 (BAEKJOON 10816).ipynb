{
 "cells": [
  {
   "cell_type": "markdown",
   "id": "7885729e",
   "metadata": {},
   "source": [
    "# 006. 숫자 카드 2 (BAEKJOON 10816)"
   ]
  },
  {
   "cell_type": "markdown",
   "id": "b6a2a5cd",
   "metadata": {},
   "source": [
    "- https://www.acmicpc.net/problem/10816"
   ]
  },
  {
   "cell_type": "markdown",
   "id": "43d1d42e",
   "metadata": {},
   "source": [
    "### 문제 \n",
    "- 숫자 카드는 정수 하나가 적혀져 있는 카드이다. 상근이는 숫자 카드 N개를 가지고 있다. 정수 M개가 주어졌을 때, 이 수가 적혀있는 숫자 카드를 상근이가 몇 개 가지고 있는지 구하는 프로그램을 작성하시오.\n",
    "\n",
    "### 입력\n",
    "- 첫째 줄에 상근이가 가지고 있는 숫자 카드의 개수 N(1 ≤ N ≤ 500,000)이 주어진다. 둘째 줄에는 숫자 카드에 적혀있는 정수가 주어진다. 숫자 카드에 적혀있는 수는 -10,000,000보다 크거나 같고, 10,000,000보다 작거나 같다.\n",
    "- 셋째 줄에는 M(1 ≤ M ≤ 500,000)이 주어진다. 넷째 줄에는 상근이가 몇 개 가지고 있는 숫자 카드인지 구해야 할 M개의 정수가 주어지며, 이 수는 공백으로 구분되어져 있다. 이 수도 -10,000,000보다 크거나 같고, 10,000,000보다 작거나 같다.\n",
    "\n",
    "### 출력\n",
    "- 첫째 줄에 입력으로 주어진 M개의 수에 대해서, 각 수가 적힌 숫자 카드를 상근이가 몇 개 가지고 있는지를 공백으로 구분해 출력한다.\n",
    "\n",
    "### 예제 입력 1\n",
    "10<br>\n",
    "6 3 2 10 10 10 -10 -10 7 3<br>\n",
    "8<br>\n",
    "10 9 -5 2 3 4 5 -10\n",
    "\n",
    "### 예제 출력 1\n",
    "3 0 0 1 2 0 0 2"
   ]
  },
  {
   "cell_type": "markdown",
   "id": "967d20ae",
   "metadata": {},
   "source": [
    "## Solution 1 - 실패\n",
    "- 시간 초과"
   ]
  },
  {
   "cell_type": "code",
   "execution_count": 4,
   "id": "a8da9cf7",
   "metadata": {
    "ExecuteTime": {
     "end_time": "2023-03-05T02:47:55.599892Z",
     "start_time": "2023-03-05T02:47:43.989962Z"
    }
   },
   "outputs": [
    {
     "name": "stdout",
     "output_type": "stream",
     "text": [
      "10\n",
      "6 3 2 10 10 10 -10 -10 7 3\n",
      "8\n",
      "10 9 -5 2 3 4 5 -10\n",
      "3 0 0 1 2 0 0 2\n"
     ]
    }
   ],
   "source": [
    "# 상근이가 가지고 있는 숫자 카드의 개수 N을 입력받는다.\n",
    "N = int(input())\n",
    "\n",
    "# 숫자 카드에 적혀있는 정수를 입력받는다.\n",
    "card = list(map(int, input().split()))\n",
    "\n",
    "# M을 입력받는다.\n",
    "M = int(input())\n",
    "\n",
    "# M개의 정수를 입력받는다.\n",
    "numbers = list(map(int, input().split()))\n",
    "\n",
    "# 답을 구한다.\n",
    "cnt = []\n",
    "for number in numbers:\n",
    "    cnt.append(str(card.count(number)))\n",
    "\n",
    "# 출력한다.\n",
    "print(' '.join(cnt))"
   ]
  }
 ],
 "metadata": {
  "kernelspec": {
   "display_name": "Python 3 (ipykernel)",
   "language": "python",
   "name": "python3"
  },
  "language_info": {
   "codemirror_mode": {
    "name": "ipython",
    "version": 3
   },
   "file_extension": ".py",
   "mimetype": "text/x-python",
   "name": "python",
   "nbconvert_exporter": "python",
   "pygments_lexer": "ipython3",
   "version": "3.9.16"
  }
 },
 "nbformat": 4,
 "nbformat_minor": 5
}

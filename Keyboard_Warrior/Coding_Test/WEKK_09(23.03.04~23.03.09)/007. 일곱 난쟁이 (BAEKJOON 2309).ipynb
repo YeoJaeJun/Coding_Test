{
 "cells": [
  {
   "cell_type": "markdown",
   "id": "e9456183",
   "metadata": {},
   "source": [
    "# 007. 일곱 난쟁이 (BAEKJOON 2309)"
   ]
  },
  {
   "cell_type": "markdown",
   "id": "28fe27bd",
   "metadata": {},
   "source": [
    "- https://www.acmicpc.net/problem/2309"
   ]
  },
  {
   "cell_type": "markdown",
   "id": "acbe5eca",
   "metadata": {},
   "source": [
    "### 문제\n",
    "- 왕비를 피해 일곱 난쟁이들과 함께 평화롭게 생활하고 있던 백설공주에게 위기가 찾아왔다. 일과를 마치고 돌아온 난쟁이가 일곱 명이 아닌 아홉 명이었던 것이다.\n",
    "- 아홉 명의 난쟁이는 모두 자신이 \"백설 공주와 일곱 난쟁이\"의 주인공이라고 주장했다. 뛰어난 수학적 직관력을 가지고 있던 백설공주는, 다행스럽게도 일곱 난쟁이의 키의 합이 100이 됨을 기억해 냈다.\n",
    "- 아홉 난쟁이의 키가 주어졌을 때, 백설공주를 도와 일곱 난쟁이를 찾는 프로그램을 작성하시오.\n",
    "\n",
    "### 입력\n",
    "- 아홉 개의 줄에 걸쳐 난쟁이들의 키가 주어진다. 주어지는 키는 100을 넘지 않는 자연수이며, 아홉 난쟁이의 키는 모두 다르며, 가능한 정답이 여러 가지인 경우에는 아무거나 출력한다.\n",
    "\n",
    "### 출력\n",
    "- 일곱 난쟁이의 키를 오름차순으로 출력한다. 일곱 난쟁이를 찾을 수 없는 경우는 없다.\n",
    "\n",
    "### 예제 입력 1\n",
    "20<br>\n",
    "7<br>\n",
    "23<br>\n",
    "19<br>\n",
    "10<br>\n",
    "15<br>\n",
    "25<br>\n",
    "8<br>\n",
    "13\n",
    "\n",
    "### 예제 출력 1\n",
    "7<br>\n",
    "8<br>\n",
    "10<br>\n",
    "13<br>\n",
    "19<br>\n",
    "20<br>\n",
    "23"
   ]
  },
  {
   "cell_type": "markdown",
   "id": "8b67184a",
   "metadata": {},
   "source": [
    "## Solution 1"
   ]
  },
  {
   "cell_type": "code",
   "execution_count": 6,
   "id": "abc4dcb2",
   "metadata": {
    "ExecuteTime": {
     "end_time": "2023-03-05T02:56:53.393096Z",
     "start_time": "2023-03-05T02:56:20.799405Z"
    }
   },
   "outputs": [
    {
     "name": "stdout",
     "output_type": "stream",
     "text": [
      "20\n",
      "7\n",
      "23\n",
      "19\n",
      "10\n",
      "15\n",
      "25\n",
      "8\n",
      "13\n",
      "7\n",
      "8\n",
      "10\n",
      "13\n",
      "19\n",
      "20\n",
      "23\n"
     ]
    }
   ],
   "source": [
    "from itertools import combinations\n",
    "\n",
    "# 난쟁이의 키를 입력받는다.\n",
    "height = []\n",
    "for _ in range(9):\n",
    "    height.append(int(input()))\n",
    "\n",
    "# combinations로 합이 100이 되는 조합을 찾는다.\n",
    "answer = ()\n",
    "for 조합 in combinations(height, 7):\n",
    "    if sum(조합) == 100:\n",
    "        answer = sorted(조합)\n",
    "\n",
    "for i in answer:\n",
    "    print(i)"
   ]
  }
 ],
 "metadata": {
  "kernelspec": {
   "display_name": "Python 3 (ipykernel)",
   "language": "python",
   "name": "python3"
  },
  "language_info": {
   "codemirror_mode": {
    "name": "ipython",
    "version": 3
   },
   "file_extension": ".py",
   "mimetype": "text/x-python",
   "name": "python",
   "nbconvert_exporter": "python",
   "pygments_lexer": "ipython3",
   "version": "3.9.16"
  }
 },
 "nbformat": 4,
 "nbformat_minor": 5
}

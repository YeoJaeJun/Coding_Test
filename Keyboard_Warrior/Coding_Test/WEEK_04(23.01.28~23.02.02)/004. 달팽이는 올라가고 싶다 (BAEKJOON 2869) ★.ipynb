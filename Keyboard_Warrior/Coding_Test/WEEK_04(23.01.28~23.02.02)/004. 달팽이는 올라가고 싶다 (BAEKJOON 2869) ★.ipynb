{
 "cells": [
  {
   "cell_type": "markdown",
   "id": "7940872a",
   "metadata": {},
   "source": [
    "# 004. 달팽이는 올라가고 싶다 (BAEKJOON 2869) ★"
   ]
  },
  {
   "cell_type": "markdown",
   "id": "71cb4609",
   "metadata": {},
   "source": [
    "- https://www.acmicpc.net/problem/2869"
   ]
  },
  {
   "cell_type": "markdown",
   "id": "09c0b496",
   "metadata": {},
   "source": [
    "### 문제\n",
    "- 땅 위에 달팽이가 있다. 이 달팽이는 높이가 V미터인 나무 막대를 올라갈 것이다.\n",
    "- 달팽이는 낮에 A미터 올라갈 수 있다. 하지만, 밤에 잠을 자는 동안 B미터 미끄러진다. 또, 정상에 올라간 후에는 미끄러지지 않는다.\n",
    "- 달팽이가 나무 막대를 모두 올라가려면, 며칠이 걸리는지 구하는 프로그램을 작성하시오.\n",
    "\n",
    "### 입력\n",
    "- 첫째 줄에 세 정수 A, B, V가 공백으로 구분되어서 주어진다. (1 ≤ B < A ≤ V ≤ 1,000,000,000)\n",
    "\n",
    "### 출력\n",
    "- 첫째 줄에 달팽이가 나무 막대를 모두 올라가는데 며칠이 걸리는지 출력한다."
   ]
  },
  {
   "cell_type": "markdown",
   "id": "3f995dc4",
   "metadata": {},
   "source": [
    "## Solution 1 - 일반적인 방법 - 실패\n",
    "- 시간 초과 발생"
   ]
  },
  {
   "cell_type": "code",
   "execution_count": null,
   "id": "03e7b07e",
   "metadata": {},
   "outputs": [],
   "source": [
    "A, B, V = map(int, input().split())\n",
    "\n",
    "day = 1\n",
    "height = 0\n",
    "while True:\n",
    "    height += A\n",
    "    if height < V:\n",
    "        height -= B\n",
    "        day += 1\n",
    "    else:\n",
    "        print(day)\n",
    "        break"
   ]
  },
  {
   "cell_type": "markdown",
   "id": "5d61fb4e",
   "metadata": {},
   "source": [
    "## Solution 2 - 시간을 줄이기 위한 시도 1 - 실패\n",
    "- 시간 초과 실패\n",
    "- ex) 100 99 1000000000 에 대해서 시간 초과 발생 - 해결 방법 필요"
   ]
  },
  {
   "cell_type": "code",
   "execution_count": 1,
   "id": "125de7ee",
   "metadata": {},
   "outputs": [
    {
     "name": "stdout",
     "output_type": "stream",
     "text": [
      "2 1 5\n",
      "4\n"
     ]
    }
   ],
   "source": [
    "A, B, V = map(int, input().split())\n",
    "\n",
    "day = 1\n",
    "height = A\n",
    "while height < V:\n",
    "    height -= B\n",
    "    day += 1\n",
    "    height += A\n",
    "print(day)"
   ]
  },
  {
   "cell_type": "markdown",
   "id": "2b5244f0",
   "metadata": {},
   "source": [
    "## Solution 3 - 시간을 줄이기 위한 시도 2 - 실패"
   ]
  },
  {
   "cell_type": "markdown",
   "id": "93488704",
   "metadata": {},
   "source": [
    "- 필요한 구문\n",
    "    - A, B, V = map(int, input().split())\n",
    "    - day = 1\n",
    "- 날짜를 계산할 때 단순하게 while문을 쓰는 것은 너무 비효율적이다. 날짜를 간단한 수식으로 빨리 계산할 수 있도록 해야 한다."
   ]
  },
  {
   "cell_type": "code",
   "execution_count": 18,
   "id": "ef8386ce",
   "metadata": {},
   "outputs": [
    {
     "name": "stdout",
     "output_type": "stream",
     "text": [
      "2 1 5\n",
      "5\n"
     ]
    }
   ],
   "source": [
    "A, B, V = map(int, input().split())\n",
    "\n",
    "day = 1 + int((V - B) / (A - B))\n",
    "\n",
    "print(day)"
   ]
  },
  {
   "cell_type": "markdown",
   "id": "1963bc1a",
   "metadata": {},
   "source": [
    "## Solution 4 - 성공"
   ]
  },
  {
   "cell_type": "code",
   "execution_count": 17,
   "id": "99e92cae",
   "metadata": {},
   "outputs": [
    {
     "name": "stdout",
     "output_type": "stream",
     "text": [
      "100 99 1000000000\n",
      "999999901\n"
     ]
    }
   ],
   "source": [
    "A, B, V = map(int, input().split())\n",
    "\n",
    "day = (V - B) / (A - B)\n",
    "\n",
    "if day % 1:\n",
    "    print(int(day) + 1)\n",
    "else:\n",
    "    print(int(day))"
   ]
  },
  {
   "cell_type": "code",
   "execution_count": null,
   "id": "8cba7b70",
   "metadata": {},
   "outputs": [],
   "source": []
  }
 ],
 "metadata": {
  "kernelspec": {
   "display_name": "Python 3 (ipykernel)",
   "language": "python",
   "name": "python3"
  },
  "language_info": {
   "codemirror_mode": {
    "name": "ipython",
    "version": 3
   },
   "file_extension": ".py",
   "mimetype": "text/x-python",
   "name": "python",
   "nbconvert_exporter": "python",
   "pygments_lexer": "ipython3",
   "version": "3.9.15"
  }
 },
 "nbformat": 4,
 "nbformat_minor": 5
}

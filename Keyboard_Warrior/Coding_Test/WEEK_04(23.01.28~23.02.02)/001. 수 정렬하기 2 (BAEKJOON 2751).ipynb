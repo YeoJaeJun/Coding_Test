{
 "cells": [
  {
   "cell_type": "markdown",
   "id": "0a6248fe",
   "metadata": {},
   "source": [
    "# 001. 수 정렬하기 2 (BAEKJOON 2751)"
   ]
  },
  {
   "cell_type": "markdown",
   "id": "91c73a0a",
   "metadata": {},
   "source": [
    "- https://www.acmicpc.net/problem/2751"
   ]
  },
  {
   "cell_type": "markdown",
   "id": "5df2d867",
   "metadata": {},
   "source": [
    "### 문제\n",
    "- N개의 수가 주어졌을 때, 이를 오름차순으로 정렬하는 프로그램을 작성하시오.\n",
    "\n",
    "### 입력\n",
    "- 첫째 줄에 수의 개수 N(1 ≤ N ≤ 1,000,000)이 주어진다. 둘째 줄부터 N개의 줄에는 수가 주어진다. 이 수는 절댓값이 1,000,000보다 작거나 같은 정수이다. 수는 중복되지 않는다.\n",
    "\n",
    "### 출력\n",
    "- 첫째 줄부터 N개의 줄에 오름차순으로 정렬한 결과를 한 줄에 하나씩 출력한다."
   ]
  },
  {
   "cell_type": "markdown",
   "id": "196c32b9",
   "metadata": {},
   "source": [
    "## Solution 1 - Quick Sort"
   ]
  },
  {
   "cell_type": "code",
   "execution_count": 3,
   "id": "5e9e8155",
   "metadata": {},
   "outputs": [
    {
     "name": "stdout",
     "output_type": "stream",
     "text": [
      "5\n",
      "5\n",
      "4\n",
      "3\n",
      "2\n",
      "1\n",
      "1\n",
      "2\n",
      "3\n",
      "4\n",
      "5\n"
     ]
    }
   ],
   "source": [
    "def quick_sort(arr):\n",
    "    if len(arr) <= 1:\n",
    "        return arr\n",
    "    pivot = arr[len(arr) // 2]\n",
    "    smaller_arr, equal_arr, bigger_arr = [], [], []\n",
    "    for num in arr:\n",
    "        if num < pivot:\n",
    "            smaller_arr.append(num)\n",
    "        elif num > pivot:\n",
    "            bigger_arr.append(num)\n",
    "        else:\n",
    "            equal_arr.append(num)\n",
    "    return quick_sort(smaller_arr) + equal_arr + quick_sort(bigger_arr)\n",
    "\n",
    "\n",
    "N = int(input())\n",
    "\n",
    "arr = []\n",
    "for _ in range(N):\n",
    "    arr.append( int(input()) )\n",
    "\n",
    "for number in quick_sort(arr):\n",
    "    print(number)"
   ]
  },
  {
   "cell_type": "markdown",
   "id": "ec861849",
   "metadata": {},
   "source": [
    "## Solution 2 - Merge Sort"
   ]
  },
  {
   "cell_type": "code",
   "execution_count": null,
   "id": "76a11b8e",
   "metadata": {},
   "outputs": [],
   "source": []
  },
  {
   "cell_type": "markdown",
   "id": "a1599d0f",
   "metadata": {},
   "source": [
    "## Solution 3 - Heap Sort"
   ]
  },
  {
   "cell_type": "code",
   "execution_count": null,
   "id": "9e8c1048",
   "metadata": {},
   "outputs": [],
   "source": []
  },
  {
   "cell_type": "markdown",
   "id": "03ed34dd",
   "metadata": {},
   "source": [
    "## Solution 4 - Smooth Sort"
   ]
  },
  {
   "cell_type": "code",
   "execution_count": null,
   "id": "eb61cbdf",
   "metadata": {},
   "outputs": [],
   "source": []
  }
 ],
 "metadata": {
  "kernelspec": {
   "display_name": "Python 3 (ipykernel)",
   "language": "python",
   "name": "python3"
  },
  "language_info": {
   "codemirror_mode": {
    "name": "ipython",
    "version": 3
   },
   "file_extension": ".py",
   "mimetype": "text/x-python",
   "name": "python",
   "nbconvert_exporter": "python",
   "pygments_lexer": "ipython3",
   "version": "3.9.15"
  }
 },
 "nbformat": 4,
 "nbformat_minor": 5
}

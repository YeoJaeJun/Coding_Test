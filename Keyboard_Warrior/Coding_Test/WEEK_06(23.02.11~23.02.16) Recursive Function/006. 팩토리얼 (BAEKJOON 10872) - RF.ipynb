{
 "cells": [
  {
   "cell_type": "markdown",
   "id": "e248660a",
   "metadata": {},
   "source": [
    "# 006. 팩토리얼 (BAEKJOON 10872) - RF"
   ]
  },
  {
   "cell_type": "markdown",
   "id": "566dcf36",
   "metadata": {},
   "source": [
    "- https://www.acmicpc.net/problem/10872"
   ]
  },
  {
   "cell_type": "markdown",
   "id": "91e5138c",
   "metadata": {},
   "source": [
    "### 문제\n",
    "- 0보다 크거나 같은 정수 N이 주어진다. 이때, N!을 출력하는 프로그램을 작성하시오.\n",
    "\n",
    "### 입력\n",
    "- 첫째 줄에 정수 N(0 ≤ N ≤ 12)이 주어진다.\n",
    "\n",
    "### 출력\n",
    "- 첫째 줄에 N!을 출력한다.\n",
    "\n",
    "### 예제 입력 1\n",
    "10\n",
    "\n",
    "### 예제 출력 1\n",
    "3628800"
   ]
  },
  {
   "cell_type": "markdown",
   "id": "0c0da762",
   "metadata": {},
   "source": [
    "## Solution 1"
   ]
  },
  {
   "cell_type": "code",
   "execution_count": 1,
   "id": "c6b179d0",
   "metadata": {},
   "outputs": [],
   "source": [
    "# factorial 함수를 정의한다.\n",
    "def factorial(N):\n",
    "    if N <= 1:\n",
    "        return 1\n",
    "    return N * factorial(N - 1)"
   ]
  },
  {
   "cell_type": "code",
   "execution_count": 5,
   "id": "402ba14a",
   "metadata": {},
   "outputs": [
    {
     "name": "stdout",
     "output_type": "stream",
     "text": [
      "10\n",
      "3628800\n"
     ]
    }
   ],
   "source": [
    "# 정수 N을 입력받는다.\n",
    "N = int(input())\n",
    "\n",
    "# N!를 출력한다.\n",
    "print(factorial(N))"
   ]
  }
 ],
 "metadata": {
  "kernelspec": {
   "display_name": "Python 3 (ipykernel)",
   "language": "python",
   "name": "python3"
  },
  "language_info": {
   "codemirror_mode": {
    "name": "ipython",
    "version": 3
   },
   "file_extension": ".py",
   "mimetype": "text/x-python",
   "name": "python",
   "nbconvert_exporter": "python",
   "pygments_lexer": "ipython3",
   "version": "3.9.15"
  }
 },
 "nbformat": 4,
 "nbformat_minor": 5
}

{
 "cells": [
  {
   "cell_type": "markdown",
   "id": "b88f1fa1",
   "metadata": {},
   "source": [
    "# 001. 블랙잭 (BAEKJOON 2798) - Brute-Force"
   ]
  },
  {
   "cell_type": "markdown",
   "id": "16847688",
   "metadata": {},
   "source": [
    "- https://www.acmicpc.net/problem/2798"
   ]
  },
  {
   "cell_type": "markdown",
   "id": "444dd07e",
   "metadata": {},
   "source": [
    "### 문제\n",
    "- 카지노에서 제일 인기 있는 게임 블랙잭의 규칙은 상당히 쉽다. 카드의 합이 21을 넘지 않는 한도 내에서, 카드의 합을 최대한 크게 만드는 게임이다. 블랙잭은 카지노마다 다양한 규정이 있다.\n",
    "- 한국 최고의 블랙잭 고수 김정인은 새로운 블랙잭 규칙을 만들어 상근, 창영이와 게임하려고 한다.\n",
    "- 김정인 버전의 블랙잭에서 각 카드에는 양의 정수가 쓰여 있다. 그 다음, 딜러는 N장의 카드를 모두 숫자가 보이도록 바닥에 놓는다. 그런 후에 딜러는 숫자 M을 크게 외친다.\n",
    "- 이제 플레이어는 제한된 시간 안에 N장의 카드 중에서 3장의 카드를 골라야 한다. 블랙잭 변형 게임이기 때문에, 플레이어가 고른 카드의 합은 M을 넘지 않으면서 M과 최대한 가깝게 만들어야 한다.\n",
    "- N장의 카드에 써져 있는 숫자가 주어졌을 때, M을 넘지 않으면서 M에 최대한 가까운 카드 3장의 합을 구해 출력하시오.\n",
    "\n",
    "### 입력\n",
    "- 첫째 줄에 카드의 개수 N(3 ≤ N ≤ 100)과 M(10 ≤ M ≤ 300,000)이 주어진다. 둘째 줄에는 카드에 쓰여 있는 수가 주어지며, 이 값은 100,000을 넘지 않는 양의 정수이다.\n",
    "- 합이 M을 넘지 않는 카드 3장을 찾을 수 있는 경우만 입력으로 주어진다.\n",
    "\n",
    "### 출력\n",
    "- 첫째 줄에 M을 넘지 않으면서 M에 최대한 가까운 카드 3장의 합을 출력한다.\n",
    "\n",
    "### 예제 입력 1\n",
    "5 21<br>\n",
    "5 6 7 8 9\n",
    "\n",
    "### 예제 출력 1\n",
    "21\n",
    "\n",
    "### 예제 입력 2\n",
    "10 500<br>\n",
    "93 181 245 214 315 36 185 138 216 295\n",
    "\n",
    "### 예제 출력 2\n",
    "497"
   ]
  },
  {
   "cell_type": "markdown",
   "id": "8eaf7118",
   "metadata": {},
   "source": [
    "## Solution 1"
   ]
  },
  {
   "cell_type": "code",
   "execution_count": 13,
   "id": "5890873e",
   "metadata": {
    "ExecuteTime": {
     "end_time": "2023-02-11T13:39:56.307873Z",
     "start_time": "2023-02-11T13:39:42.124009Z"
    }
   },
   "outputs": [
    {
     "name": "stdout",
     "output_type": "stream",
     "text": [
      "10 500\n",
      "93 181 245 214 315 36 185 138 216 295\n",
      "497\n"
     ]
    }
   ],
   "source": [
    "# 정수 N과 M을 입력받는다. N은 카드의 개수이고, M은 3장의 카드로 만들어야 하는 최대의 합이다.\n",
    "N, M = map(int, input().split())\n",
    "\n",
    "# 카드를 입력받는다.\n",
    "card = list( map(int, input().split()) )\n",
    "\n",
    "# random한 카드 3장의 조합을 모두 확인해 M을 넘지 않으면서 M에 제일 가까운 조합을 찾아낸다. 그리고 그 조합의 합을 출력한다.\n",
    "# 숫자의 합을 정의한다.\n",
    "card_sum = 0\n",
    "\n",
    "# 첫 번째 카드를 뽑는다.\n",
    "for i in range(N):\n",
    "    card_1 = card[i]\n",
    "        \n",
    "    # 두 번째 카드를 뽑는다.\n",
    "    for j in range(i + 1, N):\n",
    "        card_2 = card[j]\n",
    "            \n",
    "        # 세 번째 카드를 뽑는다.\n",
    "        for k in range(j + 1, N):\n",
    "            card_3 = card[k]\n",
    "                \n",
    "            # 카드의 합을 구한다.\n",
    "            card_sum_tmp = card_1 + card_2 + card_3\n",
    "                \n",
    "            # card_sum_tmp이 M보다 크면 continue한다.\n",
    "            if card_sum_tmp > M:\n",
    "                continue\n",
    "                \n",
    "            # card_sum_tmp가 card_sum보다 크면 card_sum에 card_sum_tmp를 대입한다.\n",
    "            if card_sum_tmp >= card_sum:\n",
    "                card_sum = card_sum_tmp\n",
    "\n",
    "# card_sum을 출력한다.\n",
    "print(card_sum)"
   ]
  }
 ],
 "metadata": {
  "kernelspec": {
   "display_name": "Python 3 (ipykernel)",
   "language": "python",
   "name": "python3"
  },
  "language_info": {
   "codemirror_mode": {
    "name": "ipython",
    "version": 3
   },
   "file_extension": ".py",
   "mimetype": "text/x-python",
   "name": "python",
   "nbconvert_exporter": "python",
   "pygments_lexer": "ipython3",
   "version": "3.9.15"
  }
 },
 "nbformat": 4,
 "nbformat_minor": 5
}

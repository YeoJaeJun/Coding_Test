{
 "cells": [
  {
   "cell_type": "markdown",
   "id": "7d2d3e9c",
   "metadata": {},
   "source": [
    "# 008. 재귀의 귀재 (BAEKJOON 25501) - RF"
   ]
  },
  {
   "cell_type": "markdown",
   "id": "37bd0085",
   "metadata": {},
   "source": [
    "- https://www.acmicpc.net/problem/25501"
   ]
  },
  {
   "cell_type": "markdown",
   "id": "95618b8d",
   "metadata": {},
   "source": [
    "### 문제\n",
    "- 정휘는 후배들이 재귀 함수를 잘 다루는 재귀의 귀재인지 알아보기 위해 재귀 함수와 관련된 문제를 출제하기로 했다.\n",
    "- 팰린드롬이란, 앞에서부터 읽었을 때와 뒤에서부터 읽었을 때가 같은 문자열을 말한다. 팰린드롬의 예시로 AAA, ABBA, ABABA 등이 있고, 팰린드롬이 아닌 문자열의 예시로 ABCA, PALINDROME 등이 있다.\n",
    "- 어떤 문자열이 팰린드롬인지 판별하는 문제는 재귀 함수를 이용해 쉽게 해결할 수 있다. 아래 코드의 isPalindrome 함수는 주어진 문자열이 팰린드롬이면 1, 팰린드롬이 아니면 0을 반환하는 함수다."
   ]
  },
  {
   "cell_type": "code",
   "execution_count": 2,
   "id": "ac26359c",
   "metadata": {
    "ExecuteTime": {
     "end_time": "2023-02-11T14:54:40.645447Z",
     "start_time": "2023-02-11T14:54:40.632637Z"
    }
   },
   "outputs": [
    {
     "name": "stdout",
     "output_type": "stream",
     "text": [
      "ABBA: 1\n",
      "ABC: 0\n"
     ]
    }
   ],
   "source": [
    "def recursion(s, l, r):\n",
    "    if l >= r: return 1\n",
    "    elif s[l] != s[r]: return 0\n",
    "    else: return recursion(s, l+1, r-1)\n",
    "\n",
    "def isPalindrome(s):\n",
    "    return recursion(s, 0, len(s)-1)\n",
    "\n",
    "print('ABBA:', isPalindrome('ABBA'))\n",
    "print('ABC:', isPalindrome('ABC'))"
   ]
  },
  {
   "cell_type": "markdown",
   "id": "229fb234",
   "metadata": {
    "ExecuteTime": {
     "end_time": "2023-02-11T14:55:07.528186Z",
     "start_time": "2023-02-11T14:55:07.512147Z"
    }
   },
   "source": [
    "- 정휘는 위에 작성된 isPalindrome 함수를 이용하여 어떤 문자열이 팰린드롬인지 여부를 판단하려고 한다.\n",
    "- 구체적으로는, 문자열 $S$를 isPalindrome 함수의 인자로 전달하여 팰린드롬 여부를 반환값으로 알아낼 것이다. 더불어 판별하는 과정에서 recursion 함수를 몇 번 호출하는지 셀 것이다.\n",
    "- 정휘를 따라 여러분도 함수의 반환값과 recursion 함수의 호출 횟수를 구해보자.\n",
    "\n",
    "### 입력\n",
    "- 첫째 줄에 테스트케이스의 개수 $T$가 주어진다. ($1 \\leq T \\leq 1\\,000$)\n",
    "- 둘째 줄부터 $T$개의 줄에 알파벳 대문자로 구성된 문자열 $S$가 주어진다. ($1 \\leq \\vert S\\vert \\leq 1\\,000$)\n",
    "\n",
    "### 출력\n",
    "- 각 테스트케이스마다, isPalindrome 함수의 반환값과 recursion 함수의 호출 횟수를 한 줄에 공백으로 구분하여 출력한다.\n",
    "\n",
    "### 예제 입력 1\n",
    "5<br>\n",
    "AAA<br>\n",
    "ABBA<br>\n",
    "ABABA<br>\n",
    "ABCA<br>\n",
    "PALINDROME\n",
    "\n",
    "### 예제 출력 1\n",
    "1 2<br>\n",
    "1 3<br>\n",
    "1 3<br>\n",
    "0 2<br>\n",
    "0 1"
   ]
  },
  {
   "cell_type": "markdown",
   "id": "23fbb0f2",
   "metadata": {},
   "source": [
    "## Solution 1"
   ]
  },
  {
   "cell_type": "code",
   "execution_count": 1,
   "id": "d3b23617",
   "metadata": {
    "ExecuteTime": {
     "end_time": "2023-02-14T09:42:34.479864Z",
     "start_time": "2023-02-14T09:42:04.132812Z"
    }
   },
   "outputs": [
    {
     "name": "stdout",
     "output_type": "stream",
     "text": [
      "5\n",
      "AAA\n",
      "1 2\n",
      "ABBA\n",
      "1 3\n",
      "ABABA\n",
      "1 3\n",
      "ABCA\n",
      "0 2\n",
      "PALINDROME\n",
      "0 1\n"
     ]
    }
   ],
   "source": [
    "# 테스트 케이스 개수 T를 입력받는다.\n",
    "T = int(input())\n",
    "\n",
    "def recursion(s, l, r):\n",
    "    global cnt\n",
    "    cnt += 1\n",
    "    \n",
    "    if l >= r: return 1\n",
    "    elif s[l] != s[r]: return 0\n",
    "    else: return recursion(s, l+1, r-1)\n",
    "\n",
    "def isPalindrome(s):\n",
    "    return recursion(s, 0, len(s)-1)\n",
    "\n",
    "for _ in range(T):\n",
    "    cnt = 0\n",
    "    print(isPalindrome(input()), cnt)"
   ]
  }
 ],
 "metadata": {
  "kernelspec": {
   "display_name": "Python 3 (ipykernel)",
   "language": "python",
   "name": "python3"
  },
  "language_info": {
   "codemirror_mode": {
    "name": "ipython",
    "version": 3
   },
   "file_extension": ".py",
   "mimetype": "text/x-python",
   "name": "python",
   "nbconvert_exporter": "python",
   "pygments_lexer": "ipython3",
   "version": "3.9.15"
  }
 },
 "nbformat": 4,
 "nbformat_minor": 5
}

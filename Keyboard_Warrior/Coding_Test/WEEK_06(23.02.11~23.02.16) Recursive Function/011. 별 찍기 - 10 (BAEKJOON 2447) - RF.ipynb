{
 "cells": [
  {
   "cell_type": "markdown",
   "id": "9e7b97ba",
   "metadata": {},
   "source": [
    "# 011.  별 찍기 - 10 (BAEKJOON 2447)"
   ]
  },
  {
   "cell_type": "markdown",
   "id": "ff6d6aa9",
   "metadata": {},
   "source": [
    "- https://www.acmicpc.net/problem/2447"
   ]
  },
  {
   "cell_type": "markdown",
   "id": "323101c1",
   "metadata": {},
   "source": [
    "### 문제\n",
    "- 재귀적인 패턴으로 별을 찍어 보자. N이 3의 거듭제곱(3, 9, 27, ...)이라고 할 때, 크기 N의 패턴은 N×N 정사각형 모양이다.\n",
    "- 크기 3의 패턴은 가운데에 공백이 있고, 가운데를 제외한 모든 칸에 별이 하나씩 있는 패턴이다."
   ]
  },
  {
   "cell_type": "code",
   "execution_count": null,
   "id": "d0f51fa3",
   "metadata": {},
   "outputs": [],
   "source": [
    "***\n",
    "* *\n",
    "***"
   ]
  },
  {
   "cell_type": "markdown",
   "id": "323d115c",
   "metadata": {},
   "source": [
    "- N이 3보다 클 경우, 크기 N의 패턴은 공백으로 채워진 가운데의 (N/3)×(N/3) 정사각형을 크기 N/3의 패턴으로 둘러싼 형태이다. 예를 들어 크기 27의 패턴은 예제 출력 1과 같다.\n",
    "\n",
    "### 입력\n",
    "- 첫째 줄에 N이 주어진다. N은 3의 거듭제곱이다. 즉 어떤 정수 k에 대해 N=3k이며, 이때 1 ≤ k < 8이다.\n",
    "\n",
    "### 출력\n",
    "- 첫째 줄부터 N번째 줄까지 별을 출력한다.\n",
    "\n",
    "### 예제 입력 1\n",
    "27\n",
    "\n",
    "### 예제 출력 1"
   ]
  },
  {
   "cell_type": "code",
   "execution_count": null,
   "id": "9e5734ff",
   "metadata": {},
   "outputs": [],
   "source": [
    "***************************\n",
    "* ** ** ** ** ** ** ** ** *\n",
    "***************************\n",
    "***   ******   ******   ***\n",
    "* *   * ** *   * ** *   * *\n",
    "***   ******   ******   ***\n",
    "***************************\n",
    "* ** ** ** ** ** ** ** ** *\n",
    "***************************\n",
    "*********         *********\n",
    "* ** ** *         * ** ** *\n",
    "*********         *********\n",
    "***   ***         ***   ***\n",
    "* *   * *         * *   * *\n",
    "***   ***         ***   ***\n",
    "*********         *********\n",
    "* ** ** *         * ** ** *\n",
    "*********         *********\n",
    "***************************\n",
    "* ** ** ** ** ** ** ** ** *\n",
    "***************************\n",
    "***   ******   ******   ***\n",
    "* *   * ** *   * ** *   * *\n",
    "***   ******   ******   ***\n",
    "***************************\n",
    "* ** ** ** ** ** ** ** ** *\n",
    "***************************"
   ]
  },
  {
   "cell_type": "markdown",
   "id": "1328675c",
   "metadata": {},
   "source": [
    "## Solution 1"
   ]
  },
  {
   "cell_type": "code",
   "execution_count": 1,
   "id": "2e02846d",
   "metadata": {
    "ExecuteTime": {
     "end_time": "2023-02-14T13:27:59.417778Z",
     "start_time": "2023-02-14T13:27:59.370402Z"
    }
   },
   "outputs": [],
   "source": [
    "# 별을 찍는 함수를 정의한다.\n",
    "def print_star(N):\n",
    "    # 최소 단위를 설정한다.\n",
    "    if N == 1:\n",
    "        return ['*']\n",
    "    \n",
    "    stars = print_star(N // 3)\n",
    "    네모 = []\n",
    "    \n",
    "    # 네모의 첫 번째 줄을 채운다.\n",
    "    for star in stars:\n",
    "        네모.append(star * 3)\n",
    "    \n",
    "    # 네모의 두 번째 줄을 채운다.\n",
    "    for star in stars:\n",
    "        네모.append(star + ' '*(N // 3) + star)\n",
    "    \n",
    "    # 네모의 세 번째 줄을 채운다.\n",
    "    for star in stars:\n",
    "        네모.append(star * 3)\n",
    "    \n",
    "    return 네모"
   ]
  },
  {
   "cell_type": "code",
   "execution_count": 2,
   "id": "2e9559e1",
   "metadata": {
    "ExecuteTime": {
     "end_time": "2023-02-14T13:28:01.593664Z",
     "start_time": "2023-02-14T13:28:00.572821Z"
    }
   },
   "outputs": [
    {
     "name": "stdout",
     "output_type": "stream",
     "text": [
      "3\n",
      "***\n",
      "* *\n",
      "***\n"
     ]
    }
   ],
   "source": [
    "# N을 입력받는다.\n",
    "N = int(input())\n",
    "\n",
    "# 결과 list를 받는다.\n",
    "result = print_star(N)\n",
    "\n",
    "# 한 줄에 하나씩 출력한다.\n",
    "for i in range(len(result)):\n",
    "    print(result[i])"
   ]
  },
  {
   "cell_type": "code",
   "execution_count": 3,
   "id": "d1b5ba1c",
   "metadata": {
    "ExecuteTime": {
     "end_time": "2023-02-14T13:28:05.209042Z",
     "start_time": "2023-02-14T13:28:03.698015Z"
    }
   },
   "outputs": [
    {
     "name": "stdout",
     "output_type": "stream",
     "text": [
      "27\n",
      "***************************\n",
      "* ** ** ** ** ** ** ** ** *\n",
      "***************************\n",
      "***   ******   ******   ***\n",
      "* *   * ** *   * ** *   * *\n",
      "***   ******   ******   ***\n",
      "***************************\n",
      "* ** ** ** ** ** ** ** ** *\n",
      "***************************\n",
      "*********         *********\n",
      "* ** ** *         * ** ** *\n",
      "*********         *********\n",
      "***   ***         ***   ***\n",
      "* *   * *         * *   * *\n",
      "***   ***         ***   ***\n",
      "*********         *********\n",
      "* ** ** *         * ** ** *\n",
      "*********         *********\n",
      "***************************\n",
      "* ** ** ** ** ** ** ** ** *\n",
      "***************************\n",
      "***   ******   ******   ***\n",
      "* *   * ** *   * ** *   * *\n",
      "***   ******   ******   ***\n",
      "***************************\n",
      "* ** ** ** ** ** ** ** ** *\n",
      "***************************\n"
     ]
    }
   ],
   "source": [
    "# N을 입력받는다.\n",
    "N = int(input())\n",
    "\n",
    "# 출력한다.\n",
    "print('\\n'.join(print_star(N)))"
   ]
  }
 ],
 "metadata": {
  "kernelspec": {
   "display_name": "Python 3 (ipykernel)",
   "language": "python",
   "name": "python3"
  },
  "language_info": {
   "codemirror_mode": {
    "name": "ipython",
    "version": 3
   },
   "file_extension": ".py",
   "mimetype": "text/x-python",
   "name": "python",
   "nbconvert_exporter": "python",
   "pygments_lexer": "ipython3",
   "version": "3.9.15"
  }
 },
 "nbformat": 4,
 "nbformat_minor": 5
}

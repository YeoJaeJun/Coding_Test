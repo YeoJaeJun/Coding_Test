{
 "cells": [
  {
   "cell_type": "markdown",
   "id": "27ce036e",
   "metadata": {},
   "source": [
    "# 007. 피보나치 수 5 (BAEKJOON 10870) - RF"
   ]
  },
  {
   "cell_type": "markdown",
   "id": "beb72e07",
   "metadata": {},
   "source": [
    "- https://www.acmicpc.net/problem/10870"
   ]
  },
  {
   "cell_type": "markdown",
   "id": "94279d61",
   "metadata": {},
   "source": [
    "### 문제\n",
    "- 피보나치 수는 0과 1로 시작한다. 0번째 피보나치 수는 0이고, 1번째 피보나치 수는 1이다. 그 다음 2번째 부터는 바로 앞 두 피보나치 수의 합이 된다.\n",
    "- 이를 식으로 써보면 Fn = Fn-1 + Fn-2 (n ≥ 2)가 된다.\n",
    "- n=17일때 까지 피보나치 수를 써보면 다음과 같다.\n",
    "- 0, 1, 1, 2, 3, 5, 8, 13, 21, 34, 55, 89, 144, 233, 377, 610, 987, 1597\n",
    "- n이 주어졌을 때, n번째 피보나치 수를 구하는 프로그램을 작성하시오.\n",
    "\n",
    "### 입력\n",
    "- 첫째 줄에 n이 주어진다. n은 20보다 작거나 같은 자연수 또는 0이다.\n",
    "\n",
    "### 출력\n",
    "- 첫째 줄에 n번째 피보나치 수를 출력한다.\n",
    "\n",
    "### 예제 입력 1\n",
    "10\n",
    "\n",
    "### 예제 출력 1\n",
    "55"
   ]
  },
  {
   "cell_type": "markdown",
   "id": "2b8e814e",
   "metadata": {},
   "source": [
    "## Solution 1"
   ]
  },
  {
   "cell_type": "code",
   "execution_count": 5,
   "id": "e2e2007c",
   "metadata": {
    "ExecuteTime": {
     "end_time": "2023-02-11T14:46:24.549296Z",
     "start_time": "2023-02-11T14:46:24.529444Z"
    }
   },
   "outputs": [],
   "source": [
    "# fibonacci 함수를 정의한다.\n",
    "def fibonacci(n):\n",
    "    if n <= 1:\n",
    "        return n\n",
    "    return fibonacci(n - 2) + fibonacci(n - 1)"
   ]
  },
  {
   "cell_type": "code",
   "execution_count": 6,
   "id": "9b5f006c",
   "metadata": {
    "ExecuteTime": {
     "end_time": "2023-02-11T14:47:06.429016Z",
     "start_time": "2023-02-11T14:47:04.666936Z"
    }
   },
   "outputs": [
    {
     "name": "stdout",
     "output_type": "stream",
     "text": [
      "10\n",
      "55\n"
     ]
    }
   ],
   "source": [
    "# n을 입력받는다.\n",
    "n = int(input())\n",
    "\n",
    "# n번째 피보나치 수를 출력한다.\n",
    "print(fibonacci(n))"
   ]
  }
 ],
 "metadata": {
  "kernelspec": {
   "display_name": "Python 3 (ipykernel)",
   "language": "python",
   "name": "python3"
  },
  "language_info": {
   "codemirror_mode": {
    "name": "ipython",
    "version": 3
   },
   "file_extension": ".py",
   "mimetype": "text/x-python",
   "name": "python",
   "nbconvert_exporter": "python",
   "pygments_lexer": "ipython3",
   "version": "3.9.15"
  }
 },
 "nbformat": 4,
 "nbformat_minor": 5
}

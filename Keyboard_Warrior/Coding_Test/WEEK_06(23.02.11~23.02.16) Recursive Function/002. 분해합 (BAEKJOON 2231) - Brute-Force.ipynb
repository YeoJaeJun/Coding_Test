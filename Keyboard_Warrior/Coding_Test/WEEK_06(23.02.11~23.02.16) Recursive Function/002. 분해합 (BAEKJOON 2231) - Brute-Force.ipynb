{
 "cells": [
  {
   "cell_type": "markdown",
   "id": "8418f441",
   "metadata": {},
   "source": [
    "# 002. 분해합 (BAEKJOON 2231) - Brute-Force"
   ]
  },
  {
   "cell_type": "markdown",
   "id": "18c2cf4a",
   "metadata": {},
   "source": [
    "- https://www.acmicpc.net/problem/2231"
   ]
  },
  {
   "cell_type": "markdown",
   "id": "b9755a04",
   "metadata": {},
   "source": [
    "### 문제\n",
    "- 어떤 자연수 N이 있을 때, 그 자연수 N의 분해합은 N과 N을 이루는 각 자리수의 합을 의미한다. 어떤 자연수 M의 분해합이 N인 경우, M을 N의 생성자라 한다. 예를 들어, 245의 분해합은 256(=245+2+4+5)이 된다. 따라서 245는 256의 생성자가 된다. 물론, 어떤 자연수의 경우에는 생성자가 없을 수도 있다. 반대로, 생성자가 여러 개인 자연수도 있을 수 있다.\n",
    "- 자연수 N이 주어졌을 때, N의 가장 작은 생성자를 구해내는 프로그램을 작성하시오.\n",
    "\n",
    "### 입력\n",
    "- 첫째 줄에 자연수 N(1 ≤ N ≤ 1,000,000)이 주어진다.\n",
    "\n",
    "### 출력\n",
    "- 첫째 줄에 답을 출력한다. 생성자가 없는 경우에는 0을 출력한다.\n",
    "\n",
    "### 예제 입력 1\n",
    "216\n",
    "\n",
    "### 예제 출력 1\n",
    "198"
   ]
  },
  {
   "cell_type": "markdown",
   "id": "600ab8a0",
   "metadata": {},
   "source": [
    "## Solution 1"
   ]
  },
  {
   "cell_type": "code",
   "execution_count": 2,
   "id": "2e898474",
   "metadata": {
    "ExecuteTime": {
     "end_time": "2023-02-11T14:16:16.904533Z",
     "start_time": "2023-02-11T14:16:12.512702Z"
    }
   },
   "outputs": [
    {
     "name": "stdout",
     "output_type": "stream",
     "text": [
      "216\n",
      "198\n"
     ]
    }
   ],
   "source": [
    "# 자연수 N을 입력받는다. N은 분해합이다.\n",
    "N = int(input())\n",
    "\n",
    "# 생성자가 될 수 있는 수 number를 생성한다.\n",
    "for number in range(1, N + 1):\n",
    "    # number의 분해합 number_sum을 구한다.\n",
    "    # number를 문자열로 바꿔 각 자리 수를 추출한 후 이를 다시 정수로 바꿔 합하는 방법으로 구한다.\n",
    "    number_sum = number\n",
    "    for i in range(len(str(number))):\n",
    "        number_sum += int(str(number)[i])\n",
    "    \n",
    "    # number_sum이 N과 같으면 break한다.\n",
    "    if number_sum == N:\n",
    "        answer = number\n",
    "        break\n",
    "\n",
    "# 생성자가 없는 경우는 위의 for in 문이 끝까지 다 돌아갔을 때이다.\n",
    "# 그래서 number == N이면 N의 생성자는 없다는 뜻이다. 이때는 0을 출력한다.\n",
    "if number == N:\n",
    "    print(0)\n",
    "else:\n",
    "    print(answer)"
   ]
  }
 ],
 "metadata": {
  "kernelspec": {
   "display_name": "Python 3 (ipykernel)",
   "language": "python",
   "name": "python3"
  },
  "language_info": {
   "codemirror_mode": {
    "name": "ipython",
    "version": 3
   },
   "file_extension": ".py",
   "mimetype": "text/x-python",
   "name": "python",
   "nbconvert_exporter": "python",
   "pygments_lexer": "ipython3",
   "version": "3.9.15"
  }
 },
 "nbformat": 4,
 "nbformat_minor": 5
}

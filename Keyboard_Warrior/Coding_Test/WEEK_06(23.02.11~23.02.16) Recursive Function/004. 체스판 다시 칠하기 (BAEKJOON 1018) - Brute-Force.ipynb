{
 "cells": [
  {
   "cell_type": "markdown",
   "id": "21844b44",
   "metadata": {},
   "source": [
    "# 004. 체스판 다시 칠하기 (BAEKJOON 1018)"
   ]
  },
  {
   "cell_type": "markdown",
   "id": "e3250b9f",
   "metadata": {},
   "source": [
    "- https://www.acmicpc.net/problem/1018"
   ]
  },
  {
   "cell_type": "markdown",
   "id": "2422f592",
   "metadata": {},
   "source": [
    "### 문제\n",
    "- 지민이는 자신의 저택에서 MN개의 단위 정사각형으로 나누어져 있는 M×N 크기의 보드를 찾았다. 어떤 정사각형은 검은색으로 칠해져 있고, 나머지는 흰색으로 칠해져 있다. 지민이는 이 보드를 잘라서 8×8 크기의 체스판으로 만들려고 한다.\n",
    "- 체스판은 검은색과 흰색이 번갈아서 칠해져 있어야 한다. 구체적으로, 각 칸이 검은색과 흰색 중 하나로 색칠되어 있고, 변을 공유하는 두 개의 사각형은 다른 색으로 칠해져 있어야 한다. 따라서 이 정의를 따르면 체스판을 색칠하는 경우는 두 가지뿐이다. 하나는 맨 왼쪽 위 칸이 흰색인 경우, 하나는 검은색인 경우이다.\n",
    "- 보드가 체스판처럼 칠해져 있다는 보장이 없어서, 지민이는 8×8 크기의 체스판으로 잘라낸 후에 몇 개의 정사각형을 다시 칠해야겠다고 생각했다. 당연히 8\\*8 크기는 아무데서나 골라도 된다. 지민이가 다시 칠해야 하는 정사각형의 최소 개수를 구하는 프로그램을 작성하시오.\n",
    "\n",
    "### 입력\n",
    "- 첫째 줄에 N과 M이 주어진다. N과 M은 8보다 크거나 같고, 50보다 작거나 같은 자연수이다. 둘째 줄부터 N개의 줄에는 보드의 각 행의 상태가 주어진다. B는 검은색이며, W는 흰색이다.\n",
    "\n",
    "### 출력\n",
    "- 첫째 줄에 지민이가 다시 칠해야 하는 정사각형 개수의 최솟값을 출력한다.\n",
    "\n",
    "### 예제 입력 1\n",
    "8 8<br>\n",
    "WBWBWBWB<br>\n",
    "BWBWBWBW<br>\n",
    "WBWBWBWB<br>\n",
    "BWBBBWBW<br>\n",
    "WBWBWBWB<br>\n",
    "BWBWBWBW<br>\n",
    "WBWBWBWB<br>\n",
    "BWBWBWBW\n",
    "\n",
    "### 예제 출력 1\n",
    "1"
   ]
  },
  {
   "cell_type": "markdown",
   "id": "3489827c",
   "metadata": {},
   "source": [
    "## Solution 1"
   ]
  },
  {
   "cell_type": "code",
   "execution_count": 1,
   "id": "eecb95df",
   "metadata": {
    "ExecuteTime": {
     "end_time": "2023-02-14T09:24:18.283908Z",
     "start_time": "2023-02-14T09:23:49.327736Z"
    }
   },
   "outputs": [
    {
     "name": "stdout",
     "output_type": "stream",
     "text": [
      "8 8\n",
      "WBWBWBWB\n",
      "BWBWBWBW\n",
      "WBWBWBWB\n",
      "BWBBBWBW\n",
      "WBWBWBWB\n",
      "BWBWBWBW\n",
      "WBWBWBWB\n",
      "BWBWBWBW\n",
      "1\n"
     ]
    }
   ],
   "source": [
    "# N과 M을 입력받는다.\n",
    "N, M = list(map(int, input().split()))\n",
    "\n",
    "# 체스 판의 정보를 입력받는다.\n",
    "board = []\n",
    "for _ in range(N):\n",
    "    board.append(input())\n",
    "\n",
    "# 색칠하는 횟수를 저장하는 list를 생성한다.\n",
    "cnt = []\n",
    "\n",
    "# 선택한 8*8 영역의 시작 (row, column)을 설정한다.\n",
    "for row in range(0, N - 7):\n",
    "    for column in range(0, M - 7):\n",
    "        # 흰색으로 색칠하는 횟수를 정의한다.\n",
    "        cnt_W = 0\n",
    "        # 검은색으로 색칠하는 횟수를 정의한다.\n",
    "        cnt_B = 0    \n",
    "        \n",
    "        # 선택한 8*8 영역에 대해서 색칠할 것이 있는지 없는지 확인한다.\n",
    "        for i in range(row, row + 8):\n",
    "            for j in range(column, column + 8):\n",
    "                # 시작점이 흰색이라면 row + column이 짝수인 위치에 흰색이 위치해야 한다. 검은색 역시 마찬가지이다.\n",
    "                # 시작점이 흰색인 8*8에 대해 row + column이 짝수인 경우\n",
    "                if (i + j) % 2 == 0:\n",
    "                    # board[i][j]이 검은색이라면\n",
    "                    if board[i][j] == 'B':\n",
    "                        # 흰색으로 색칠해야 한다. 그래서 흰색으로 색칠하는 횟수가 하나 추가된다.\n",
    "                        cnt_W += 1\n",
    "                    # board[i][j]이 흰색이라면\n",
    "                    else:\n",
    "                        # 검은색으로 색칠해야 한다. 그래서 검은색으로 색칠하는 횟수가 하나 추가된다.\n",
    "                        cnt_B += 1\n",
    "                \n",
    "                # row + column이 홀수인 경우\n",
    "                else:\n",
    "                    # board[i][j]이 검은색이라면\n",
    "                    if board[i][j] == 'B':\n",
    "                        cnt_B += 1\n",
    "                    # board[i][j]이 흰색이라면\n",
    "                    else:\n",
    "                        cnt_W += 1\n",
    "        \n",
    "        cnt.append(cnt_W)\n",
    "        cnt.append(cnt_B)\n",
    "\n",
    "print(min(cnt))"
   ]
  }
 ],
 "metadata": {
  "kernelspec": {
   "display_name": "Python 3 (ipykernel)",
   "language": "python",
   "name": "python3"
  },
  "language_info": {
   "codemirror_mode": {
    "name": "ipython",
    "version": 3
   },
   "file_extension": ".py",
   "mimetype": "text/x-python",
   "name": "python",
   "nbconvert_exporter": "python",
   "pygments_lexer": "ipython3",
   "version": "3.9.15"
  }
 },
 "nbformat": 4,
 "nbformat_minor": 5
}

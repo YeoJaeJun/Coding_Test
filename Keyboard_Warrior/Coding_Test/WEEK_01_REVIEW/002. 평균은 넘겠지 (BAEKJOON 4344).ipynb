{
 "cells": [
  {
   "cell_type": "markdown",
   "id": "48cf7573",
   "metadata": {},
   "source": [
    "# 002. 평균은 넘겠지 (BAEKJOON 4344)"
   ]
  },
  {
   "cell_type": "markdown",
   "id": "5d678fe6",
   "metadata": {},
   "source": [
    "- BAEKJOON 4344 https://www.acmicpc.net/problem/4344"
   ]
  },
  {
   "cell_type": "markdown",
   "id": "51725cc4",
   "metadata": {},
   "source": [
    "### 문제\n",
    "- 대학생 새내기들의 90%는 자신이 반에서 평균은 넘는다고 생각한다. 당신은 그들에게 슬픈 진실을 알려줘야 한다.\n",
    "\n",
    "### 입력\n",
    "- 첫째 줄에는 테스트 케이스의 개수 C가 주어진다.\n",
    "- 둘째 줄부터 각 테스트 케이스마다 학생의 수 N(1 ≤ N ≤ 1000, N은 정수)이 첫 수로 주어지고, 이어서 N명의 점수가 주어진다. 점수는 0보다 크거나 같고, 100보다 작거나 같은 정수이다.\n",
    "\n",
    "### 출력\n",
    "- 각 케이스마다 한 줄씩 평균을 넘는 학생들의 비율을 반올림하여 소수점 셋째 자리까지 출력한다."
   ]
  },
  {
   "cell_type": "markdown",
   "id": "52bd842d",
   "metadata": {},
   "source": [
    "## 방법 1."
   ]
  },
  {
   "cell_type": "code",
   "execution_count": 2,
   "id": "10d7f75c",
   "metadata": {},
   "outputs": [
    {
     "name": "stdout",
     "output_type": "stream",
     "text": [
      "5\n",
      "5 50 50 70 80 100\n",
      "40.000%\n",
      "7 100 95 90 80 70 60 50\n",
      "57.143%\n",
      "3 70 90 80\n",
      "33.333%\n",
      "3 70 90 81\n",
      "66.667%\n",
      "9 100 99 98 97 96 95 94 93 91\n",
      "55.556%\n"
     ]
    }
   ],
   "source": [
    "C = int(input())\n",
    "\n",
    "for _ in range(C):\n",
    "    score = list( map(int, input().split()) )\n",
    "    avg = sum(score[1:]) / score[0]\n",
    "    pct = len([ i for i in score if i > avg ]) / len(score[1:]) * 100\n",
    "    print(f'{round(pct, 3):.3f}%')"
   ]
  }
 ],
 "metadata": {
  "kernelspec": {
   "display_name": "Python 3 (ipykernel)",
   "language": "python",
   "name": "python3"
  },
  "language_info": {
   "codemirror_mode": {
    "name": "ipython",
    "version": 3
   },
   "file_extension": ".py",
   "mimetype": "text/x-python",
   "name": "python",
   "nbconvert_exporter": "python",
   "pygments_lexer": "ipython3",
   "version": "3.9.13"
  }
 },
 "nbformat": 4,
 "nbformat_minor": 5
}

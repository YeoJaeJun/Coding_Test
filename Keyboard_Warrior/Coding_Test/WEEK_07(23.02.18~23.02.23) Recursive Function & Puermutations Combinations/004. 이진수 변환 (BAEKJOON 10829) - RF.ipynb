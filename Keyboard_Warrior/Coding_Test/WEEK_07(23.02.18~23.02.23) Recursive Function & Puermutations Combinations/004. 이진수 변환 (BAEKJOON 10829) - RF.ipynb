{
 "cells": [
  {
   "cell_type": "markdown",
   "id": "73e37719",
   "metadata": {},
   "source": [
    "# 004. 이진수 변환 (BAEKJOON 10829) - RF"
   ]
  },
  {
   "cell_type": "markdown",
   "id": "6ea213cd",
   "metadata": {},
   "source": [
    "- https://www.acmicpc.net/problem/10829"
   ]
  },
  {
   "cell_type": "markdown",
   "id": "a16431f6",
   "metadata": {},
   "source": [
    "### 문제\n",
    "- 자연수 N이 주어진다. N을 이진수로 바꿔서 출력하는 프로그램을 작성하시오.\n",
    "\n",
    "### 입력\n",
    "- 첫째 줄에 자연수 N이 주어진다. (1 ≤ N ≤ 100,000,000,000,000)\n",
    "\n",
    "### 출력\n",
    "- N을 이진수로 바꿔서 출력한다. 이진수는 0으로 시작하면 안 된다.\n",
    "\n",
    "### 예제 입력 1\n",
    "53\n",
    "\n",
    "### 예제 출력 1\n",
    "110101"
   ]
  },
  {
   "cell_type": "markdown",
   "id": "2d820ed8",
   "metadata": {},
   "source": [
    "## Solution 1"
   ]
  },
  {
   "cell_type": "code",
   "execution_count": 1,
   "id": "3caa0fd7",
   "metadata": {
    "ExecuteTime": {
     "end_time": "2023-02-19T04:25:09.040644Z",
     "start_time": "2023-02-19T04:25:09.030638Z"
    }
   },
   "outputs": [],
   "source": [
    "# 십진수를 2로 계속해서 나누는 함수를 만든다. N을 2로 나눈 나머지는 1 또는 0이다. 1 또는 0을 합쳐서 이진수를 만든다.\n",
    "\n",
    "def binary_number(N):\n",
    "    # 종료 조건을 만든다. 재귀를 반복하다가 함수에 입력받는 숫자 N이 1이 되면 재귀를 종료시킨다.\n",
    "    # N이 1이면\n",
    "    if N == 1:\n",
    "        # 이진수는 1이다.\n",
    "        return 1\n",
    "    \n",
    "    # N을 2로 나눈 몫은 계속해서 2로 나눠나가고, N을 2로 나눈 나머지는 이진수로 만든다.\n",
    "    number = str(N % 2)\n",
    "    number = str(binary_number(N // 2)) + number\n",
    "    \n",
    "    return int(number)"
   ]
  },
  {
   "cell_type": "code",
   "execution_count": 5,
   "id": "5e5cc4ab",
   "metadata": {
    "ExecuteTime": {
     "end_time": "2023-02-19T04:31:11.842863Z",
     "start_time": "2023-02-19T04:31:10.680765Z"
    }
   },
   "outputs": [
    {
     "name": "stdout",
     "output_type": "stream",
     "text": [
      "53\n",
      "110101\n"
     ]
    }
   ],
   "source": [
    "# N을 입력받는다.\n",
    "N = int(input())\n",
    "\n",
    "# 이진수로 변환한다.\n",
    "print(binary_number(N))"
   ]
  }
 ],
 "metadata": {
  "kernelspec": {
   "display_name": "Python 3 (ipykernel)",
   "language": "python",
   "name": "python3"
  },
  "language_info": {
   "codemirror_mode": {
    "name": "ipython",
    "version": 3
   },
   "file_extension": ".py",
   "mimetype": "text/x-python",
   "name": "python",
   "nbconvert_exporter": "python",
   "pygments_lexer": "ipython3",
   "version": "3.9.16"
  }
 },
 "nbformat": 4,
 "nbformat_minor": 5
}

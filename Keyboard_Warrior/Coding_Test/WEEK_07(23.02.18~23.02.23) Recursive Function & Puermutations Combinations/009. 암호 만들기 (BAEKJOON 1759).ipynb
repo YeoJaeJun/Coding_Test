{
 "cells": [
  {
   "cell_type": "markdown",
   "id": "d4253c69",
   "metadata": {},
   "source": [
    "# 009. 암호 만들기 (BAEKJOON 1759) - 조합"
   ]
  },
  {
   "cell_type": "markdown",
   "id": "5559fc2d",
   "metadata": {},
   "source": [
    "- https://www.acmicpc.net/problem/1759"
   ]
  },
  {
   "cell_type": "markdown",
   "id": "66b01c10",
   "metadata": {},
   "source": [
    "### 문제\n",
    "- 바로 어제 최백준 조교가 방 열쇠를 주머니에 넣은 채 깜빡하고 서울로 가 버리는 황당한 상황에 직면한 조교들은, 702호에 새로운 보안 시스템을 설치하기로 하였다. 이 보안 시스템은 열쇠가 아닌 암호로 동작하게 되어 있는 시스템이다.\n",
    "- 암호는 서로 다른 L개의 알파벳 소문자들로 구성되며 최소 한 개의 모음(a, e, i, o, u)과 최소 두 개의 자음으로 구성되어 있다고 알려져 있다. 또한 정렬된 문자열을 선호하는 조교들의 성향으로 미루어 보아 암호를 이루는 알파벳이 암호에서 증가하는 순서로 배열되었을 것이라고 추측된다. 즉, abc는 가능성이 있는 암호이지만 bac는 그렇지 않다.\n",
    "- 새 보안 시스템에서 조교들이 암호로 사용했을 법한 문자의 종류는 C가지가 있다고 한다. 이 알파벳을 입수한 민식, 영식 형제는 조교들의 방에 침투하기 위해 암호를 추측해 보려고 한다. C개의 문자들이 모두 주어졌을 때, 가능성 있는 암호들을 모두 구하는 프로그램을 작성하시오.\n",
    "\n",
    "### 입력\n",
    "- 첫째 줄에 두 정수 L, C가 주어진다. (3 ≤ L ≤ C ≤ 15) 다음 줄에는 C개의 문자들이 공백으로 구분되어 주어진다. 주어지는 문자들은 알파벳 소문자이며, 중복되는 것은 없다.\n",
    "\n",
    "### 출력\n",
    "- 각 줄에 하나씩, 사전식으로 가능성 있는 암호를 모두 출력한다.\n",
    "\n",
    "### 예제 입력 1\n",
    "4 6<br>\n",
    "a t c i s w\n",
    "\n",
    "### 예제 출력 1\n",
    "acis<br>\n",
    "acit<br>\n",
    "aciw<br>\n",
    "acst<br>\n",
    "acsw<br>\n",
    "actw<br>\n",
    "aist<br>\n",
    "aisw<br>\n",
    "aitw<br>\n",
    "astw<br>\n",
    "cist<br>\n",
    "cisw<br>\n",
    "citw<br>\n",
    "istw"
   ]
  },
  {
   "cell_type": "markdown",
   "id": "f494a7fa",
   "metadata": {},
   "source": [
    "## Solution 1 - itertools 사용"
   ]
  },
  {
   "cell_type": "code",
   "execution_count": 2,
   "id": "ecff0d50",
   "metadata": {
    "ExecuteTime": {
     "end_time": "2023-02-21T09:39:51.968353Z",
     "start_time": "2023-02-21T09:39:51.958112Z"
    }
   },
   "outputs": [],
   "source": [
    "from itertools import combinations"
   ]
  },
  {
   "cell_type": "code",
   "execution_count": 4,
   "id": "f3ac4f37",
   "metadata": {
    "ExecuteTime": {
     "end_time": "2023-02-21T09:40:15.207338Z",
     "start_time": "2023-02-21T09:40:13.022073Z"
    },
    "scrolled": false
   },
   "outputs": [
    {
     "name": "stdout",
     "output_type": "stream",
     "text": [
      "4 6\n",
      "a t c i s w\n",
      "acis\n",
      "acit\n",
      "aciw\n",
      "acst\n",
      "acsw\n",
      "actw\n",
      "aist\n",
      "aisw\n",
      "aitw\n",
      "astw\n",
      "cist\n",
      "cisw\n",
      "citw\n",
      "istw\n"
     ]
    }
   ],
   "source": [
    "# L과 C를 입력받는다. L은 password의 크기이다.\n",
    "L, C = list(map(int, input().split()))\n",
    "\n",
    "# 알파벳 수열을 입력받는다.\n",
    "수열 = sorted(list(input().split()))\n",
    "\n",
    "for password in combinations(수열, L):\n",
    "    # password를 직접 확인하면서 모음과 자음의 개수를 센다.\n",
    "    모음_개수 = 0\n",
    "    자음_개수 = 0\n",
    "    \n",
    "    # password는 최소 한 개의 모음과 두 개의 자음을 포함해야 한다.\n",
    "    for letter in password:\n",
    "        # passowrd 중 알파벳 하나가 모음에 포함된다면\n",
    "        if letter in 'aeiou':\n",
    "            # 모음 개수에 1을 더한다.\n",
    "            모음_개수 += 1\n",
    "        # passowrd 중 알파벳이 모음에 포함되지 않는다면 즉 자음이라면\n",
    "        else:\n",
    "            # 자음 개수에 1을 더한다.\n",
    "            자음_개수 += 1\n",
    "    \n",
    "    # 모음 개수가 1 이상, 자음 개수가 2 이사이라면 해당 password를 출력한다.\n",
    "    if 모음_개수 >= 1 and 자음_개수 >= 2:\n",
    "        print(''.join(password))"
   ]
  },
  {
   "cell_type": "markdown",
   "id": "d5b31316",
   "metadata": {},
   "source": [
    "## Solution 2"
   ]
  },
  {
   "cell_type": "code",
   "execution_count": null,
   "id": "532406ed",
   "metadata": {},
   "outputs": [],
   "source": []
  }
 ],
 "metadata": {
  "kernelspec": {
   "display_name": "Python 3 (ipykernel)",
   "language": "python",
   "name": "python3"
  },
  "language_info": {
   "codemirror_mode": {
    "name": "ipython",
    "version": 3
   },
   "file_extension": ".py",
   "mimetype": "text/x-python",
   "name": "python",
   "nbconvert_exporter": "python",
   "pygments_lexer": "ipython3",
   "version": "3.9.16"
  }
 },
 "nbformat": 4,
 "nbformat_minor": 5
}

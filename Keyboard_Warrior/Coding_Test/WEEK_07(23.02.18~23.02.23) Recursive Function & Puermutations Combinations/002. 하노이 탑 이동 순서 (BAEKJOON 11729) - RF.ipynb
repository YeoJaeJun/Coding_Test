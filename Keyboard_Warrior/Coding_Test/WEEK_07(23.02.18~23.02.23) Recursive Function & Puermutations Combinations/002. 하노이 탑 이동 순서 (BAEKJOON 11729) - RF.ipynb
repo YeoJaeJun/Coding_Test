{
 "cells": [
  {
   "cell_type": "markdown",
   "id": "5f8b38cf",
   "metadata": {},
   "source": [
    "# 002. 하노이 탑 이동 순서 (BAEKJOON 11729) - RF"
   ]
  },
  {
   "cell_type": "markdown",
   "id": "cfd3abe9",
   "metadata": {},
   "source": [
    "- https://www.acmicpc.net/problem/11729"
   ]
  },
  {
   "cell_type": "markdown",
   "id": "0950fbb5",
   "metadata": {},
   "source": [
    "### 문제\n",
    "- 세 개의 장대가 있고 첫 번째 장대에는 반경이 서로 다른 n개의 원판이 쌓여 있다. 각 원판은 반경이 큰 순서대로 쌓여있다. 이제 수도승들이 다음 규칙에 따라 첫 번째 장대에서 세 번째 장대로 옮기려 한다.\n",
    "    1. 한 번에 한 개의 원판만을 다른 탑으로 옮길 수 있다.\n",
    "    2. 쌓아 놓은 원판은 항상 위의 것이 아래의 것보다 작아야 한다.\n",
    "- 이 작업을 수행하는데 필요한 이동 순서를 출력하는 프로그램을 작성하라. 단, 이동 횟수는 최소가 되어야 한다.\n",
    "- 아래 그림은 원판이 5개인 경우의 예시이다.\n",
    "\n",
    "### 입력\n",
    "- 첫째 줄에 첫 번째 장대에 쌓인 원판의 개수 N (1 ≤ N ≤ 20)이 주어진다.\n",
    "\n",
    "### 출력\n",
    "- 첫째 줄에 옮긴 횟수 K를 출력한다.\n",
    "- 두 번째 줄부터 수행 과정을 출력한다. 두 번째 줄부터 K개의 줄에 걸쳐 두 정수 A B를 빈칸을 사이에 두고 출력하는데, 이는 A번째 탑의 가장 위에 있는 원판을 B번째 탑의 가장 위로 옮긴다는 뜻이다.\n",
    "\n",
    "### 예제 입력 1\n",
    "3\n",
    "\n",
    "### 예제 출력 1\n",
    "7<br>\n",
    "1 3<br>\n",
    "1 2<br>\n",
    "3 2<br>\n",
    "1 3<br>\n",
    "2 1<br>\n",
    "2 3<br>\n",
    "1 3"
   ]
  },
  {
   "cell_type": "markdown",
   "id": "99a061f6",
   "metadata": {},
   "source": [
    "## Solution 1"
   ]
  },
  {
   "cell_type": "code",
   "execution_count": null,
   "id": "6685dfd0",
   "metadata": {},
   "outputs": [],
   "source": []
  },
  {
   "cell_type": "code",
   "execution_count": null,
   "id": "b1baa17f",
   "metadata": {},
   "outputs": [],
   "source": []
  },
  {
   "cell_type": "code",
   "execution_count": null,
   "id": "63d5d423",
   "metadata": {},
   "outputs": [],
   "source": []
  }
 ],
 "metadata": {
  "kernelspec": {
   "display_name": "Python 3 (ipykernel)",
   "language": "python",
   "name": "python3"
  },
  "language_info": {
   "codemirror_mode": {
    "name": "ipython",
    "version": 3
   },
   "file_extension": ".py",
   "mimetype": "text/x-python",
   "name": "python",
   "nbconvert_exporter": "python",
   "pygments_lexer": "ipython3",
   "version": "3.9.16"
  }
 },
 "nbformat": 4,
 "nbformat_minor": 5
}

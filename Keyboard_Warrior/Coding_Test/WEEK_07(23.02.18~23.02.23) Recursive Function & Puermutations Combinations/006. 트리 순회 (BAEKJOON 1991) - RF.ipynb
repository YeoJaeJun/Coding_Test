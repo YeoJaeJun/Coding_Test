{
 "cells": [
  {
   "cell_type": "markdown",
   "id": "9b3bcf09",
   "metadata": {},
   "source": [
    "# 006. 트리 순회 (BAEKJOON 1991)"
   ]
  },
  {
   "cell_type": "markdown",
   "id": "a8589ed3",
   "metadata": {},
   "source": [
    "- https://www.acmicpc.net/problem/1991"
   ]
  },
  {
   "cell_type": "markdown",
   "id": "7465297c",
   "metadata": {},
   "source": [
    "### 문제\n",
    "- 이진 트리를 입력받아 전위 순회(preorder traversal), 중위 순회(inorder traversal), 후위 순회(postorder traversal)한 결과를 출력하는 프로그램을 작성하시오.\n",
    "- 예를 들어 위와 같은 이진 트리가 입력되면,\n",
    "    - 전위 순회한 결과 : ABDCEFG // (루트) (왼쪽 자식) (오른쪽 자식)\n",
    "    - 중위 순회한 결과 : DBAECFG // (왼쪽 자식) (루트) (오른쪽 자식)\n",
    "    - 후위 순회한 결과 : DBEGFCA // (왼쪽 자식) (오른쪽 자식) (루트)\n",
    "- 가 된다.\n",
    "\n",
    "### 입력\n",
    "- 첫째 줄에는 이진 트리의 노드의 개수 N(1 ≤ N ≤ 26)이 주어진다. 둘째 줄부터 N개의 줄에 걸쳐 각 노드와 그의 왼쪽 자식 노드, 오른쪽 자식 노드가 주어진다. 노드의 이름은 A부터 차례대로 알파벳 대문자로 매겨지며, 항상 A가 루트 노드가 된다. 자식 노드가 없는 경우에는 .으로 표현한다.\n",
    "\n",
    "### 출력\n",
    "- 첫째 줄에 전위 순회, 둘째 줄에 중위 순회, 셋째 줄에 후위 순회한 결과를 출력한다. 각 줄에 N개의 알파벳을 공백 없이 출력하면 된다.\n",
    "\n",
    "### 예제 입력 1\n",
    "7<br>\n",
    "A B C<br>\n",
    "B D .<br>\n",
    "C E F<br>\n",
    "E . .<br>\n",
    "F . G<br>\n",
    "D . .<br>\n",
    "G . .\n",
    "\n",
    "### 예제 출력 1\n",
    "ABDCEFG<br>\n",
    "DBAECFG<br>\n",
    "DBEGFCA"
   ]
  },
  {
   "cell_type": "markdown",
   "id": "d9d86e8a",
   "metadata": {},
   "source": [
    "## Solution 1"
   ]
  },
  {
   "cell_type": "code",
   "execution_count": 1,
   "id": "904dc81d",
   "metadata": {
    "ExecuteTime": {
     "end_time": "2023-02-21T09:21:51.151818Z",
     "start_time": "2023-02-21T09:21:51.130074Z"
    }
   },
   "outputs": [],
   "source": [
    "# 전위순회를 구현한다.\n",
    "def 전위순회(root):\n",
    "    if root != '.':\n",
    "        # root\n",
    "        print(root, end = '')\n",
    "        # left\n",
    "        전위순회(tree[root][0])\n",
    "        # right\n",
    "        전위순회(tree[root][1])\n",
    "\n",
    "def 중위순회(root):\n",
    "    if root != '.':\n",
    "        # left\n",
    "        중위순회(tree[root][0])\n",
    "        # root\n",
    "        print(root, end = '')\n",
    "        # right\n",
    "        중위순회(tree[root][1])\n",
    "        \n",
    "def 후위순회(root):\n",
    "    if root != '.':\n",
    "        # left\n",
    "        후위순회(tree[root][0])\n",
    "        # right\n",
    "        후위순회(tree[root][1])\n",
    "        # root\n",
    "        print(root, end = '')"
   ]
  },
  {
   "cell_type": "code",
   "execution_count": 4,
   "id": "7fb87394",
   "metadata": {
    "ExecuteTime": {
     "end_time": "2023-02-21T09:25:12.769658Z",
     "start_time": "2023-02-21T09:24:35.873328Z"
    }
   },
   "outputs": [
    {
     "name": "stdout",
     "output_type": "stream",
     "text": [
      "7\n",
      "A B C\n",
      "B D .\n",
      "C E F\n",
      "E . .\n",
      "F . G\n",
      "D . .\n",
      "G . .\n",
      "ABDCEFG\n",
      "DBAECFG\n",
      "DBEGFCA"
     ]
    }
   ],
   "source": [
    "# 노드의 개수를 입력받는다.\n",
    "N = int(input())\n",
    "\n",
    "# tree 정보를 담을 dictionary를 만든다.\n",
    "tree = {}\n",
    "\n",
    "# N번 동안 tree를 입력받는다.\n",
    "for _ in range(N):\n",
    "    root, left, right = list(input().split())\n",
    "    tree[root] = [left, right]\n",
    "\n",
    "전위순회('A')\n",
    "print()\n",
    "중위순회('A')\n",
    "print()\n",
    "후위순회('A')"
   ]
  }
 ],
 "metadata": {
  "kernelspec": {
   "display_name": "Python 3 (ipykernel)",
   "language": "python",
   "name": "python3"
  },
  "language_info": {
   "codemirror_mode": {
    "name": "ipython",
    "version": 3
   },
   "file_extension": ".py",
   "mimetype": "text/x-python",
   "name": "python",
   "nbconvert_exporter": "python",
   "pygments_lexer": "ipython3",
   "version": "3.9.16"
  }
 },
 "nbformat": 4,
 "nbformat_minor": 5
}

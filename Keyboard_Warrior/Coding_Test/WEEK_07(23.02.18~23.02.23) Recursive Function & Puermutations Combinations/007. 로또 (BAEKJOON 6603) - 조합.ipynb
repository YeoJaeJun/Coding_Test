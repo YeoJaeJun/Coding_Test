{
 "cells": [
  {
   "cell_type": "markdown",
   "id": "2a4058dd",
   "metadata": {},
   "source": [
    "# 007. 로또 (BAEKJOON 6603) - combinations"
   ]
  },
  {
   "cell_type": "markdown",
   "id": "e94c476b",
   "metadata": {},
   "source": [
    "- https://www.acmicpc.net/problem/6603"
   ]
  },
  {
   "cell_type": "markdown",
   "id": "a31a4bdc",
   "metadata": {},
   "source": [
    "### 문제\n",
    "- 독일 로또는 {1, 2, ..., 49}에서 수 6개를 고른다.\n",
    "- 로또 번호를 선택하는데 사용되는 가장 유명한 전략은 49가지 수 중 k(k>6)개의 수를 골라 집합 S를 만든 다음 그 수만 가지고 번호를 선택하는 것이다.\n",
    "- 예를 들어, k=8, S={1,2,3,5,8,13,21,34}인 경우 이 집합 S에서 수를 고를 수 있는 경우의 수는 총 28가지이다. ([1,2,3,5,8,13], [1,2,3,5,8,21], [1,2,3,5,8,34], [1,2,3,5,13,21], ..., [3,5,8,13,21,34])\n",
    "- 집합 S와 k가 주어졌을 때, 수를 고르는 모든 방법을 구하는 프로그램을 작성하시오.\n",
    "\n",
    "### 입력\n",
    "- 입력은 여러 개의 테스트 케이스로 이루어져 있다. 각 테스트 케이스는 한 줄로 이루어져 있다. 첫 번째 수는 k (6 < k < 13)이고, 다음 k개 수는 집합 S에 포함되는 수이다. S의 원소는 오름차순으로 주어진다.\n",
    "- 입력의 마지막 줄에는 0이 하나 주어진다.\n",
    "\n",
    "### 출력\n",
    "- 각 테스트 케이스마다 수를 고르는 모든 방법을 출력한다. 이때, 사전 순으로 출력한다.\n",
    "- 각 테스트 케이스 사이에는 빈 줄을 하나 출력한다.\n",
    "\n",
    "### 예제 입력 1\n",
    "7 1 2 3 4 5 6 7<br>\n",
    "8 1 2 3 5 8 13 21 34<br>\n",
    "0\n",
    "\n",
    "### 예제 출력 1\n",
    "1 2 3 4 5 6<br>\n",
    "1 2 3 4 5 7<br>\n",
    "1 2 3 4 6 7<br>\n",
    "1 2 3 5 6 7<br>\n",
    "1 2 4 5 6 7<br>\n",
    "1 3 4 5 6 7<br>\n",
    "2 3 4 5 6 7<br>\n",
    "<br>\n",
    "1 2 3 5 8 13<br>\n",
    "1 2 3 5 8 21<br>\n",
    "1 2 3 5 8 34<br>\n",
    "1 2 3 5 13 21<br>\n",
    "1 2 3 5 13 34<br>\n",
    "1 2 3 5 21 34<br>\n",
    "1 2 3 8 13 21<br>\n",
    "1 2 3 8 13 34<br>\n",
    "1 2 3 8 21 34<br>\n",
    "1 2 3 13 21 34<br>\n",
    "1 2 5 8 13 21<br>\n",
    "1 2 5 8 13 34<br>\n",
    "1 2 5 8 21 34<br>\n",
    "1 2 5 13 21 34<br>\n",
    "1 2 8 13 21 34<br>\n",
    "1 3 5 8 13 21<br>\n",
    "1 3 5 8 13 34<br>\n",
    "1 3 5 8 21 34<br>\n",
    "1 3 5 13 21 34<br>\n",
    "1 3 8 13 21 34<br>\n",
    "1 5 8 13 21 34<br>\n",
    "2 3 5 8 13 21<br>\n",
    "2 3 5 8 13 34<br>\n",
    "2 3 5 8 21 34<br>\n",
    "2 3 5 13 21 34<br>\n",
    "2 3 8 13 21 34<br>\n",
    "2 5 8 13 21 34<br>\n",
    "3 5 8 13 21 34"
   ]
  },
  {
   "cell_type": "markdown",
   "id": "cf4ffc45",
   "metadata": {},
   "source": [
    "## Solution 1 - itertools 사용"
   ]
  },
  {
   "cell_type": "code",
   "execution_count": 4,
   "id": "c5ee7290",
   "metadata": {
    "ExecuteTime": {
     "end_time": "2023-02-19T05:02:28.140120Z",
     "start_time": "2023-02-19T05:02:28.129328Z"
    }
   },
   "outputs": [],
   "source": [
    "from itertools import combinations"
   ]
  },
  {
   "cell_type": "code",
   "execution_count": 7,
   "id": "f9479af2",
   "metadata": {
    "ExecuteTime": {
     "end_time": "2023-02-19T05:03:59.335192Z",
     "start_time": "2023-02-19T05:03:48.354301Z"
    }
   },
   "outputs": [
    {
     "name": "stdout",
     "output_type": "stream",
     "text": [
      "7 1 2 3 4 5 6 7\n",
      "1 2 3 4 5 6\n",
      "1 2 3 4 5 7\n",
      "1 2 3 4 6 7\n",
      "1 2 3 5 6 7\n",
      "1 2 4 5 6 7\n",
      "1 3 4 5 6 7\n",
      "2 3 4 5 6 7\n",
      "\n",
      "8 1 2 3 5 8 13 21 34\n",
      "1 2 3 5 8 13\n",
      "1 2 3 5 8 21\n",
      "1 2 3 5 8 34\n",
      "1 2 3 5 13 21\n",
      "1 2 3 5 13 34\n",
      "1 2 3 5 21 34\n",
      "1 2 3 8 13 21\n",
      "1 2 3 8 13 34\n",
      "1 2 3 8 21 34\n",
      "1 2 3 13 21 34\n",
      "1 2 5 8 13 21\n",
      "1 2 5 8 13 34\n",
      "1 2 5 8 21 34\n",
      "1 2 5 13 21 34\n",
      "1 2 8 13 21 34\n",
      "1 3 5 8 13 21\n",
      "1 3 5 8 13 34\n",
      "1 3 5 8 21 34\n",
      "1 3 5 13 21 34\n",
      "1 3 8 13 21 34\n",
      "1 5 8 13 21 34\n",
      "2 3 5 8 13 21\n",
      "2 3 5 8 13 34\n",
      "2 3 5 8 21 34\n",
      "2 3 5 13 21 34\n",
      "2 3 8 13 21 34\n",
      "2 5 8 13 21 34\n",
      "3 5 8 13 21 34\n",
      "\n",
      "0\n",
      "\n"
     ]
    }
   ],
   "source": [
    "# 종료 조건인 0을 입력받을 때까지 계속해서 입력문을 입력받는다.\n",
    "while True:\n",
    "    입력문 = list(input().split())\n",
    "    for lotto_number in combinations(입력문[1:], 6):\n",
    "        print(' '.join(lotto_number))\n",
    "    print()\n",
    "    \n",
    "    if 입력문 == ['0']:\n",
    "        break"
   ]
  },
  {
   "cell_type": "markdown",
   "id": "0850ec05",
   "metadata": {},
   "source": [
    "## Solution 2 - 직접 구현"
   ]
  },
  {
   "cell_type": "code",
   "execution_count": 8,
   "id": "69eac08a",
   "metadata": {
    "ExecuteTime": {
     "end_time": "2023-02-19T05:05:21.162036Z",
     "start_time": "2023-02-19T05:05:21.153351Z"
    }
   },
   "outputs": [],
   "source": [
    "def my_combinations(array, r):\n",
    "    for i in range(len(array)):\n",
    "        if r == 1: # 종료 조건\n",
    "            yield [array[i]]\n",
    "        else:\n",
    "            for next in my_combinations(array[i+1:], r-1):\n",
    "                yield [array[i]] + next"
   ]
  },
  {
   "cell_type": "code",
   "execution_count": 9,
   "id": "f7fedc77",
   "metadata": {
    "ExecuteTime": {
     "end_time": "2023-02-19T05:05:58.769644Z",
     "start_time": "2023-02-19T05:05:40.270435Z"
    }
   },
   "outputs": [
    {
     "name": "stdout",
     "output_type": "stream",
     "text": [
      "7 1 2 3 4 5 6 7\n",
      "1 2 3 4 5 6\n",
      "1 2 3 4 5 7\n",
      "1 2 3 4 6 7\n",
      "1 2 3 5 6 7\n",
      "1 2 4 5 6 7\n",
      "1 3 4 5 6 7\n",
      "2 3 4 5 6 7\n",
      "\n",
      "8 1 2 3 5 8 13 21 34\n",
      "1 2 3 5 8 13\n",
      "1 2 3 5 8 21\n",
      "1 2 3 5 8 34\n",
      "1 2 3 5 13 21\n",
      "1 2 3 5 13 34\n",
      "1 2 3 5 21 34\n",
      "1 2 3 8 13 21\n",
      "1 2 3 8 13 34\n",
      "1 2 3 8 21 34\n",
      "1 2 3 13 21 34\n",
      "1 2 5 8 13 21\n",
      "1 2 5 8 13 34\n",
      "1 2 5 8 21 34\n",
      "1 2 5 13 21 34\n",
      "1 2 8 13 21 34\n",
      "1 3 5 8 13 21\n",
      "1 3 5 8 13 34\n",
      "1 3 5 8 21 34\n",
      "1 3 5 13 21 34\n",
      "1 3 8 13 21 34\n",
      "1 5 8 13 21 34\n",
      "2 3 5 8 13 21\n",
      "2 3 5 8 13 34\n",
      "2 3 5 8 21 34\n",
      "2 3 5 13 21 34\n",
      "2 3 8 13 21 34\n",
      "2 5 8 13 21 34\n",
      "3 5 8 13 21 34\n",
      "\n",
      "0\n",
      "\n"
     ]
    }
   ],
   "source": [
    "# 종료 조건인 0을 입력받을 때까지 계속해서 입력문을 입력받는다.\n",
    "while True:\n",
    "    입력문 = list(input().split())\n",
    "    for lotto_number in my_combinations(입력문[1:], 6):\n",
    "        print(' '.join(lotto_number))\n",
    "    print()\n",
    "    \n",
    "    if 입력문 == ['0']:\n",
    "        break"
   ]
  }
 ],
 "metadata": {
  "kernelspec": {
   "display_name": "Python 3 (ipykernel)",
   "language": "python",
   "name": "python3"
  },
  "language_info": {
   "codemirror_mode": {
    "name": "ipython",
    "version": 3
   },
   "file_extension": ".py",
   "mimetype": "text/x-python",
   "name": "python",
   "nbconvert_exporter": "python",
   "pygments_lexer": "ipython3",
   "version": "3.9.16"
  }
 },
 "nbformat": 4,
 "nbformat_minor": 5
}

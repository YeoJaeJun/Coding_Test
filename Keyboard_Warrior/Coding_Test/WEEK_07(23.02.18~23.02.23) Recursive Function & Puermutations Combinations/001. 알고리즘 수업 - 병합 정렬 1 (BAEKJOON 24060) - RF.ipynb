{
 "cells": [
  {
   "cell_type": "markdown",
   "id": "3783e454",
   "metadata": {},
   "source": [
    "# 001. 알고리즘 수업 - 병합 정렬 1 (BAEKJOON 24060)"
   ]
  },
  {
   "cell_type": "markdown",
   "id": "265d3b14",
   "metadata": {},
   "source": [
    "- https://www.acmicpc.net/problem/24060"
   ]
  },
  {
   "cell_type": "markdown",
   "id": "da781a5a",
   "metadata": {},
   "source": [
    "### 문제\n",
    "- 오늘도 서준이는 병합 정렬 수업 조교를 하고 있다. 아빠가 수업한 내용을 학생들이 잘 이해했는지 문제를 통해서 확인해보자.\n",
    "- N개의 서로 다른 양의 정수가 저장된 배열 A가 있다. 병합 정렬로 배열 A를 오름차순 정렬할 경우 배열 A에 K 번째 저장되는 수를 구해서 우리 서준이를 도와주자.\n",
    "- 크기가 N인 배열에 대한 병합 정렬 의사 코드는 다음과 같다."
   ]
  },
  {
   "cell_type": "code",
   "execution_count": null,
   "id": "bcfc03ff",
   "metadata": {},
   "outputs": [],
   "source": [
    "merge_sort(A[p..r]) { # A[p..r]을 오름차순 정렬한다.\n",
    "    if (p < r) then {\n",
    "        q <- ⌊(p + r) / 2⌋;       # q는 p, r의 중간 지점\n",
    "        merge_sort(A, p, q);      # 전반부 정렬\n",
    "        merge_sort(A, q + 1, r);  # 후반부 정렬\n",
    "        merge(A, p, q, r);        # 병합\n",
    "    }\n",
    "}\n",
    "\n",
    "# A[p..q]와 A[q+1..r]을 병합하여 A[p..r]을 오름차순 정렬된 상태로 만든다.\n",
    "# A[p..q]와 A[q+1..r]은 이미 오름차순으로 정렬되어 있다.\n",
    "merge(A[], p, q, r) {\n",
    "    i <- p; j <- q + 1; t <- 1;\n",
    "    while (i ≤ q and j ≤ r) {\n",
    "        if (A[i] ≤ A[j])\n",
    "        then tmp[t++] <- A[i++]; # tmp[t] <- A[i]; t++; i++;\n",
    "        else tmp[t++] <- A[j++]; # tmp[t] <- A[j]; t++; j++;\n",
    "    }\n",
    "    while (i ≤ q)  # 왼쪽 배열 부분이 남은 경우\n",
    "        tmp[t++] <- A[i++];\n",
    "    while (j ≤ r)  # 오른쪽 배열 부분이 남은 경우\n",
    "        tmp[t++] <- A[j++];\n",
    "    i <- p; t <- 1;\n",
    "    while (i ≤ r)  # 결과를 A[p..r]에 저장\n",
    "        A[i++] <- tmp[t++]; \n",
    "}"
   ]
  },
  {
   "cell_type": "code",
   "execution_count": null,
   "id": "fa8315c3",
   "metadata": {},
   "outputs": [],
   "source": [
    "def merge_"
   ]
  },
  {
   "cell_type": "markdown",
   "id": "6d2ff013",
   "metadata": {},
   "source": [
    "### 입력\n",
    "- 첫째 줄에 배열 A의 크기 N(5 ≤ N ≤ 500,000), 저장 횟수 K(1 ≤ K ≤ 10^8)가 주어진다.\n",
    "- 다음 줄에 서로 다른 배열 A의 원소 A1, A2, ..., AN이 주어진다. (1 ≤ Ai ≤ 10^9)\n",
    "\n",
    "### 출력\n",
    "- 배열 A에 K 번째 저장 되는 수를 출력한다. 저장 횟수가 K 보다 작으면 -1을 출력한다.\n",
    "\n",
    "### 예제 입력 1\n",
    "5 7<br>\n",
    "4 5 1 3 2\n",
    "\n",
    "### 예제 출력 1\n",
    "3\n",
    "4 5 1 3 2 -> 4 5 1 3 2 -> 4 5 1 3 2 -> 1 5 1 3 2 -> 1 4 1 3 2 -> 1 4 5 3 2 -> 1 4 5 2 2 -> 1 4 5 2 3 -> 1 4 5 2 3 -> 1 2 5 2 3 -> 1 2 3 2 3 -> 1 2 3 4 3 -> 1 2 3 4 5. 총 12회 저장이 발생하고 일곱 번째 저장되는 수는 3이다.\n",
    "\n",
    "### 예제 입력 2\n",
    "5 13<br>\n",
    "4 5 1 3 2\n",
    "\n",
    "### 예제 출력 2\n",
    "-1\n",
    "저장 횟수 12가 K 보다 작으므로 -1을 출력한다."
   ]
  },
  {
   "cell_type": "markdown",
   "id": "fcf68eec",
   "metadata": {},
   "source": [
    "## Solution 1"
   ]
  },
  {
   "cell_type": "code",
   "execution_count": null,
   "id": "a99d513f",
   "metadata": {},
   "outputs": [],
   "source": []
  },
  {
   "cell_type": "code",
   "execution_count": null,
   "id": "d78eff91",
   "metadata": {},
   "outputs": [],
   "source": []
  },
  {
   "cell_type": "code",
   "execution_count": null,
   "id": "c628993a",
   "metadata": {},
   "outputs": [],
   "source": []
  },
  {
   "cell_type": "code",
   "execution_count": null,
   "id": "2646b573",
   "metadata": {},
   "outputs": [],
   "source": []
  }
 ],
 "metadata": {
  "kernelspec": {
   "display_name": "Python 3 (ipykernel)",
   "language": "python",
   "name": "python3"
  },
  "language_info": {
   "codemirror_mode": {
    "name": "ipython",
    "version": 3
   },
   "file_extension": ".py",
   "mimetype": "text/x-python",
   "name": "python",
   "nbconvert_exporter": "python",
   "pygments_lexer": "ipython3",
   "version": "3.9.16"
  }
 },
 "nbformat": 4,
 "nbformat_minor": 5
}

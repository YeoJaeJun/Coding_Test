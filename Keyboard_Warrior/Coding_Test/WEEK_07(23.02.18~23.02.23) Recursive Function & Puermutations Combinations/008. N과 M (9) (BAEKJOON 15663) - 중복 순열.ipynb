{
 "cells": [
  {
   "cell_type": "markdown",
   "id": "2d12961a",
   "metadata": {},
   "source": [
    "# 008. N과 M (9) (BAEKJOON 15663)"
   ]
  },
  {
   "cell_type": "markdown",
   "id": "0450f9ad",
   "metadata": {},
   "source": [
    "- https://www.acmicpc.net/problem/15663"
   ]
  },
  {
   "cell_type": "markdown",
   "id": "252d8e6b",
   "metadata": {},
   "source": [
    "### 문제\n",
    "- N개의 자연수와 자연수 M이 주어졌을 때, 아래 조건을 만족하는 길이가 M인 수열을 모두 구하는 프로그램을 작성하시오.\n",
    "    - N개의 자연수 중에서 M개를 고른 수열\n",
    "\n",
    "### 입력\n",
    "- 첫째 줄에 N과 M이 주어진다. (1 ≤ M ≤ N ≤ 8)\n",
    "- 둘째 줄에 N개의 수가 주어진다. 입력으로 주어지는 수는 10,000보다 작거나 같은 자연수이다.\n",
    "\n",
    "### 출력\n",
    "- 한 줄에 하나씩 문제의 조건을 만족하는 수열을 출력한다. 중복되는 수열을 여러 번 출력하면 안되며, 각 수열은 공백으로 구분해서 출력해야 한다.\n",
    "- 수열은 사전 순으로 증가하는 순서로 출력해야 한다.\n",
    "\n",
    "### 예제 입력 1\n",
    "3 1<br>\n",
    "4 4 2\n",
    "\n",
    "### 예제 출력 1\n",
    "2<br>\n",
    "4\n",
    "\n",
    "### 예제 입력 2\n",
    "4 2<br>\n",
    "9 7 9 1\n",
    "\n",
    "### 예제 출력 2\n",
    "1 7<br>\n",
    "1 9<br>\n",
    "7 1<br>\n",
    "7 9<br>\n",
    "9 1<br>\n",
    "9 7<br>\n",
    "9 9\n",
    "\n",
    "### 예제 입력 3\n",
    "4 4<br>\n",
    "1 1 1 1\n",
    "\n",
    "### 예제 출력 3\n",
    "1 1 1 1"
   ]
  },
  {
   "cell_type": "markdown",
   "id": "7af45ad8",
   "metadata": {},
   "source": [
    "## Solution 1"
   ]
  },
  {
   "cell_type": "code",
   "execution_count": 2,
   "id": "fcb913fc",
   "metadata": {
    "ExecuteTime": {
     "end_time": "2023-02-21T09:58:39.759235Z",
     "start_time": "2023-02-21T09:58:35.854706Z"
    }
   },
   "outputs": [
    {
     "name": "stdout",
     "output_type": "stream",
     "text": [
      "3 1\n",
      "4 4 2\n",
      "2 2\n",
      "2 4\n",
      "2 4\n"
     ]
    },
    {
     "ename": "IndexError",
     "evalue": "list index out of range",
     "output_type": "error",
     "traceback": [
      "\u001b[1;31m---------------------------------------------------------------------------\u001b[0m",
      "\u001b[1;31mIndexError\u001b[0m                                Traceback (most recent call last)",
      "Cell \u001b[1;32mIn[2], line 10\u001b[0m\n\u001b[0;32m      8\u001b[0m 수열 \u001b[38;5;241m=\u001b[39m \u001b[38;5;28mstr\u001b[39m()\n\u001b[0;32m      9\u001b[0m \u001b[38;5;28;01mfor\u001b[39;00m j \u001b[38;5;129;01min\u001b[39;00m \u001b[38;5;28mrange\u001b[39m(i, \u001b[38;5;28mlen\u001b[39m(numbers) \u001b[38;5;241m+\u001b[39m \u001b[38;5;241m1\u001b[39m):\n\u001b[1;32m---> 10\u001b[0m     수열 \u001b[38;5;241m=\u001b[39m \u001b[38;5;28mstr\u001b[39m(numbers[i]) \u001b[38;5;241m+\u001b[39m \u001b[38;5;28mstr\u001b[39m(\u001b[43mnumbers\u001b[49m\u001b[43m[\u001b[49m\u001b[43mj\u001b[49m\u001b[43m]\u001b[49m)\n\u001b[0;32m     11\u001b[0m     \u001b[38;5;28mprint\u001b[39m(\u001b[38;5;124m'\u001b[39m\u001b[38;5;124m \u001b[39m\u001b[38;5;124m'\u001b[39m\u001b[38;5;241m.\u001b[39mjoin(수열))\n",
      "\u001b[1;31mIndexError\u001b[0m: list index out of range"
     ]
    }
   ],
   "source": [
    "# N과 M을 입력받는다. N: 전체 수의 개수, M: 수열의 숫자 개수\n",
    "N, M = map(int, input().split())\n",
    "\n",
    "# 숫자를 입력받는다.\n",
    "numbers = sorted(list(map(int, input().split())))\n",
    "\n",
    "for i in range(len(numbers)):\n",
    "    수열 = str()\n",
    "    for j in range(i, len(numbers) + 1):\n",
    "        수열 = str(numbers[i]) + str(numbers[j])\n",
    "        print(' '.join(수열))"
   ]
  },
  {
   "cell_type": "code",
   "execution_count": null,
   "id": "ee6f58f9",
   "metadata": {},
   "outputs": [],
   "source": []
  },
  {
   "cell_type": "code",
   "execution_count": null,
   "id": "0b624632",
   "metadata": {},
   "outputs": [],
   "source": []
  }
 ],
 "metadata": {
  "kernelspec": {
   "display_name": "Python 3 (ipykernel)",
   "language": "python",
   "name": "python3"
  },
  "language_info": {
   "codemirror_mode": {
    "name": "ipython",
    "version": 3
   },
   "file_extension": ".py",
   "mimetype": "text/x-python",
   "name": "python",
   "nbconvert_exporter": "python",
   "pygments_lexer": "ipython3",
   "version": "3.9.16"
  }
 },
 "nbformat": 4,
 "nbformat_minor": 5
}

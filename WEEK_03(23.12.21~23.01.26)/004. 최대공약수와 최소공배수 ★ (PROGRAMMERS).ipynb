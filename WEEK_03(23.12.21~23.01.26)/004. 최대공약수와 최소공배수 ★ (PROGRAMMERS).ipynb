{
 "cells": [
  {
   "cell_type": "markdown",
   "id": "bb4ffb66",
   "metadata": {},
   "source": [
    "# 004. 최대공약수와 최소공배수 (PROGRAMMERS) ★"
   ]
  },
  {
   "cell_type": "markdown",
   "id": "ffd7a0cb",
   "metadata": {},
   "source": [
    "- https://school.programmers.co.kr/learn/courses/30/lessons/12940"
   ]
  },
  {
   "cell_type": "markdown",
   "id": "ed509f4f",
   "metadata": {},
   "source": [
    "### 문제 설명\n",
    "- 두 수를 입력받아 두 수의 최대공약수와 최소공배수를 반환하는 함수, solution을 완성해 보세요. 배열의 맨 앞에 최대공약수, 그다음 최소공배수를 넣어 반환하면 됩니다. 예를 들어 두 수 3, 12의 최대공약수는 3, 최소공배수는 12이므로 solution(3, 12)는 [3, 12]를 반환해야 합니다.\n",
    "\n",
    "### 제한 사항\n",
    "- 두 수는 1이상 1000000이하의 자연수입니다.\n",
    "\n",
    "### 입출력 예\n",
    "|n|m|return|\n",
    "|-|-|-|\n",
    "|3|12|[3, 12]|\n",
    "|2|5|[1, 10]|"
   ]
  },
  {
   "cell_type": "markdown",
   "id": "caaca5f9",
   "metadata": {},
   "source": [
    "## Solution 1 - 실패"
   ]
  },
  {
   "cell_type": "code",
   "execution_count": 2,
   "id": "c587ae73",
   "metadata": {},
   "outputs": [],
   "source": [
    "def solution(n, m):\n",
    "    n_divisior = []\n",
    "    m_divisior = []\n",
    "    for i in range(1, n + 1):\n",
    "        if n % i == 0:\n",
    "            n_divisior.append(i)\n",
    "    for i in range(1, m + 1):\n",
    "        if m % i == 0:\n",
    "            m_divisior.append(i)\n",
    "    "
   ]
  },
  {
   "cell_type": "code",
   "execution_count": 3,
   "id": "d3a28b22",
   "metadata": {},
   "outputs": [
    {
     "data": {
      "text/plain": [
       "[3, 12]"
      ]
     },
     "execution_count": 3,
     "metadata": {},
     "output_type": "execute_result"
    }
   ],
   "source": [
    "solution(3, 12)"
   ]
  },
  {
   "cell_type": "code",
   "execution_count": 4,
   "id": "27aa0efa",
   "metadata": {},
   "outputs": [
    {
     "data": {
      "text/plain": [
       "[1, 10]"
      ]
     },
     "execution_count": 4,
     "metadata": {},
     "output_type": "execute_result"
    }
   ],
   "source": [
    "solution(2, 5)"
   ]
  },
  {
   "cell_type": "code",
   "execution_count": 5,
   "id": "752e2b5e",
   "metadata": {},
   "outputs": [
    {
     "data": {
      "text/plain": [
       "[1, 96]"
      ]
     },
     "execution_count": 5,
     "metadata": {},
     "output_type": "execute_result"
    }
   ],
   "source": [
    "solution(8, 12)"
   ]
  },
  {
   "cell_type": "markdown",
   "id": "3b20b471",
   "metadata": {},
   "source": [
    "## Solution 2 - 유클리드 호제법"
   ]
  },
  {
   "cell_type": "code",
   "execution_count": 11,
   "id": "718ba69c",
   "metadata": {},
   "outputs": [],
   "source": [
    "def solution(n, m):\n",
    "    n_gcd, m_gcd = n, m\n",
    "    while m_gcd > 0:\n",
    "        n_gcd, m_gcd = m_gcd, n_gcd % m_gcd\n",
    "    gcd = n_gcd\n",
    "    lcm = int(n * m / gcd)\n",
    "    return [gcd, lcm]"
   ]
  },
  {
   "cell_type": "code",
   "execution_count": 12,
   "id": "445ed85d",
   "metadata": {},
   "outputs": [
    {
     "data": {
      "text/plain": [
       "[3, 12]"
      ]
     },
     "execution_count": 12,
     "metadata": {},
     "output_type": "execute_result"
    }
   ],
   "source": [
    "solution(3, 12)"
   ]
  },
  {
   "cell_type": "code",
   "execution_count": 13,
   "id": "16b8d4ac",
   "metadata": {},
   "outputs": [
    {
     "data": {
      "text/plain": [
       "[1, 10]"
      ]
     },
     "execution_count": 13,
     "metadata": {},
     "output_type": "execute_result"
    }
   ],
   "source": [
    "solution(2, 5)"
   ]
  },
  {
   "cell_type": "code",
   "execution_count": 14,
   "id": "e9cfb476",
   "metadata": {
    "scrolled": true
   },
   "outputs": [
    {
     "data": {
      "text/plain": [
       "[4, 24]"
      ]
     },
     "execution_count": 14,
     "metadata": {},
     "output_type": "execute_result"
    }
   ],
   "source": [
    "solution(8, 12)"
   ]
  },
  {
   "cell_type": "markdown",
   "id": "60a28012",
   "metadata": {},
   "source": [
    "## Solution 3"
   ]
  },
  {
   "cell_type": "code",
   "execution_count": 17,
   "id": "e7114eb3",
   "metadata": {},
   "outputs": [],
   "source": [
    "def solution(n, m):\n",
    "    gcd = lambda a, b : b if not a % b else gcd(b, a%b)\n",
    "    lcm = lambda a, b : a  *b // gcd(a,b)\n",
    "    return [gcd(n, m), lcm(n, m)]"
   ]
  },
  {
   "cell_type": "code",
   "execution_count": 18,
   "id": "15f3f5f3",
   "metadata": {},
   "outputs": [
    {
     "data": {
      "text/plain": [
       "[3, 12]"
      ]
     },
     "execution_count": 18,
     "metadata": {},
     "output_type": "execute_result"
    }
   ],
   "source": [
    "solution(3, 12)"
   ]
  },
  {
   "cell_type": "code",
   "execution_count": 19,
   "id": "4a7e76b5",
   "metadata": {},
   "outputs": [
    {
     "data": {
      "text/plain": [
       "[1, 10]"
      ]
     },
     "execution_count": 19,
     "metadata": {},
     "output_type": "execute_result"
    }
   ],
   "source": [
    "solution(2, 5)"
   ]
  },
  {
   "cell_type": "code",
   "execution_count": 20,
   "id": "0d4d336c",
   "metadata": {},
   "outputs": [
    {
     "data": {
      "text/plain": [
       "[4, 24]"
      ]
     },
     "execution_count": 20,
     "metadata": {},
     "output_type": "execute_result"
    }
   ],
   "source": [
    "solution(8, 12)"
   ]
  }
 ],
 "metadata": {
  "kernelspec": {
   "display_name": "Python 3 (ipykernel)",
   "language": "python",
   "name": "python3"
  },
  "language_info": {
   "codemirror_mode": {
    "name": "ipython",
    "version": 3
   },
   "file_extension": ".py",
   "mimetype": "text/x-python",
   "name": "python",
   "nbconvert_exporter": "python",
   "pygments_lexer": "ipython3",
   "version": "3.9.15"
  }
 },
 "nbformat": 4,
 "nbformat_minor": 5
}

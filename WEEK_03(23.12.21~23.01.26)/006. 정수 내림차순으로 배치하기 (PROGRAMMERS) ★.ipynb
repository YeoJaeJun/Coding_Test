{
 "cells": [
  {
   "cell_type": "markdown",
   "id": "80d4daab",
   "metadata": {},
   "source": [
    "# 006. 정수 내림차순으로 배치하기 (PROGRAMMERS) ★"
   ]
  },
  {
   "cell_type": "markdown",
   "id": "0fe534db",
   "metadata": {},
   "source": [
    "- https://school.programmers.co.kr/learn/courses/30/lessons/12933"
   ]
  },
  {
   "cell_type": "markdown",
   "id": "6612b4b4",
   "metadata": {},
   "source": [
    "### 문제 설명\n",
    "- 함수 solution은 정수 n을 매개변수로 입력받습니다. n의 각 자릿수를 큰것부터 작은 순으로 정렬한 새로운 정수를 리턴해주세요. 예를들어 n이 118372면 873211을 리턴하면 됩니다.\n",
    "\n",
    "### 제한 사항\n",
    "- n은 1이상 8000000000 이하인 자연수입니다.\n",
    "\n",
    "### 입출력 예\n",
    "|n|return|\n",
    "|-|-|\n",
    "|118372|873211|"
   ]
  },
  {
   "cell_type": "markdown",
   "id": "0b9959fc",
   "metadata": {},
   "source": [
    "## Solution 1"
   ]
  },
  {
   "cell_type": "code",
   "execution_count": 37,
   "id": "ce7bb353",
   "metadata": {},
   "outputs": [],
   "source": [
    "def solution(n):\n",
    "    num = []\n",
    "    for i in range(len(str(n))):\n",
    "        num.append(str(n)[i])\n",
    "    num.sort(reverse = True)\n",
    "    \n",
    "    s = ''\n",
    "    for i in range(len(num)):\n",
    "        s += num[i]\n",
    "    \n",
    "    return int(s)"
   ]
  },
  {
   "cell_type": "code",
   "execution_count": 38,
   "id": "bae0227e",
   "metadata": {
    "scrolled": true
   },
   "outputs": [
    {
     "data": {
      "text/plain": [
       "873211"
      ]
     },
     "execution_count": 38,
     "metadata": {},
     "output_type": "execute_result"
    }
   ],
   "source": [
    "solution(118372)"
   ]
  },
  {
   "cell_type": "markdown",
   "id": "80270951",
   "metadata": {},
   "source": [
    "## Solution 2 - join() 사용"
   ]
  },
  {
   "cell_type": "code",
   "execution_count": 51,
   "id": "1c9fc7a2",
   "metadata": {},
   "outputs": [],
   "source": [
    "def solution(n):\n",
    "    lst = list(str(n))\n",
    "    lst.sort(reverse = True)\n",
    "    return int(''.join(lst))"
   ]
  },
  {
   "cell_type": "code",
   "execution_count": 52,
   "id": "0d5f7cb1",
   "metadata": {},
   "outputs": [
    {
     "data": {
      "text/plain": [
       "873211"
      ]
     },
     "execution_count": 52,
     "metadata": {},
     "output_type": "execute_result"
    }
   ],
   "source": [
    "solution(118372)"
   ]
  },
  {
   "cell_type": "markdown",
   "id": "97621838",
   "metadata": {},
   "source": [
    "## Solution 3 - 한 줄로 풀어보기"
   ]
  },
  {
   "cell_type": "code",
   "execution_count": 1,
   "id": "f467d7e8",
   "metadata": {},
   "outputs": [],
   "source": [
    "def solution(n):\n",
    "    return int( ''.join( sorted(list(str(n)), reverse = True) ) )"
   ]
  },
  {
   "cell_type": "code",
   "execution_count": 2,
   "id": "cb0dc5f7",
   "metadata": {},
   "outputs": [
    {
     "data": {
      "text/plain": [
       "873211"
      ]
     },
     "execution_count": 2,
     "metadata": {},
     "output_type": "execute_result"
    }
   ],
   "source": [
    "solution(118372)"
   ]
  }
 ],
 "metadata": {
  "kernelspec": {
   "display_name": "Python 3 (ipykernel)",
   "language": "python",
   "name": "python3"
  },
  "language_info": {
   "codemirror_mode": {
    "name": "ipython",
    "version": 3
   },
   "file_extension": ".py",
   "mimetype": "text/x-python",
   "name": "python",
   "nbconvert_exporter": "python",
   "pygments_lexer": "ipython3",
   "version": "3.9.15"
  }
 },
 "nbformat": 4,
 "nbformat_minor": 5
}

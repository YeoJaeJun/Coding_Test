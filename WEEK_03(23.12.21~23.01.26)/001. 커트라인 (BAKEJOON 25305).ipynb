{
 "cells": [
  {
   "cell_type": "markdown",
   "id": "d9e86637",
   "metadata": {},
   "source": [
    "# 001. 커트라인 (BAKEJOON 25305)"
   ]
  },
  {
   "cell_type": "markdown",
   "id": "f00d4b0e",
   "metadata": {},
   "source": [
    "- https://www.acmicpc.net/problem/25305"
   ]
  },
  {
   "cell_type": "markdown",
   "id": "73933140",
   "metadata": {},
   "source": [
    "### 문제\n",
    "- 2022 연세대학교 미래캠퍼스 슬기로운 코딩생활에 N명의 학생들이 응시했다. 이들 중 점수가 가장 높은 k명은 상을 받을 것이다. 이 때, 상을 받는 커트라인이 몇 점인지 구하라. 커트라인이란 상을 받는 사람들 중 점수가 가장 가장 낮은 사람의 점수를 말한다.\n",
    "\n",
    "### 입력\n",
    "- 첫째 줄에는 응시자의 수 N과 상을 받는 사람의 수 k가 공백을 사이에 두고 주어진다.\n",
    "- 둘째 줄에는 각 학생의 점수 x가 공백을 사이에 두고 주어진다.\n",
    "\n",
    "### 출력\n",
    "- 상을 받는 커트라인을 출력하라."
   ]
  },
  {
   "cell_type": "markdown",
   "id": "245d72f4",
   "metadata": {},
   "source": [
    "## Solution 1"
   ]
  },
  {
   "cell_type": "code",
   "execution_count": 6,
   "id": "d9aa86b7",
   "metadata": {},
   "outputs": [
    {
     "name": "stdout",
     "output_type": "stream",
     "text": [
      "5 2\n",
      "100 76 85 93 98\n",
      "98\n"
     ]
    }
   ],
   "source": [
    "N, k = map(int, input().split())\n",
    "numbers = sorted(list(map(int, input().split())), reverse = True)\n",
    "print(numbers[k-1])"
   ]
  }
 ],
 "metadata": {
  "kernelspec": {
   "display_name": "Python 3 (ipykernel)",
   "language": "python",
   "name": "python3"
  },
  "language_info": {
   "codemirror_mode": {
    "name": "ipython",
    "version": 3
   },
   "file_extension": ".py",
   "mimetype": "text/x-python",
   "name": "python",
   "nbconvert_exporter": "python",
   "pygments_lexer": "ipython3",
   "version": "3.9.15"
  }
 },
 "nbformat": 4,
 "nbformat_minor": 5
}

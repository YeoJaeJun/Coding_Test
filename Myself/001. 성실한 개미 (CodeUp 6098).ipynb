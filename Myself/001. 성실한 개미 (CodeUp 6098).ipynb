{
 "cells": [
  {
   "cell_type": "markdown",
   "id": "8a2d9f4a",
   "metadata": {},
   "source": [
    "# 001. 성실한 개미 (CodeUp 6098)"
   ]
  },
  {
   "cell_type": "markdown",
   "id": "39e39ae9",
   "metadata": {},
   "source": [
    "- https://codeup.kr/problem.php?id=6098&rid=0"
   ]
  },
  {
   "cell_type": "markdown",
   "id": "0e61516f",
   "metadata": {},
   "source": [
    "### 문제 설명\n",
    "- 영일이는 생명과학에 관심이 생겨 왕개미를 연구하고 있었다.\n",
    "- 왕개미를 유심히 살펴보던 중 특별히 성실해 보이는 개미가 있었는데, 그 개미는 개미굴에서 나와 먹이까지 가장 빠른 길로 이동하는 것이었다.\n",
    "- 개미는 오른쪽으로 움직이다가 벽을 만나면 아래쪽으로 움직여 가장 빠른 길로 움직였다. (오른쪽에 길이 나타나면 다시 오른쪽으로 움직인다.)\n",
    "- 이에 호기심이 생긴 영일이는 그 개미를 미로 상자에 넣고 살펴보기 시작하였다.\n",
    "- 미로 상자에 넣은 개미는 먹이를 찾았거나, 더 이상 움직일 수 없을 때까지 오른쪽 또는 아래쪽으로만 움직였다.\n",
    "- 미로 상자의 구조가 0(갈 수 있는 곳), 1(벽 또는 장애물)로 주어지고, 먹이가 2로 주어질 때, 성실한 개미의 이동 경로를 예상해보자.\n",
    "- 단, 맨 아래의 가장 오른쪽에 도착한 경우, 더 이상 움직일 수 없는 경우, 먹이를 찾은 경우에는 더이상 이동하지 않고 그 곳에 머무른다고 가정한다.\n",
    "- 미로 상자의 테두리는 모두 벽으로 되어 있으며, 개미집은 반드시 (2, 2)에 존재하기 때문에 개미는 (2, 2)에서 출발한다.\n",
    "\n",
    "### 입력\n",
    "- 10*10 크기의 미로 상자의 구조와 먹이의 위치가 입력된다.\n",
    "\n",
    "### 출력\n",
    "- 성실한 개미가 이동한 경로를 9로 표시해 출력한다.\n",
    "\n",
    "### 입력 예시\n",
    "1 1 1 1 1 1 1 1 1 1\n",
    "1 0 0 1 0 0 0 0 0 1\n",
    "1 0 0 1 1 1 0 0 0 1\n",
    "1 0 0 0 0 0 0 1 0 1\n",
    "1 0 0 0 0 0 0 1 0 1\n",
    "1 0 0 0 0 1 0 1 0 1\n",
    "1 0 0 0 0 1 2 1 0 1\n",
    "1 0 0 0 0 1 0 0 0 1\n",
    "1 0 0 0 0 0 0 0 0 1\n",
    "1 1 1 1 1 1 1 1 1 1\n",
    "\n",
    "### 출력 예시\n",
    "1 1 1 1 1 1 1 1 1 1\n",
    "1 9 9 1 0 0 0 0 0 1\n",
    "1 0 9 1 1 1 0 0 0 1\n",
    "1 0 9 9 9 9 9 1 0 1\n",
    "1 0 0 0 0 0 9 1 0 1\n",
    "1 0 0 0 0 1 9 1 0 1\n",
    "1 0 0 0 0 1 9 1 0 1\n",
    "1 0 0 0 0 1 0 0 0 1\n",
    "1 0 0 0 0 0 0 0 0 1\n",
    "1 1 1 1 1 1 1 1 1 1"
   ]
  },
  {
   "cell_type": "markdown",
   "id": "e1795aef",
   "metadata": {},
   "source": [
    "## Solution 1 - 재귀함수 사용"
   ]
  },
  {
   "cell_type": "markdown",
   "id": "17a35373",
   "metadata": {},
   "source": [
    "### 제출용"
   ]
  },
  {
   "cell_type": "code",
   "execution_count": 39,
   "id": "08823493",
   "metadata": {},
   "outputs": [],
   "source": [
    "def maze_print(maze):\n",
    "    for i in range(10):\n",
    "        for j in range(10):\n",
    "            print(maze[i][j], end = ' ')\n",
    "        print()\n",
    "\n",
    "\n",
    "\n",
    "def ant_move(maze, ant_r, ant_c):\n",
    "    \n",
    "    maze[ant_r][ant_c] = 9\n",
    "    \n",
    "    if maze[ant_r][ant_c + 1] == 0:\n",
    "        ant_c += 1\n",
    "    elif maze[ant_r][ant_c + 1] == 2:\n",
    "        ant_c += 1\n",
    "        maze[ant_r][ant_c] = 9\n",
    "        return maze_print(maze)\n",
    "    else:\n",
    "        if maze[ant_r + 1][ant_c] == 0:\n",
    "            ant_r += 1\n",
    "        elif maze[ant_r + 1][ant_c] == 2:\n",
    "            ant_r += 1\n",
    "            maze[ant_r][ant_c] = 9\n",
    "            return maze_print(maze)\n",
    "        else:\n",
    "            return maze_print(maze)\n",
    "    \n",
    "    return ant_move(maze, ant_r, ant_c)"
   ]
  },
  {
   "cell_type": "code",
   "execution_count": null,
   "id": "daceb132",
   "metadata": {},
   "outputs": [],
   "source": [
    "maze = []\n",
    "\n",
    "for i in range(10):\n",
    "    maze.append(list(map(int, input().split())))\n",
    "    \n",
    "ant_r, ant_c = 1, 1\n",
    "\n",
    "ant_move(maze, ant_r, ant_c)"
   ]
  },
  {
   "cell_type": "markdown",
   "id": "59cefe30",
   "metadata": {},
   "source": [
    "### test용"
   ]
  },
  {
   "cell_type": "code",
   "execution_count": 46,
   "id": "ae217ca8",
   "metadata": {},
   "outputs": [],
   "source": [
    "def maze_print(maze):\n",
    "    for i in range(10):\n",
    "        for j in range(10):\n",
    "            print(f'{maze[i][j]}  ', end = '')\n",
    "        print()\n",
    "\n",
    "\n",
    "def ant_move(maze, ant_r, ant_c):\n",
    "    \n",
    "    maze[ant_r][ant_c] = '■'\n",
    "    \n",
    "    if maze[ant_r][ant_c + 1] == 0:\n",
    "        ant_c += 1\n",
    "    elif maze[ant_r][ant_c + 1] == 2:\n",
    "        ant_c += 1\n",
    "        maze[ant_r][ant_c] = '■'\n",
    "        return maze_print(maze)\n",
    "    else:\n",
    "        if maze[ant_r + 1][ant_c] == 0:\n",
    "            ant_r += 1\n",
    "        elif maze[ant_r + 1][ant_c] == 2:\n",
    "            ant_r += 1\n",
    "            maze[ant_r][ant_c] = '■'\n",
    "            return maze_print(maze)\n",
    "        else:\n",
    "            return maze_print(maze)\n",
    "    \n",
    "    return ant_move(maze, ant_r, ant_c)"
   ]
  },
  {
   "cell_type": "code",
   "execution_count": 5,
   "id": "bd0eab21",
   "metadata": {},
   "outputs": [
    {
     "name": "stdout",
     "output_type": "stream",
     "text": [
      "1 1 1 1 1 1 1 1 1 1\n",
      "1 0 0 1 0 0 0 0 0 1\n",
      "1 0 0 1 1 1 0 0 0 1\n",
      "1 0 0 0 0 0 0 1 0 1\n",
      "1 0 0 0 0 0 0 1 0 1\n",
      "1 0 0 0 0 1 0 1 0 1\n",
      "1 0 0 0 0 1 2 1 0 1\n",
      "1 0 0 0 0 1 0 0 0 1\n",
      "1 0 0 0 0 0 0 0 0 1\n",
      "1 1 1 1 1 1 1 1 1 1\n",
      "[[1, 1, 1, 1, 1, 1, 1, 1, 1, 1], [1, 9, 9, 1, 0, 0, 0, 0, 0, 1], [1, 0, 9, 1, 1, 1, 0, 0, 0, 1], [1, 0, 9, 9, 9, 9, 9, 1, 0, 1], [1, 0, 0, 0, 0, 0, 9, 1, 0, 1], [1, 0, 0, 0, 0, 1, 9, 1, 0, 1], [1, 0, 0, 0, 0, 1, 2, 1, 0, 1], [1, 0, 0, 0, 0, 1, 0, 0, 0, 1], [1, 0, 0, 0, 0, 0, 0, 0, 0, 1], [1, 1, 1, 1, 1, 1, 1, 1, 1, 1]]\n"
     ]
    }
   ],
   "source": [
    "# maze = []\n",
    "# \n",
    "# for i in range(10):\n",
    "#     maze.append(list(map(int, input().split())))\n",
    "    \n",
    "ant_r, ant_c = 1, 1\n",
    "\n",
    "ant_move(maze, ant_r, ant_c)"
   ]
  },
  {
   "cell_type": "code",
   "execution_count": 47,
   "id": "9c36d1db",
   "metadata": {
    "scrolled": true
   },
   "outputs": [
    {
     "name": "stdout",
     "output_type": "stream",
     "text": [
      "1  1  1  1  1  1  1  1  1  1  \n",
      "1  ■  ■  1  0  0  0  0  0  1  \n",
      "1  0  ■  1  1  1  0  0  0  1  \n",
      "1  0  ■  ■  ■  ■  ■  1  0  1  \n",
      "1  0  0  0  0  0  ■  1  0  1  \n",
      "1  0  0  0  0  1  ■  1  0  1  \n",
      "1  0  0  0  0  1  ■  1  0  1  \n",
      "1  0  0  0  0  1  0  0  0  1  \n",
      "1  0  0  0  0  0  0  0  0  1  \n",
      "1  1  1  1  1  1  1  1  1  1  \n"
     ]
    }
   ],
   "source": [
    "maze = [[1, 1, 1, 1, 1, 1, 1, 1, 1, 1],\n",
    " [1, 0, 0, 1, 0, 0, 0, 0, 0, 1],\n",
    " [1, 0, 0, 1, 1, 1, 0, 0, 0, 1],\n",
    " [1, 0, 0, 0, 0, 0, 0, 1, 0, 1],\n",
    " [1, 0, 0, 0, 0, 0, 0, 1, 0, 1],\n",
    " [1, 0, 0, 0, 0, 1, 0, 1, 0, 1],\n",
    " [1, 0, 0, 0, 0, 1, 2, 1, 0, 1],\n",
    " [1, 0, 0, 0, 0, 1, 0, 0, 0, 1],\n",
    " [1, 0, 0, 0, 0, 0, 0, 0, 0, 1],\n",
    " [1, 1, 1, 1, 1, 1, 1, 1, 1, 1]]\n",
    "\n",
    "ant_r, ant_c = 1, 1\n",
    "\n",
    "ant_move(maze, ant_r, ant_c)"
   ]
  }
 ],
 "metadata": {
  "kernelspec": {
   "display_name": "Python 3 (ipykernel)",
   "language": "python",
   "name": "python3"
  },
  "language_info": {
   "codemirror_mode": {
    "name": "ipython",
    "version": 3
   },
   "file_extension": ".py",
   "mimetype": "text/x-python",
   "name": "python",
   "nbconvert_exporter": "python",
   "pygments_lexer": "ipython3",
   "version": "3.9.15"
  }
 },
 "nbformat": 4,
 "nbformat_minor": 5
}

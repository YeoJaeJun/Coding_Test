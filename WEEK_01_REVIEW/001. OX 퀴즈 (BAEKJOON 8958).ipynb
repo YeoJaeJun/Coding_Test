{
 "cells": [
  {
   "cell_type": "markdown",
   "id": "019bded8",
   "metadata": {},
   "source": [
    "# 001. OX 퀴즈 (BAEKJOON 8958)"
   ]
  },
  {
   "cell_type": "markdown",
   "id": "5d0db19c",
   "metadata": {},
   "source": [
    "- BAEKJOON 8958 https://www.acmicpc.net/problem/8958"
   ]
  },
  {
   "cell_type": "markdown",
   "id": "eb30fdbc",
   "metadata": {},
   "source": [
    "### 문제\n",
    "- \"OOXXOXXOOO\"와 같은 OX퀴즈의 결과가 있다. O는 문제를 맞은 것이고, X는 문제를 틀린 것이다. 문제를 맞은 경우 그 문제의 점수는 그 문제까지 연속된 O의 개수가 된다. 예를 들어, 10번 문제의 점수는 3이 된다.\n",
    "- \"OOXXOXXOOO\"의 점수는 1+2+0+0+1+0+0+1+2+3 = 10점이다.\n",
    "- OX퀴즈의 결과가 주어졌을 때, 점수를 구하는 프로그램을 작성하시오.\n",
    "\n",
    "### 입력\n",
    "- 첫째 줄에 테스트 케이스의 개수가 주어진다. 각 테스트 케이스는 한 줄로 이루어져 있고, 길이가 0보다 크고 80보다 작은 문자열이 주어진다. 문자열은 O와 X만으로 이루어져 있다.\n",
    "\n",
    "### 출력\n",
    "- 각 테스트 케이스마다 점수를 출력한다."
   ]
  },
  {
   "cell_type": "markdown",
   "id": "537d066e",
   "metadata": {},
   "source": [
    "## 방법 1. list 활용"
   ]
  },
  {
   "cell_type": "code",
   "execution_count": 6,
   "id": "dc9f8075",
   "metadata": {},
   "outputs": [
    {
     "name": "stdout",
     "output_type": "stream",
     "text": [
      "5\n",
      "OOXXOXXOOO\n",
      "10\n",
      "OOXXOOXXOO\n",
      "9\n",
      "OXOXOXOXOXOXOX\n",
      "7\n",
      "OOOOOOOOOO\n",
      "55\n",
      "OOOOXOOOOXOOOOX\n",
      "30\n"
     ]
    }
   ],
   "source": [
    "n = int(input())\n",
    "\n",
    "for _ in range(n):\n",
    "    ox = input()\n",
    "    score_list = []\n",
    "    score = 0\n",
    "    for i in range(len(ox)):\n",
    "        if ox[i] == 'O':\n",
    "            score += 1\n",
    "            score_list.append(score)\n",
    "        else:\n",
    "            score = 0\n",
    "    print(sum(score_list))"
   ]
  },
  {
   "cell_type": "markdown",
   "id": "eda55afb",
   "metadata": {},
   "source": [
    "# 방법 2. list 활용 X"
   ]
  },
  {
   "cell_type": "code",
   "execution_count": 1,
   "id": "3bc51621",
   "metadata": {},
   "outputs": [
    {
     "name": "stdout",
     "output_type": "stream",
     "text": [
      "5\n",
      "OOXXOXXOOO\n",
      "10\n",
      "OOXXOOXXOO\n",
      "9\n",
      "OXOXOXOXOXOXOX\n",
      "7\n",
      "OOOOOOOOOO\n",
      "55\n",
      "OOOOXOOOOXOOOOX\n",
      "30\n"
     ]
    }
   ],
   "source": [
    "n = int(input())\n",
    "\n",
    "for _ in range(n):\n",
    "    ox = input()\n",
    "    score = 0\n",
    "    score_sum = 0\n",
    "    for i in range(len(ox)):\n",
    "        if ox[i] == 'O':\n",
    "            score += 1\n",
    "            score_sum += score\n",
    "        else:\n",
    "            score = 0\n",
    "            \n",
    "    print(score_sum)"
   ]
  }
 ],
 "metadata": {
  "kernelspec": {
   "display_name": "Python 3 (ipykernel)",
   "language": "python",
   "name": "python3"
  },
  "language_info": {
   "codemirror_mode": {
    "name": "ipython",
    "version": 3
   },
   "file_extension": ".py",
   "mimetype": "text/x-python",
   "name": "python",
   "nbconvert_exporter": "python",
   "pygments_lexer": "ipython3",
   "version": "3.9.15"
  }
 },
 "nbformat": 4,
 "nbformat_minor": 5
}

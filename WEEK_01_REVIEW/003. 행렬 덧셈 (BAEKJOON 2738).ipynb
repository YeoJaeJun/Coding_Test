{
 "cells": [
  {
   "cell_type": "markdown",
   "id": "cf30546d",
   "metadata": {},
   "source": [
    "# 003. 행렬 덧셈 (BAEKJOON 2738)"
   ]
  },
  {
   "cell_type": "markdown",
   "id": "14ff1fdb",
   "metadata": {},
   "source": [
    "- BAEKJOON 2738 https://www.acmicpc.net/problem/2738"
   ]
  },
  {
   "cell_type": "markdown",
   "id": "76613f28",
   "metadata": {},
   "source": [
    "### 문제\n",
    "- N*M크기의 두 행렬 A와 B가 주어졌을 때, 두 행렬을 더하는 프로그램을 작성하시오.\n",
    "\n",
    "### 입력\n",
    "- 첫째 줄에 행렬의 크기 N 과 M이 주어진다. 둘째 줄부터 N개의 줄에 행렬 A의 원소 M개가 차례대로 주어진다. 이어서 N개의 줄에 행렬 B의 원소 M개가 차례대로 주어진다. N과 M은 100보다 작거나 같고, 행렬의 원소는 절댓값이 100보다 작거나 같은 정수이다.\n",
    "\n",
    "### 출력\n",
    "- 첫째 줄부터 N개의 줄에 행렬 A와 B를 더한 행렬을 출력한다. 행렬의 각 원소는 공백으로 구분한다."
   ]
  },
  {
   "cell_type": "markdown",
   "id": "e0044940",
   "metadata": {},
   "source": [
    "## 방법 1."
   ]
  },
  {
   "cell_type": "code",
   "execution_count": 3,
   "id": "b63576b3",
   "metadata": {
    "scrolled": true
   },
   "outputs": [
    {
     "name": "stdout",
     "output_type": "stream",
     "text": [
      "3 3\n",
      "1 1 1\n",
      "2 2 2\n",
      "0 1 0\n",
      "3 3 3\n",
      "4 4 4\n",
      "5 5 100\n",
      "4 4 4 \n",
      "6 6 6 \n",
      "5 6 100 "
     ]
    }
   ],
   "source": [
    "N, M = map( int, input().split() )\n",
    "\n",
    "matrix_A = []\n",
    "for _ in range(N):\n",
    "    matrix_A.append( list( map(int, input().split()) ) )\n",
    "\n",
    "matrix_B = []\n",
    "for _ in range(N):\n",
    "    matrix_B.append( list( map(int, input().split()) ) )\n",
    "\n",
    "matrix_sum = []\n",
    "for i in range(N):\n",
    "    for j in range(M):\n",
    "        matrix_sum.append(matrix_A[i][j] + matrix_B[i][j])\n",
    "\n",
    "for i in range(N * M):\n",
    "    if i in [ N * v for v in range(1, M) ]:\n",
    "        print()\n",
    "    print(matrix_sum[i], end = ' ')"
   ]
  }
 ],
 "metadata": {
  "kernelspec": {
   "display_name": "Python 3 (ipykernel)",
   "language": "python",
   "name": "python3"
  },
  "language_info": {
   "codemirror_mode": {
    "name": "ipython",
    "version": 3
   },
   "file_extension": ".py",
   "mimetype": "text/x-python",
   "name": "python",
   "nbconvert_exporter": "python",
   "pygments_lexer": "ipython3",
   "version": "3.9.13"
  }
 },
 "nbformat": 4,
 "nbformat_minor": 5
}
